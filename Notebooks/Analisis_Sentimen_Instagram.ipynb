{
  "nbformat": 4,
  "nbformat_minor": 0,
  "metadata": {
    "colab": {
      "provenance": [],
      "gpuType": "T4",
      "toc_visible": true
    },
    "kernelspec": {
      "name": "python3",
      "display_name": "Python 3"
    },
    "language_info": {
      "name": "python"
    },
    "accelerator": "GPU"
  },
  "cells": [
    {
      "cell_type": "markdown",
      "source": [
        "# **Analisis Hasil Data Scraping Proyek Fundamental Deep Learning**\n",
        "\n"
      ],
      "metadata": {
        "id": "2nCfsH7LnFeD"
      }
    },
    {
      "cell_type": "markdown",
      "source": [
        "Nama: Theodorus Andang Jatmiko\n",
        "\n",
        "Email: theodorusaj@student.ub.ac.id\n",
        "\n",
        "ID Dicoding: MC006D5Y1490"
      ],
      "metadata": {
        "id": "ZtUPyiywnL7a"
      }
    },
    {
      "cell_type": "markdown",
      "source": [
        "## **Import Semua Packages/Library yang Digunakan**"
      ],
      "metadata": {
        "id": "32t1Lh0fgGmM"
      }
    },
    {
      "cell_type": "code",
      "execution_count": 1,
      "metadata": {
        "colab": {
          "base_uri": "https://localhost:8080/"
        },
        "id": "4U5hQ7monAEm",
        "outputId": "8ae83395-557f-41ef-ac16-d89a32c4543a"
      },
      "outputs": [
        {
          "output_type": "stream",
          "name": "stdout",
          "text": [
            "Requirement already satisfied: Sastrawi in /usr/local/lib/python3.11/dist-packages (1.0.1)\n"
          ]
        }
      ],
      "source": [
        "!pip install Sastrawi"
      ]
    },
    {
      "cell_type": "code",
      "source": [
        "!pip install --quiet gdown"
      ],
      "metadata": {
        "id": "lXAf7_NTn0h6"
      },
      "execution_count": 2,
      "outputs": []
    },
    {
      "cell_type": "code",
      "source": [
        "import pandas as pd\n",
        "import numpy as np\n",
        "import matplotlib.pyplot as plt\n",
        "import seaborn as sns\n",
        "import re\n",
        "import string\n",
        "import json\n",
        "import requests\n",
        "import pickle\n",
        "import ast\n",
        "import os\n",
        "import gdown\n",
        "import nltk"
      ],
      "metadata": {
        "id": "RBSOoMOIn2x7"
      },
      "execution_count": 3,
      "outputs": []
    },
    {
      "cell_type": "code",
      "source": [
        "# Pastikan nltk package di-download\n",
        "nltk.download('stopwords')\n",
        "nltk.download('punkt', quiet=False)\n",
        "nltk.downloader.download('vader_lexicon')"
      ],
      "metadata": {
        "colab": {
          "base_uri": "https://localhost:8080/"
        },
        "id": "Vfb0QeAYn5R6",
        "outputId": "75447d55-954b-4c12-c823-b2a051d2e570"
      },
      "execution_count": 4,
      "outputs": [
        {
          "output_type": "stream",
          "name": "stderr",
          "text": [
            "[nltk_data] Downloading package stopwords to /root/nltk_data...\n",
            "[nltk_data]   Package stopwords is already up-to-date!\n",
            "[nltk_data] Downloading package punkt to /root/nltk_data...\n",
            "[nltk_data]   Package punkt is already up-to-date!\n",
            "[nltk_data] Downloading package vader_lexicon to /root/nltk_data...\n",
            "[nltk_data]   Package vader_lexicon is already up-to-date!\n"
          ]
        },
        {
          "output_type": "execute_result",
          "data": {
            "text/plain": [
              "True"
            ]
          },
          "metadata": {},
          "execution_count": 4
        }
      ]
    },
    {
      "cell_type": "code",
      "source": [
        "# Untuk analisis teks dan sentimen sederhana\n",
        "from nltk.corpus import stopwords\n",
        "from wordcloud import WordCloud\n",
        "from sklearn.model_selection import train_test_split, GridSearchCV\n",
        "from sklearn.feature_extraction.text import TfidfVectorizer, CountVectorizer\n",
        "from sklearn.svm import SVC\n",
        "from sklearn.metrics import accuracy_score, precision_score, classification_report, confusion_matrix, roc_curve, auc\n",
        "from sklearn.ensemble import RandomForestClassifier\n",
        "from sklearn.preprocessing import LabelEncoder, StandardScaler\n",
        "from Sastrawi.StopWordRemover.StopWordRemoverFactory import StopWordRemoverFactory\n",
        "from Sastrawi.Stemmer.StemmerFactory import StemmerFactory\n",
        "from nltk.sentiment.vader import SentimentIntensityAnalyzer\n",
        "from nltk.tokenize import word_tokenize\n",
        "from ast import literal_eval"
      ],
      "metadata": {
        "id": "IGFQD1SYn8Vi"
      },
      "execution_count": 5,
      "outputs": []
    },
    {
      "cell_type": "code",
      "source": [
        "!pip install numpy==1.26.4"
      ],
      "metadata": {
        "colab": {
          "base_uri": "https://localhost:8080/"
        },
        "id": "GODKjPtQn-Ti",
        "outputId": "58017735-d7e5-499b-f1dc-d6989f87bed1"
      },
      "execution_count": 6,
      "outputs": [
        {
          "output_type": "stream",
          "name": "stdout",
          "text": [
            "Requirement already satisfied: numpy==1.26.4 in /usr/local/lib/python3.11/dist-packages (1.26.4)\n"
          ]
        }
      ]
    },
    {
      "cell_type": "code",
      "source": [
        "!pip install --no-deps tensorflow==2.18.0"
      ],
      "metadata": {
        "colab": {
          "base_uri": "https://localhost:8080/"
        },
        "id": "KNpsynBBoBPK",
        "outputId": "eebad7ae-245a-4cad-8173-79c269ef613f"
      },
      "execution_count": 7,
      "outputs": [
        {
          "output_type": "stream",
          "name": "stdout",
          "text": [
            "Requirement already satisfied: tensorflow==2.18.0 in /usr/local/lib/python3.11/dist-packages (2.18.0)\n"
          ]
        }
      ]
    },
    {
      "cell_type": "code",
      "source": [
        "import sys\n",
        "print(sys.version)"
      ],
      "metadata": {
        "colab": {
          "base_uri": "https://localhost:8080/"
        },
        "id": "Oapz4uLboFtK",
        "outputId": "1f8b929c-2a60-45e3-b208-6234724cc705"
      },
      "execution_count": 8,
      "outputs": [
        {
          "output_type": "stream",
          "name": "stdout",
          "text": [
            "3.11.13 (main, Jun  4 2025, 08:57:29) [GCC 11.4.0]\n"
          ]
        }
      ]
    },
    {
      "cell_type": "code",
      "source": [
        "import tensorflow as tf"
      ],
      "metadata": {
        "id": "-G2IHlv-oHoS"
      },
      "execution_count": 9,
      "outputs": []
    },
    {
      "cell_type": "code",
      "source": [
        "from tensorflow.keras.preprocessing.text import Tokenizer\n",
        "from tensorflow.keras.preprocessing.sequence import pad_sequences\n",
        "from tensorflow.keras.models import Sequential\n",
        "from tensorflow.keras.layers import Embedding, LSTM, Dense, Dropout, Flatten, GRU, SpatialDropout1D\n",
        "from tensorflow.keras.utils import to_categorical\n",
        "from tensorflow.keras.callbacks import EarlyStopping, Callback, ReduceLROnPlateau\n",
        "from tensorflow.keras.regularizers import l2\n",
        "from tensorflow.keras.optimizers import Adam"
      ],
      "metadata": {
        "id": "PNYhxzFAoJfq"
      },
      "execution_count": 10,
      "outputs": []
    },
    {
      "cell_type": "markdown",
      "source": [
        "## **DATA WRANGLING**"
      ],
      "metadata": {
        "id": "smmpOtkOoLxa"
      }
    },
    {
      "cell_type": "markdown",
      "source": [
        "Memuat Dataset Ulasan Aplikasi Instagram (Gathering Data)"
      ],
      "metadata": {
        "id": "KIpDHDZdgUFU"
      }
    },
    {
      "cell_type": "code",
      "source": [
        "import gdown\n",
        "\n",
        "# File ID for slangwords.txt\n",
        "file_id_slangwords = '1sF-21nA0Qc2x2Zz2XyHLbpAZMxOHVU-X'\n",
        "url_slangwords = f'https://drive.google.com/uc?export=download&id={file_id_slangwords}'\n",
        "output_slangwords = 'slangwords.txt'\n",
        "gdown.download(url_slangwords, output_slangwords, quiet=False)\n",
        "\n",
        "# File ID for positive.csv\n",
        "file_id_positive = '19LS264B4b7gRDo9NuEDRksVqjXoD-MJm'\n",
        "url_positive = f'https://drive.google.com/uc?export=download&id={file_id_positive}'\n",
        "output_positive = 'positive.csv'\n",
        "gdown.download(url_positive, output_positive, quiet=False)\n",
        "\n",
        "# File ID for negative.csv\n",
        "file_id_negative = '1kbHDx3kRk_cGrpq8RIRORdifZAjuUFz6'\n",
        "url_negative = f'https://drive.google.com/uc?export=download&id={file_id_negative}'\n",
        "output_negative = 'negative.csv'\n",
        "gdown.download(url_negative, output_negative, quiet=False)\n",
        "\n",
        "# File ID for Instagram_reviews.csv\n",
        "file_id_instagram = '1GPzUVuB9k97hFdNq-mj64nqkpXAz-dkm'\n",
        "url_instagram = f'https://drive.google.com/uc?export=download&id={file_id_instagram}'\n",
        "output_instagram = 'Instagram_reviews.csv'\n",
        "gdown.download(url_instagram, output_instagram, quiet=False)"
      ],
      "metadata": {
        "colab": {
          "base_uri": "https://localhost:8080/",
          "height": 313
        },
        "id": "0Fj5pg_zoqdy",
        "outputId": "264a9925-2e8b-43f7-968e-c87f420f08c5"
      },
      "execution_count": 11,
      "outputs": [
        {
          "output_type": "stream",
          "name": "stderr",
          "text": [
            "Downloading...\n",
            "From: https://drive.google.com/uc?export=download&id=1sF-21nA0Qc2x2Zz2XyHLbpAZMxOHVU-X\n",
            "To: /content/slangwords.txt\n",
            "100%|██████████| 42.6k/42.6k [00:00<00:00, 62.0MB/s]\n",
            "Downloading...\n",
            "From: https://drive.google.com/uc?export=download&id=19LS264B4b7gRDo9NuEDRksVqjXoD-MJm\n",
            "To: /content/positive.csv\n",
            "100%|██████████| 37.9k/37.9k [00:00<00:00, 60.0MB/s]\n",
            "Downloading...\n",
            "From: https://drive.google.com/uc?export=download&id=1kbHDx3kRk_cGrpq8RIRORdifZAjuUFz6\n",
            "To: /content/negative.csv\n",
            "100%|██████████| 76.2k/76.2k [00:00<00:00, 4.01MB/s]\n",
            "Downloading...\n",
            "From: https://drive.google.com/uc?export=download&id=1GPzUVuB9k97hFdNq-mj64nqkpXAz-dkm\n",
            "To: /content/Instagram_reviews.csv\n",
            "100%|██████████| 11.2M/11.2M [00:00<00:00, 51.7MB/s]\n"
          ]
        },
        {
          "output_type": "execute_result",
          "data": {
            "text/plain": [
              "'Instagram_reviews.csv'"
            ],
            "application/vnd.google.colaboratory.intrinsic+json": {
              "type": "string"
            }
          },
          "metadata": {},
          "execution_count": 11
        }
      ]
    },
    {
      "cell_type": "code",
      "metadata": {
        "colab": {
          "base_uri": "https://localhost:8080/",
          "height": 206
        },
        "id": "03c440e6",
        "outputId": "79b03ce8-c588-4255-da9a-9de1d92df083"
      },
      "source": [
        "import pandas as pd\n",
        "\n",
        "df = pd.read_csv('Instagram_reviews.csv')\n",
        "display(df.head())"
      ],
      "execution_count": 12,
      "outputs": [
        {
          "output_type": "display_data",
          "data": {
            "text/plain": [
              "                                             content  score\n",
              "0                                                 ok      5\n",
              "1                      sangat objektip dan memuaskan      5\n",
              "2                   baaaaaaagus sangat thnksss honey      5\n",
              "3                                               good      5\n",
              "4  Tolong dong, kok gak ada fitur saluran siaran ...      2"
            ],
            "text/html": [
              "\n",
              "  <div id=\"df-e4f815bb-5cc5-439e-adde-938f8f67560c\" class=\"colab-df-container\">\n",
              "    <div>\n",
              "<style scoped>\n",
              "    .dataframe tbody tr th:only-of-type {\n",
              "        vertical-align: middle;\n",
              "    }\n",
              "\n",
              "    .dataframe tbody tr th {\n",
              "        vertical-align: top;\n",
              "    }\n",
              "\n",
              "    .dataframe thead th {\n",
              "        text-align: right;\n",
              "    }\n",
              "</style>\n",
              "<table border=\"1\" class=\"dataframe\">\n",
              "  <thead>\n",
              "    <tr style=\"text-align: right;\">\n",
              "      <th></th>\n",
              "      <th>content</th>\n",
              "      <th>score</th>\n",
              "    </tr>\n",
              "  </thead>\n",
              "  <tbody>\n",
              "    <tr>\n",
              "      <th>0</th>\n",
              "      <td>ok</td>\n",
              "      <td>5</td>\n",
              "    </tr>\n",
              "    <tr>\n",
              "      <th>1</th>\n",
              "      <td>sangat objektip dan memuaskan</td>\n",
              "      <td>5</td>\n",
              "    </tr>\n",
              "    <tr>\n",
              "      <th>2</th>\n",
              "      <td>baaaaaaagus sangat thnksss honey</td>\n",
              "      <td>5</td>\n",
              "    </tr>\n",
              "    <tr>\n",
              "      <th>3</th>\n",
              "      <td>good</td>\n",
              "      <td>5</td>\n",
              "    </tr>\n",
              "    <tr>\n",
              "      <th>4</th>\n",
              "      <td>Tolong dong, kok gak ada fitur saluran siaran ...</td>\n",
              "      <td>2</td>\n",
              "    </tr>\n",
              "  </tbody>\n",
              "</table>\n",
              "</div>\n",
              "    <div class=\"colab-df-buttons\">\n",
              "\n",
              "  <div class=\"colab-df-container\">\n",
              "    <button class=\"colab-df-convert\" onclick=\"convertToInteractive('df-e4f815bb-5cc5-439e-adde-938f8f67560c')\"\n",
              "            title=\"Convert this dataframe to an interactive table.\"\n",
              "            style=\"display:none;\">\n",
              "\n",
              "  <svg xmlns=\"http://www.w3.org/2000/svg\" height=\"24px\" viewBox=\"0 -960 960 960\">\n",
              "    <path d=\"M120-120v-720h720v720H120Zm60-500h600v-160H180v160Zm220 220h160v-160H400v160Zm0 220h160v-160H400v160ZM180-400h160v-160H180v160Zm440 0h160v-160H620v160ZM180-180h160v-160H180v160Zm440 0h160v-160H620v160Z\"/>\n",
              "  </svg>\n",
              "    </button>\n",
              "\n",
              "  <style>\n",
              "    .colab-df-container {\n",
              "      display:flex;\n",
              "      gap: 12px;\n",
              "    }\n",
              "\n",
              "    .colab-df-convert {\n",
              "      background-color: #E8F0FE;\n",
              "      border: none;\n",
              "      border-radius: 50%;\n",
              "      cursor: pointer;\n",
              "      display: none;\n",
              "      fill: #1967D2;\n",
              "      height: 32px;\n",
              "      padding: 0 0 0 0;\n",
              "      width: 32px;\n",
              "    }\n",
              "\n",
              "    .colab-df-convert:hover {\n",
              "      background-color: #E2EBFA;\n",
              "      box-shadow: 0px 1px 2px rgba(60, 64, 67, 0.3), 0px 1px 3px 1px rgba(60, 64, 67, 0.15);\n",
              "      fill: #174EA6;\n",
              "    }\n",
              "\n",
              "    .colab-df-buttons div {\n",
              "      margin-bottom: 4px;\n",
              "    }\n",
              "\n",
              "    [theme=dark] .colab-df-convert {\n",
              "      background-color: #3B4455;\n",
              "      fill: #D2E3FC;\n",
              "    }\n",
              "\n",
              "    [theme=dark] .colab-df-convert:hover {\n",
              "      background-color: #434B5C;\n",
              "      box-shadow: 0px 1px 3px 1px rgba(0, 0, 0, 0.15);\n",
              "      filter: drop-shadow(0px 1px 2px rgba(0, 0, 0, 0.3));\n",
              "      fill: #FFFFFF;\n",
              "    }\n",
              "  </style>\n",
              "\n",
              "    <script>\n",
              "      const buttonEl =\n",
              "        document.querySelector('#df-e4f815bb-5cc5-439e-adde-938f8f67560c button.colab-df-convert');\n",
              "      buttonEl.style.display =\n",
              "        google.colab.kernel.accessAllowed ? 'block' : 'none';\n",
              "\n",
              "      async function convertToInteractive(key) {\n",
              "        const element = document.querySelector('#df-e4f815bb-5cc5-439e-adde-938f8f67560c');\n",
              "        const dataTable =\n",
              "          await google.colab.kernel.invokeFunction('convertToInteractive',\n",
              "                                                    [key], {});\n",
              "        if (!dataTable) return;\n",
              "\n",
              "        const docLinkHtml = 'Like what you see? Visit the ' +\n",
              "          '<a target=\"_blank\" href=https://colab.research.google.com/notebooks/data_table.ipynb>data table notebook</a>'\n",
              "          + ' to learn more about interactive tables.';\n",
              "        element.innerHTML = '';\n",
              "        dataTable['output_type'] = 'display_data';\n",
              "        await google.colab.output.renderOutput(dataTable, element);\n",
              "        const docLink = document.createElement('div');\n",
              "        docLink.innerHTML = docLinkHtml;\n",
              "        element.appendChild(docLink);\n",
              "      }\n",
              "    </script>\n",
              "  </div>\n",
              "\n",
              "\n",
              "    <div id=\"df-46d59c37-1712-494d-a90a-abede9041003\">\n",
              "      <button class=\"colab-df-quickchart\" onclick=\"quickchart('df-46d59c37-1712-494d-a90a-abede9041003')\"\n",
              "                title=\"Suggest charts\"\n",
              "                style=\"display:none;\">\n",
              "\n",
              "<svg xmlns=\"http://www.w3.org/2000/svg\" height=\"24px\"viewBox=\"0 0 24 24\"\n",
              "     width=\"24px\">\n",
              "    <g>\n",
              "        <path d=\"M19 3H5c-1.1 0-2 .9-2 2v14c0 1.1.9 2 2 2h14c1.1 0 2-.9 2-2V5c0-1.1-.9-2-2-2zM9 17H7v-7h2v7zm4 0h-2V7h2v10zm4 0h-2v-4h2v4z\"/>\n",
              "    </g>\n",
              "</svg>\n",
              "      </button>\n",
              "\n",
              "<style>\n",
              "  .colab-df-quickchart {\n",
              "      --bg-color: #E8F0FE;\n",
              "      --fill-color: #1967D2;\n",
              "      --hover-bg-color: #E2EBFA;\n",
              "      --hover-fill-color: #174EA6;\n",
              "      --disabled-fill-color: #AAA;\n",
              "      --disabled-bg-color: #DDD;\n",
              "  }\n",
              "\n",
              "  [theme=dark] .colab-df-quickchart {\n",
              "      --bg-color: #3B4455;\n",
              "      --fill-color: #D2E3FC;\n",
              "      --hover-bg-color: #434B5C;\n",
              "      --hover-fill-color: #FFFFFF;\n",
              "      --disabled-bg-color: #3B4455;\n",
              "      --disabled-fill-color: #666;\n",
              "  }\n",
              "\n",
              "  .colab-df-quickchart {\n",
              "    background-color: var(--bg-color);\n",
              "    border: none;\n",
              "    border-radius: 50%;\n",
              "    cursor: pointer;\n",
              "    display: none;\n",
              "    fill: var(--fill-color);\n",
              "    height: 32px;\n",
              "    padding: 0;\n",
              "    width: 32px;\n",
              "  }\n",
              "\n",
              "  .colab-df-quickchart:hover {\n",
              "    background-color: var(--hover-bg-color);\n",
              "    box-shadow: 0 1px 2px rgba(60, 64, 67, 0.3), 0 1px 3px 1px rgba(60, 64, 67, 0.15);\n",
              "    fill: var(--button-hover-fill-color);\n",
              "  }\n",
              "\n",
              "  .colab-df-quickchart-complete:disabled,\n",
              "  .colab-df-quickchart-complete:disabled:hover {\n",
              "    background-color: var(--disabled-bg-color);\n",
              "    fill: var(--disabled-fill-color);\n",
              "    box-shadow: none;\n",
              "  }\n",
              "\n",
              "  .colab-df-spinner {\n",
              "    border: 2px solid var(--fill-color);\n",
              "    border-color: transparent;\n",
              "    border-bottom-color: var(--fill-color);\n",
              "    animation:\n",
              "      spin 1s steps(1) infinite;\n",
              "  }\n",
              "\n",
              "  @keyframes spin {\n",
              "    0% {\n",
              "      border-color: transparent;\n",
              "      border-bottom-color: var(--fill-color);\n",
              "      border-left-color: var(--fill-color);\n",
              "    }\n",
              "    20% {\n",
              "      border-color: transparent;\n",
              "      border-left-color: var(--fill-color);\n",
              "      border-top-color: var(--fill-color);\n",
              "    }\n",
              "    30% {\n",
              "      border-color: transparent;\n",
              "      border-left-color: var(--fill-color);\n",
              "      border-top-color: var(--fill-color);\n",
              "      border-right-color: var(--fill-color);\n",
              "    }\n",
              "    40% {\n",
              "      border-color: transparent;\n",
              "      border-right-color: var(--fill-color);\n",
              "      border-top-color: var(--fill-color);\n",
              "    }\n",
              "    60% {\n",
              "      border-color: transparent;\n",
              "      border-right-color: var(--fill-color);\n",
              "    }\n",
              "    80% {\n",
              "      border-color: transparent;\n",
              "      border-right-color: var(--fill-color);\n",
              "      border-bottom-color: var(--fill-color);\n",
              "    }\n",
              "    90% {\n",
              "      border-color: transparent;\n",
              "      border-bottom-color: var(--fill-color);\n",
              "    }\n",
              "  }\n",
              "</style>\n",
              "\n",
              "      <script>\n",
              "        async function quickchart(key) {\n",
              "          const quickchartButtonEl =\n",
              "            document.querySelector('#' + key + ' button');\n",
              "          quickchartButtonEl.disabled = true;  // To prevent multiple clicks.\n",
              "          quickchartButtonEl.classList.add('colab-df-spinner');\n",
              "          try {\n",
              "            const charts = await google.colab.kernel.invokeFunction(\n",
              "                'suggestCharts', [key], {});\n",
              "          } catch (error) {\n",
              "            console.error('Error during call to suggestCharts:', error);\n",
              "          }\n",
              "          quickchartButtonEl.classList.remove('colab-df-spinner');\n",
              "          quickchartButtonEl.classList.add('colab-df-quickchart-complete');\n",
              "        }\n",
              "        (() => {\n",
              "          let quickchartButtonEl =\n",
              "            document.querySelector('#df-46d59c37-1712-494d-a90a-abede9041003 button');\n",
              "          quickchartButtonEl.style.display =\n",
              "            google.colab.kernel.accessAllowed ? 'block' : 'none';\n",
              "        })();\n",
              "      </script>\n",
              "    </div>\n",
              "\n",
              "    </div>\n",
              "  </div>\n"
            ],
            "application/vnd.google.colaboratory.intrinsic+json": {
              "type": "dataframe",
              "summary": "{\n  \"name\": \"display(df\",\n  \"rows\": 5,\n  \"fields\": [\n    {\n      \"column\": \"content\",\n      \"properties\": {\n        \"dtype\": \"string\",\n        \"num_unique_values\": 5,\n        \"samples\": [\n          \"sangat objektip dan memuaskan\",\n          \"Tolong dong, kok gak ada fitur saluran siaran sama aku?? Plis Ig lo kenapa?? Gue malas nyepam story di Ig woii!!\\ud83d\\ude2d\\ud83d\\ude2d edit: Alhamdulillah, udah dapet \\ud83d\\ude0b\\ud83d\\ude0b edit: pilih kasihh BANGETTT, di Ig Rp gue pada dapat semua, padahal foll nya dibawah 6k WOYYY!!\\ud83d\\ude2d ayo donggg, gue mau up au, di Ig wp GUE!!\\ud83d\\ude2d\",\n          \"baaaaaaagus sangat thnksss honey\"\n        ],\n        \"semantic_type\": \"\",\n        \"description\": \"\"\n      }\n    },\n    {\n      \"column\": \"score\",\n      \"properties\": {\n        \"dtype\": \"number\",\n        \"std\": 1,\n        \"min\": 2,\n        \"max\": 5,\n        \"num_unique_values\": 2,\n        \"samples\": [\n          2,\n          5\n        ],\n        \"semantic_type\": \"\",\n        \"description\": \"\"\n      }\n    }\n  ]\n}"
            }
          },
          "metadata": {}
        }
      ]
    },
    {
      "cell_type": "code",
      "source": [
        "print(df.shape)"
      ],
      "metadata": {
        "colab": {
          "base_uri": "https://localhost:8080/"
        },
        "id": "iMoW69wRrc8S",
        "outputId": "5a13054f-e0bd-450f-f5af-a1616d255396"
      },
      "execution_count": 13,
      "outputs": [
        {
          "output_type": "stream",
          "name": "stdout",
          "text": [
            "(243000, 2)\n"
          ]
        }
      ]
    },
    {
      "cell_type": "code",
      "source": [
        "# Mengambil sampel acak 20 ribu baris dari DataFrame df tanpa pengembalian\n",
        "df_sample = df.sample(n=20000, random_state=42)"
      ],
      "metadata": {
        "id": "v4yUv6UjriY7"
      },
      "execution_count": 14,
      "outputs": []
    },
    {
      "cell_type": "code",
      "source": [
        "df_sample.head()"
      ],
      "metadata": {
        "colab": {
          "base_uri": "https://localhost:8080/",
          "height": 206
        },
        "id": "kTOHAxLerj8D",
        "outputId": "99abe533-640f-44d8-bd99-9eb12d8eae18"
      },
      "execution_count": 15,
      "outputs": [
        {
          "output_type": "execute_result",
          "data": {
            "text/plain": [
              "                                                  content  score\n",
              "228480                                           Mantap 🔥      5\n",
              "13398   Gatau kenapa, dari kemarin tuh aku gabisa buat...      1\n",
              "149727          Dukun aku buat menjangkau bintang direels      5\n",
              "8960    ada apakah selalu for close pas mau membuka ap...      1\n",
              "200730                                               Good      5"
            ],
            "text/html": [
              "\n",
              "  <div id=\"df-6819f7a2-2f6f-4cc7-96cc-a10d48ee2a49\" class=\"colab-df-container\">\n",
              "    <div>\n",
              "<style scoped>\n",
              "    .dataframe tbody tr th:only-of-type {\n",
              "        vertical-align: middle;\n",
              "    }\n",
              "\n",
              "    .dataframe tbody tr th {\n",
              "        vertical-align: top;\n",
              "    }\n",
              "\n",
              "    .dataframe thead th {\n",
              "        text-align: right;\n",
              "    }\n",
              "</style>\n",
              "<table border=\"1\" class=\"dataframe\">\n",
              "  <thead>\n",
              "    <tr style=\"text-align: right;\">\n",
              "      <th></th>\n",
              "      <th>content</th>\n",
              "      <th>score</th>\n",
              "    </tr>\n",
              "  </thead>\n",
              "  <tbody>\n",
              "    <tr>\n",
              "      <th>228480</th>\n",
              "      <td>Mantap 🔥</td>\n",
              "      <td>5</td>\n",
              "    </tr>\n",
              "    <tr>\n",
              "      <th>13398</th>\n",
              "      <td>Gatau kenapa, dari kemarin tuh aku gabisa buat...</td>\n",
              "      <td>1</td>\n",
              "    </tr>\n",
              "    <tr>\n",
              "      <th>149727</th>\n",
              "      <td>Dukun aku buat menjangkau bintang direels</td>\n",
              "      <td>5</td>\n",
              "    </tr>\n",
              "    <tr>\n",
              "      <th>8960</th>\n",
              "      <td>ada apakah selalu for close pas mau membuka ap...</td>\n",
              "      <td>1</td>\n",
              "    </tr>\n",
              "    <tr>\n",
              "      <th>200730</th>\n",
              "      <td>Good</td>\n",
              "      <td>5</td>\n",
              "    </tr>\n",
              "  </tbody>\n",
              "</table>\n",
              "</div>\n",
              "    <div class=\"colab-df-buttons\">\n",
              "\n",
              "  <div class=\"colab-df-container\">\n",
              "    <button class=\"colab-df-convert\" onclick=\"convertToInteractive('df-6819f7a2-2f6f-4cc7-96cc-a10d48ee2a49')\"\n",
              "            title=\"Convert this dataframe to an interactive table.\"\n",
              "            style=\"display:none;\">\n",
              "\n",
              "  <svg xmlns=\"http://www.w3.org/2000/svg\" height=\"24px\" viewBox=\"0 -960 960 960\">\n",
              "    <path d=\"M120-120v-720h720v720H120Zm60-500h600v-160H180v160Zm220 220h160v-160H400v160Zm0 220h160v-160H400v160ZM180-400h160v-160H180v160Zm440 0h160v-160H620v160ZM180-180h160v-160H180v160Zm440 0h160v-160H620v160Z\"/>\n",
              "  </svg>\n",
              "    </button>\n",
              "\n",
              "  <style>\n",
              "    .colab-df-container {\n",
              "      display:flex;\n",
              "      gap: 12px;\n",
              "    }\n",
              "\n",
              "    .colab-df-convert {\n",
              "      background-color: #E8F0FE;\n",
              "      border: none;\n",
              "      border-radius: 50%;\n",
              "      cursor: pointer;\n",
              "      display: none;\n",
              "      fill: #1967D2;\n",
              "      height: 32px;\n",
              "      padding: 0 0 0 0;\n",
              "      width: 32px;\n",
              "    }\n",
              "\n",
              "    .colab-df-convert:hover {\n",
              "      background-color: #E2EBFA;\n",
              "      box-shadow: 0px 1px 2px rgba(60, 64, 67, 0.3), 0px 1px 3px 1px rgba(60, 64, 67, 0.15);\n",
              "      fill: #174EA6;\n",
              "    }\n",
              "\n",
              "    .colab-df-buttons div {\n",
              "      margin-bottom: 4px;\n",
              "    }\n",
              "\n",
              "    [theme=dark] .colab-df-convert {\n",
              "      background-color: #3B4455;\n",
              "      fill: #D2E3FC;\n",
              "    }\n",
              "\n",
              "    [theme=dark] .colab-df-convert:hover {\n",
              "      background-color: #434B5C;\n",
              "      box-shadow: 0px 1px 3px 1px rgba(0, 0, 0, 0.15);\n",
              "      filter: drop-shadow(0px 1px 2px rgba(0, 0, 0, 0.3));\n",
              "      fill: #FFFFFF;\n",
              "    }\n",
              "  </style>\n",
              "\n",
              "    <script>\n",
              "      const buttonEl =\n",
              "        document.querySelector('#df-6819f7a2-2f6f-4cc7-96cc-a10d48ee2a49 button.colab-df-convert');\n",
              "      buttonEl.style.display =\n",
              "        google.colab.kernel.accessAllowed ? 'block' : 'none';\n",
              "\n",
              "      async function convertToInteractive(key) {\n",
              "        const element = document.querySelector('#df-6819f7a2-2f6f-4cc7-96cc-a10d48ee2a49');\n",
              "        const dataTable =\n",
              "          await google.colab.kernel.invokeFunction('convertToInteractive',\n",
              "                                                    [key], {});\n",
              "        if (!dataTable) return;\n",
              "\n",
              "        const docLinkHtml = 'Like what you see? Visit the ' +\n",
              "          '<a target=\"_blank\" href=https://colab.research.google.com/notebooks/data_table.ipynb>data table notebook</a>'\n",
              "          + ' to learn more about interactive tables.';\n",
              "        element.innerHTML = '';\n",
              "        dataTable['output_type'] = 'display_data';\n",
              "        await google.colab.output.renderOutput(dataTable, element);\n",
              "        const docLink = document.createElement('div');\n",
              "        docLink.innerHTML = docLinkHtml;\n",
              "        element.appendChild(docLink);\n",
              "      }\n",
              "    </script>\n",
              "  </div>\n",
              "\n",
              "\n",
              "    <div id=\"df-714f1900-7aab-4ad7-9219-610a6f5041cb\">\n",
              "      <button class=\"colab-df-quickchart\" onclick=\"quickchart('df-714f1900-7aab-4ad7-9219-610a6f5041cb')\"\n",
              "                title=\"Suggest charts\"\n",
              "                style=\"display:none;\">\n",
              "\n",
              "<svg xmlns=\"http://www.w3.org/2000/svg\" height=\"24px\"viewBox=\"0 0 24 24\"\n",
              "     width=\"24px\">\n",
              "    <g>\n",
              "        <path d=\"M19 3H5c-1.1 0-2 .9-2 2v14c0 1.1.9 2 2 2h14c1.1 0 2-.9 2-2V5c0-1.1-.9-2-2-2zM9 17H7v-7h2v7zm4 0h-2V7h2v10zm4 0h-2v-4h2v4z\"/>\n",
              "    </g>\n",
              "</svg>\n",
              "      </button>\n",
              "\n",
              "<style>\n",
              "  .colab-df-quickchart {\n",
              "      --bg-color: #E8F0FE;\n",
              "      --fill-color: #1967D2;\n",
              "      --hover-bg-color: #E2EBFA;\n",
              "      --hover-fill-color: #174EA6;\n",
              "      --disabled-fill-color: #AAA;\n",
              "      --disabled-bg-color: #DDD;\n",
              "  }\n",
              "\n",
              "  [theme=dark] .colab-df-quickchart {\n",
              "      --bg-color: #3B4455;\n",
              "      --fill-color: #D2E3FC;\n",
              "      --hover-bg-color: #434B5C;\n",
              "      --hover-fill-color: #FFFFFF;\n",
              "      --disabled-bg-color: #3B4455;\n",
              "      --disabled-fill-color: #666;\n",
              "  }\n",
              "\n",
              "  .colab-df-quickchart {\n",
              "    background-color: var(--bg-color);\n",
              "    border: none;\n",
              "    border-radius: 50%;\n",
              "    cursor: pointer;\n",
              "    display: none;\n",
              "    fill: var(--fill-color);\n",
              "    height: 32px;\n",
              "    padding: 0;\n",
              "    width: 32px;\n",
              "  }\n",
              "\n",
              "  .colab-df-quickchart:hover {\n",
              "    background-color: var(--hover-bg-color);\n",
              "    box-shadow: 0 1px 2px rgba(60, 64, 67, 0.3), 0 1px 3px 1px rgba(60, 64, 67, 0.15);\n",
              "    fill: var(--button-hover-fill-color);\n",
              "  }\n",
              "\n",
              "  .colab-df-quickchart-complete:disabled,\n",
              "  .colab-df-quickchart-complete:disabled:hover {\n",
              "    background-color: var(--disabled-bg-color);\n",
              "    fill: var(--disabled-fill-color);\n",
              "    box-shadow: none;\n",
              "  }\n",
              "\n",
              "  .colab-df-spinner {\n",
              "    border: 2px solid var(--fill-color);\n",
              "    border-color: transparent;\n",
              "    border-bottom-color: var(--fill-color);\n",
              "    animation:\n",
              "      spin 1s steps(1) infinite;\n",
              "  }\n",
              "\n",
              "  @keyframes spin {\n",
              "    0% {\n",
              "      border-color: transparent;\n",
              "      border-bottom-color: var(--fill-color);\n",
              "      border-left-color: var(--fill-color);\n",
              "    }\n",
              "    20% {\n",
              "      border-color: transparent;\n",
              "      border-left-color: var(--fill-color);\n",
              "      border-top-color: var(--fill-color);\n",
              "    }\n",
              "    30% {\n",
              "      border-color: transparent;\n",
              "      border-left-color: var(--fill-color);\n",
              "      border-top-color: var(--fill-color);\n",
              "      border-right-color: var(--fill-color);\n",
              "    }\n",
              "    40% {\n",
              "      border-color: transparent;\n",
              "      border-right-color: var(--fill-color);\n",
              "      border-top-color: var(--fill-color);\n",
              "    }\n",
              "    60% {\n",
              "      border-color: transparent;\n",
              "      border-right-color: var(--fill-color);\n",
              "    }\n",
              "    80% {\n",
              "      border-color: transparent;\n",
              "      border-right-color: var(--fill-color);\n",
              "      border-bottom-color: var(--fill-color);\n",
              "    }\n",
              "    90% {\n",
              "      border-color: transparent;\n",
              "      border-bottom-color: var(--fill-color);\n",
              "    }\n",
              "  }\n",
              "</style>\n",
              "\n",
              "      <script>\n",
              "        async function quickchart(key) {\n",
              "          const quickchartButtonEl =\n",
              "            document.querySelector('#' + key + ' button');\n",
              "          quickchartButtonEl.disabled = true;  // To prevent multiple clicks.\n",
              "          quickchartButtonEl.classList.add('colab-df-spinner');\n",
              "          try {\n",
              "            const charts = await google.colab.kernel.invokeFunction(\n",
              "                'suggestCharts', [key], {});\n",
              "          } catch (error) {\n",
              "            console.error('Error during call to suggestCharts:', error);\n",
              "          }\n",
              "          quickchartButtonEl.classList.remove('colab-df-spinner');\n",
              "          quickchartButtonEl.classList.add('colab-df-quickchart-complete');\n",
              "        }\n",
              "        (() => {\n",
              "          let quickchartButtonEl =\n",
              "            document.querySelector('#df-714f1900-7aab-4ad7-9219-610a6f5041cb button');\n",
              "          quickchartButtonEl.style.display =\n",
              "            google.colab.kernel.accessAllowed ? 'block' : 'none';\n",
              "        })();\n",
              "      </script>\n",
              "    </div>\n",
              "\n",
              "    </div>\n",
              "  </div>\n"
            ],
            "application/vnd.google.colaboratory.intrinsic+json": {
              "type": "dataframe",
              "variable_name": "df_sample",
              "summary": "{\n  \"name\": \"df_sample\",\n  \"rows\": 20000,\n  \"fields\": [\n    {\n      \"column\": \"content\",\n      \"properties\": {\n        \"dtype\": \"string\",\n        \"num_unique_values\": 14078,\n        \"samples\": [\n          \"Aplikasi nga bagus sih tapi pas mau msk nya itu susah banget udah di coba beberapa kali tapi tetep ngak bisa \\ud83d\\ude1e\\ud83d\\ude2b udah lah kata aku sabar aja entar juga bakalan bisa pas di coba lagi ngak bisa lagi dan aku kesel sama aplikasi ini jadi aku kasih bintang dua aja deh \\ud83d\\ude05\",\n          \"Instagram tolong saya lah masa saya mau live tulisannya tidak memenuhi syarat mulu\",\n          \"Instagram bikin fitur baru dong,misalnya kalau ada yg unfollow ketahuan siapa orangnya Kalau saling follow beri tanda(TEMAN) Kalau ada yg unfollow beri tanda(MENGIKUTI)\"\n        ],\n        \"semantic_type\": \"\",\n        \"description\": \"\"\n      }\n    },\n    {\n      \"column\": \"score\",\n      \"properties\": {\n        \"dtype\": \"number\",\n        \"std\": 1,\n        \"min\": 1,\n        \"max\": 5,\n        \"num_unique_values\": 5,\n        \"samples\": [\n          1,\n          2,\n          4\n        ],\n        \"semantic_type\": \"\",\n        \"description\": \"\"\n      }\n    }\n  ]\n}"
            }
          },
          "metadata": {},
          "execution_count": 15
        }
      ]
    },
    {
      "cell_type": "code",
      "source": [
        "print(df_sample.shape)"
      ],
      "metadata": {
        "colab": {
          "base_uri": "https://localhost:8080/"
        },
        "id": "IDJIbgkprmMC",
        "outputId": "52d907c9-0618-440c-9ccc-58c1477f5820"
      },
      "execution_count": 16,
      "outputs": [
        {
          "output_type": "stream",
          "name": "stdout",
          "text": [
            "(20000, 2)\n"
          ]
        }
      ]
    },
    {
      "cell_type": "code",
      "source": [
        "df_sample.to_csv('Instagram_reviews_sample.csv', index=False)"
      ],
      "metadata": {
        "id": "ItqxRuD_roBS"
      },
      "execution_count": 17,
      "outputs": []
    },
    {
      "cell_type": "markdown",
      "source": [
        "## **Assessing Data**"
      ],
      "metadata": {
        "id": "3pW3nFzurxQD"
      }
    },
    {
      "cell_type": "code",
      "source": [
        "print(df_sample.info())"
      ],
      "metadata": {
        "colab": {
          "base_uri": "https://localhost:8080/"
        },
        "id": "-vhF3PxkryES",
        "outputId": "84676c2c-4865-4221-b22e-2f1eaa11b52f"
      },
      "execution_count": 18,
      "outputs": [
        {
          "output_type": "stream",
          "name": "stdout",
          "text": [
            "<class 'pandas.core.frame.DataFrame'>\n",
            "Index: 20000 entries, 228480 to 44965\n",
            "Data columns (total 2 columns):\n",
            " #   Column   Non-Null Count  Dtype \n",
            "---  ------   --------------  ----- \n",
            " 0   content  19999 non-null  object\n",
            " 1   score    20000 non-null  int64 \n",
            "dtypes: int64(1), object(1)\n",
            "memory usage: 468.8+ KB\n",
            "None\n"
          ]
        }
      ]
    },
    {
      "cell_type": "code",
      "source": [
        "print(df_sample.describe())"
      ],
      "metadata": {
        "colab": {
          "base_uri": "https://localhost:8080/"
        },
        "id": "XaQAyU6yr3i7",
        "outputId": "33d0c915-1f61-438b-88ec-ae8e26b952a7"
      },
      "execution_count": 19,
      "outputs": [
        {
          "output_type": "stream",
          "name": "stdout",
          "text": [
            "             score\n",
            "count  20000.00000\n",
            "mean       3.92170\n",
            "std        1.58726\n",
            "min        1.00000\n",
            "25%        3.00000\n",
            "50%        5.00000\n",
            "75%        5.00000\n",
            "max        5.00000\n"
          ]
        }
      ]
    },
    {
      "cell_type": "markdown",
      "source": [
        "## **Cleaning Data**"
      ],
      "metadata": {
        "id": "lRfOHGZur6ZL"
      }
    },
    {
      "cell_type": "code",
      "source": [
        "#Mengecek missing value\n",
        "missing_values = df_sample.isnull().sum()\n",
        "print(\"Missing Values:\\n\", missing_values[missing_values > 0])"
      ],
      "metadata": {
        "colab": {
          "base_uri": "https://localhost:8080/"
        },
        "id": "J7awv7Lnr4bK",
        "outputId": "e29bf679-8f75-4257-b431-b592a2974da7"
      },
      "execution_count": 20,
      "outputs": [
        {
          "output_type": "stream",
          "name": "stdout",
          "text": [
            "Missing Values:\n",
            " content    1\n",
            "dtype: int64\n"
          ]
        }
      ]
    },
    {
      "cell_type": "code",
      "source": [
        "df_sample.dropna(axis=0, inplace=True)"
      ],
      "metadata": {
        "id": "ULolO3VSsA4i"
      },
      "execution_count": 21,
      "outputs": []
    },
    {
      "cell_type": "code",
      "source": [
        "print(\"Sudah tidak ada data yang hilang?\", df_sample.isnull().sum().sum() == 0)"
      ],
      "metadata": {
        "colab": {
          "base_uri": "https://localhost:8080/"
        },
        "id": "N-T9v1cYsCoz",
        "outputId": "03691e4e-9112-4258-c539-7ff53d1ee0ef"
      },
      "execution_count": 22,
      "outputs": [
        {
          "output_type": "stream",
          "name": "stdout",
          "text": [
            "Sudah tidak ada data yang hilang? True\n"
          ]
        }
      ]
    },
    {
      "cell_type": "code",
      "source": [
        "# cek ulang missing values\n",
        "print(\"\\nMissing Values setelah dilakukan cleaning:\")\n",
        "print(df_sample.isnull().sum())"
      ],
      "metadata": {
        "colab": {
          "base_uri": "https://localhost:8080/"
        },
        "id": "4fp120FqsE5y",
        "outputId": "b07ef9bf-2f45-496f-df3e-48d8695f4b36"
      },
      "execution_count": 23,
      "outputs": [
        {
          "output_type": "stream",
          "name": "stdout",
          "text": [
            "\n",
            "Missing Values setelah dilakukan cleaning:\n",
            "content    0\n",
            "score      0\n",
            "dtype: int64\n"
          ]
        }
      ]
    },
    {
      "cell_type": "markdown",
      "source": [
        "## **Exploratory Data Analysis (EDA)**"
      ],
      "metadata": {
        "id": "LIhkATQPsQfi"
      }
    },
    {
      "cell_type": "code",
      "source": [
        "# Melihat info tipe data dan keberadaan missing value\n",
        "print(df_sample.info())\n",
        "\n",
        "# Melihat statistik deskriptif untuk kolom numerik (score)\n",
        "print(df_sample['score'].describe())"
      ],
      "metadata": {
        "colab": {
          "base_uri": "https://localhost:8080/"
        },
        "id": "DgrbQQrHsRla",
        "outputId": "436f9a7a-c6bf-4564-8518-87046a6b289d"
      },
      "execution_count": 24,
      "outputs": [
        {
          "output_type": "stream",
          "name": "stdout",
          "text": [
            "<class 'pandas.core.frame.DataFrame'>\n",
            "Index: 19999 entries, 228480 to 44965\n",
            "Data columns (total 2 columns):\n",
            " #   Column   Non-Null Count  Dtype \n",
            "---  ------   --------------  ----- \n",
            " 0   content  19999 non-null  object\n",
            " 1   score    19999 non-null  int64 \n",
            "dtypes: int64(1), object(1)\n",
            "memory usage: 468.7+ KB\n",
            "None\n",
            "count    19999.000000\n",
            "mean         3.921646\n",
            "std          1.587282\n",
            "min          1.000000\n",
            "25%          3.000000\n",
            "50%          5.000000\n",
            "75%          5.000000\n",
            "max          5.000000\n",
            "Name: score, dtype: float64\n"
          ]
        }
      ]
    },
    {
      "cell_type": "code",
      "source": [
        "print(\"\\nMissing Values setelah dilakukan cleaning:\")\n",
        "print(df_sample.isnull().sum())"
      ],
      "metadata": {
        "colab": {
          "base_uri": "https://localhost:8080/"
        },
        "id": "Ivle_zwAsTky",
        "outputId": "a0a3f37b-78ef-4662-e66a-2ecacf635a43"
      },
      "execution_count": 25,
      "outputs": [
        {
          "output_type": "stream",
          "name": "stdout",
          "text": [
            "\n",
            "Missing Values setelah dilakukan cleaning:\n",
            "content    0\n",
            "score      0\n",
            "dtype: int64\n"
          ]
        }
      ]
    },
    {
      "cell_type": "code",
      "source": [
        "plt.figure(figsize=(8,5))\n",
        "sns.countplot(x='score', data=df_sample, palette='muted')\n",
        "plt.title('Distribusi Rating Ulasan Instagram')\n",
        "plt.xlabel('Rating')\n",
        "plt.ylabel('Jumlah Ulasan')\n",
        "plt.show()"
      ],
      "metadata": {
        "colab": {
          "base_uri": "https://localhost:8080/",
          "height": 574
        },
        "id": "QY7ECGG5sW9D",
        "outputId": "348aca0f-0bb7-4308-c7da-94e13b97a2e3"
      },
      "execution_count": 26,
      "outputs": [
        {
          "output_type": "stream",
          "name": "stderr",
          "text": [
            "/tmp/ipython-input-26-3759852058.py:2: FutureWarning: \n",
            "\n",
            "Passing `palette` without assigning `hue` is deprecated and will be removed in v0.14.0. Assign the `x` variable to `hue` and set `legend=False` for the same effect.\n",
            "\n",
            "  sns.countplot(x='score', data=df_sample, palette='muted')\n"
          ]
        },
        {
          "output_type": "display_data",
          "data": {
            "text/plain": [
              "<Figure size 800x500 with 1 Axes>"
            ],
            "image/png": "[encoded data removed]"
          },
          "metadata": {}
        }
      ]
    },
    {
      "cell_type": "code",
      "source": [
        "# Hitung jumlah kata per ulasan\n",
        "df_sample['word_count'] = df_sample['content'].apply(lambda x: len(str(x).split()))\n",
        "\n",
        "plt.figure(figsize=(12,5))\n",
        "sns.histplot(df_sample['word_count'], bins=30, kde=True)\n",
        "plt.title('Distribusi Panjang Ulasan (Jumlah Kata)')\n",
        "plt.xlabel('Jumlah Kata')\n",
        "plt.ylabel('Frekuensi')\n",
        "plt.show()"
      ],
      "metadata": {
        "colab": {
          "base_uri": "https://localhost:8080/",
          "height": 487
        },
        "id": "wMP-RNl1sehq",
        "outputId": "1e90aa27-03f3-4128-ea91-872048cc0031"
      },
      "execution_count": 27,
      "outputs": [
        {
          "output_type": "display_data",
          "data": {
            "text/plain": [
              "<Figure size 1200x500 with 1 Axes>"
            ],
            "image/png": "[encoded data removed]"
          },
          "metadata": {}
        }
      ]
    },
    {
      "cell_type": "markdown",
      "source": [
        "## **Text Preprocessing**"
      ],
      "metadata": {
        "id": "_scSIoyoshhr"
      }
    },
    {
      "cell_type": "code",
      "source": [
        "def proses_teks(teks):\n",
        "    # Hapus mention (@username)\n",
        "    teks = re.sub(r'@\\w+', '', teks)\n",
        "    # Hapus hashtag (#hashtag)\n",
        "    teks = re.sub(r'#\\w+', '', teks)\n",
        "    # Hapus karakter khusus tertentu (misal simbol²)\n",
        "    teks = re.sub(r'[²]', '', teks)\n",
        "    # Hapus angka\n",
        "    teks = re.sub(r'\\d+', '', teks)\n",
        "    # Hapus tanda baca\n",
        "    teks = teks.translate(str.maketrans('', '', string.punctuation))\n",
        "    # Hapus spasi lebih dari 1 dan trim spasi di awal/akhir\n",
        "    teks = re.sub(r'\\s+', ' ', teks).strip()\n",
        "\n",
        "    return teks\n",
        "\n",
        "df_sample['clean_content'] = df_sample['content'].apply(proses_teks)\n"
      ],
      "metadata": {
        "id": "QoHCDOq4sh2A"
      },
      "execution_count": 28,
      "outputs": []
    },
    {
      "cell_type": "markdown",
      "source": [
        "### **Case Folding**"
      ],
      "metadata": {
        "id": "1s1ary6UslOL"
      }
    },
    {
      "cell_type": "code",
      "source": [
        "def casefoldingText(teks):\n",
        "    return str(teks).lower()\n",
        "\n",
        "df_sample['casefold_content'] = df_sample['clean_content'].apply(casefoldingText)\n",
        "\n",
        "print(df_sample[['clean_content', 'casefold_content']].head())"
      ],
      "metadata": {
        "colab": {
          "base_uri": "https://localhost:8080/"
        },
        "id": "kQY4psP6snkL",
        "outputId": "cf09edd4-1245-4d4b-97b4-f43faaef5db2"
      },
      "execution_count": 29,
      "outputs": [
        {
          "output_type": "stream",
          "name": "stdout",
          "text": [
            "                                            clean_content  \\\n",
            "228480                                           Mantap 🔥   \n",
            "13398   Gatau kenapa dari kemarin tuh aku gabisa buat ...   \n",
            "149727          Dukun aku buat menjangkau bintang direels   \n",
            "8960    ada apakah selalu for close pas mau membuka ap...   \n",
            "200730                                               Good   \n",
            "\n",
            "                                         casefold_content  \n",
            "228480                                           mantap 🔥  \n",
            "13398   gatau kenapa dari kemarin tuh aku gabisa buat ...  \n",
            "149727          dukun aku buat menjangkau bintang direels  \n",
            "8960    ada apakah selalu for close pas mau membuka ap...  \n",
            "200730                                               good  \n"
          ]
        }
      ]
    },
    {
      "cell_type": "markdown",
      "source": [
        "### **Fungsi Tokenisasi Teks**"
      ],
      "metadata": {
        "id": "lJvJhrDtssrF"
      }
    },
    {
      "cell_type": "code",
      "source": [
        "# Fungsi tokenizing, menerima input teks string, output list token kata\n",
        "from nltk.tokenize import word_tokenize\n",
        "nltk.download('punkt_tab')\n",
        "\n",
        "def tokenizing(teks):\n",
        "    return word_tokenize(teks)\n",
        "\n",
        "# Terapkan tokenizing pada kolom casefold_content\n",
        "df_sample['tokens'] = df_sample['casefold_content'].apply(tokenizing)\n",
        "\n",
        "# Contoh tampilkan hasil tokenizing\n",
        "print(df_sample[['casefold_content', 'tokens']].head())"
      ],
      "metadata": {
        "colab": {
          "base_uri": "https://localhost:8080/"
        },
        "id": "t8pbiXipsqVD",
        "outputId": "7f0641db-d709-464c-e4ae-aa2ce552d728"
      },
      "execution_count": 30,
      "outputs": [
        {
          "output_type": "stream",
          "name": "stderr",
          "text": [
            "[nltk_data] Downloading package punkt_tab to /root/nltk_data...\n",
            "[nltk_data]   Unzipping tokenizers/punkt_tab.zip.\n"
          ]
        },
        {
          "output_type": "stream",
          "name": "stdout",
          "text": [
            "                                         casefold_content  \\\n",
            "228480                                           mantap 🔥   \n",
            "13398   gatau kenapa dari kemarin tuh aku gabisa buat ...   \n",
            "149727          dukun aku buat menjangkau bintang direels   \n",
            "8960    ada apakah selalu for close pas mau membuka ap...   \n",
            "200730                                               good   \n",
            "\n",
            "                                                   tokens  \n",
            "228480                                        [mantap, 🔥]  \n",
            "13398   [gatau, kenapa, dari, kemarin, tuh, aku, gabis...  \n",
            "149727   [dukun, aku, buat, menjangkau, bintang, direels]  \n",
            "8960    [ada, apakah, selalu, for, close, pas, mau, me...  \n",
            "200730                                             [good]  \n"
          ]
        }
      ]
    },
    {
      "cell_type": "markdown",
      "source": [
        "### **Stemming**"
      ],
      "metadata": {
        "id": "wnXubDveswwr"
      }
    },
    {
      "cell_type": "code",
      "source": [
        "# Inisialisasi stemmer\n",
        "factory = StemmerFactory()\n",
        "stemmer = factory.create_stemmer()\n",
        "\n",
        "# Fungsi stemming setiap token dalam list\n",
        "def stemming(tokens):\n",
        "    return [stemmer.stem(token) for token in tokens]\n",
        "\n",
        "# Terapkan proses stemming pada kolom 'tokens'\n",
        "df_sample['stemmed_tokens'] = df_sample['tokens'].apply(stemming)\n",
        "\n",
        "# Tampilkan contoh hasil stemming\n",
        "print(df_sample[['tokens', 'stemmed_tokens']].head())"
      ],
      "metadata": {
        "id": "PbbMjXTQsyFj",
        "colab": {
          "base_uri": "https://localhost:8080/"
        },
        "outputId": "ef15f231-c3b2-48b4-f6a6-323674d93fc7"
      },
      "execution_count": 31,
      "outputs": [
        {
          "output_type": "stream",
          "name": "stdout",
          "text": [
            "                                                   tokens  \\\n",
            "228480                                        [mantap, 🔥]   \n",
            "13398   [gatau, kenapa, dari, kemarin, tuh, aku, gabis...   \n",
            "149727   [dukun, aku, buat, menjangkau, bintang, direels]   \n",
            "8960    [ada, apakah, selalu, for, close, pas, mau, me...   \n",
            "200730                                             [good]   \n",
            "\n",
            "                                           stemmed_tokens  \n",
            "228480                                         [mantap, ]  \n",
            "13398   [gatau, kenapa, dari, kemarin, tuh, aku, gabis...  \n",
            "149727      [dukun, aku, buat, jangkau, bintang, direels]  \n",
            "8960    [ada, apakah, selalu, for, close, pas, mau, bu...  \n",
            "200730                                             [good]  \n"
          ]
        }
      ]
    },
    {
      "cell_type": "markdown",
      "source": [
        "### **Negation Handling**"
      ],
      "metadata": {
        "id": "Ix6aAJqHtGtj"
      }
    },
    {
      "cell_type": "code",
      "source": [
        "def negation_handling(stemmed_tokens):\n",
        "    negation_words = {'tidak', 'jangan', 'bukan', 'belum'}\n",
        "    hasil = []\n",
        "    skip_next = False\n",
        "    for i in range(len(stemmed_tokens)):\n",
        "        if skip_next:\n",
        "            skip_next = False\n",
        "            continue\n",
        "\n",
        "        token = stemmed_tokens[i]\n",
        "        if token in negation_words and i+1 < len(stemmed_tokens):\n",
        "            # Gabungkan kata negasi dengan kata setelahnya\n",
        "            combined = token + '_' + stemmed_tokens[i+1]\n",
        "            hasil.append(combined)\n",
        "            skip_next = True  # lewati kata berikutnya karena sudah digabung\n",
        "        else:\n",
        "            hasil.append(token)\n",
        "    return hasil\n",
        "\n",
        "# Terapkan pada kolom stemmed_tokens\n",
        "df_sample['tokens_negation'] = df_sample['stemmed_tokens'].apply(negation_handling)\n",
        "\n",
        "# Contoh lihat hasilnya\n",
        "print(df_sample[['stemmed_tokens', 'tokens_negation']].head())"
      ],
      "metadata": {
        "id": "YjerbUultHQy",
        "colab": {
          "base_uri": "https://localhost:8080/"
        },
        "outputId": "c6779533-2953-4c95-bb5c-2edf7a153799"
      },
      "execution_count": 32,
      "outputs": [
        {
          "output_type": "stream",
          "name": "stdout",
          "text": [
            "                                           stemmed_tokens  \\\n",
            "228480                                         [mantap, ]   \n",
            "13398   [gatau, kenapa, dari, kemarin, tuh, aku, gabis...   \n",
            "149727      [dukun, aku, buat, jangkau, bintang, direels]   \n",
            "8960    [ada, apakah, selalu, for, close, pas, mau, bu...   \n",
            "200730                                             [good]   \n",
            "\n",
            "                                          tokens_negation  \n",
            "228480                                         [mantap, ]  \n",
            "13398   [gatau, kenapa, dari, kemarin, tuh, aku, gabis...  \n",
            "149727      [dukun, aku, buat, jangkau, bintang, direels]  \n",
            "8960    [ada, apakah, selalu, for, close, pas, mau, bu...  \n",
            "200730                                             [good]  \n"
          ]
        }
      ]
    },
    {
      "cell_type": "markdown",
      "source": [
        "### **Word Normalization**"
      ],
      "metadata": {
        "id": "rQCJFk8qtKTS"
      }
    },
    {
      "cell_type": "code",
      "source": [
        "def convertToSlangword(tokens_negation):\n",
        "    kamusSlang = eval(open(\"slangwords.txt\").read())\n",
        "    pattern = re.compile(r'\\b( ' + '|'.join (kamusSlang.keys())+r')\\b')\n",
        "    content = []\n",
        "    for kata in tokens_negation:\n",
        "        filter_slang = pattern.sub(lambda x: kamusSlang[x.group()], kata.lower())\n",
        "        if filter_slang.startswith('tidak_'):\n",
        "          kata_depan = 'tidak_'\n",
        "          kata_belakang = kata[6:]\n",
        "          kata_belakang_slang = pattern.sub(lambda x: kamusSlang[x.group()], kata_belakang.lower())\n",
        "          kata_hasil = kata_depan + kata_belakang_slang\n",
        "          content.append(kata_hasil)\n",
        "        else:\n",
        "          content.append(filter_slang)\n",
        "    ulasan = content\n",
        "    return ulasan\n",
        "\n",
        "df_sample['tokens_slang'] = df_sample['tokens_negation'].apply(convertToSlangword)\n",
        "\n",
        "# Contoh lihat hasilnya\n",
        "print(df_sample[['tokens_negation', 'tokens_slang']].head())"
      ],
      "metadata": {
        "id": "LDcST9ZPtLpi",
        "colab": {
          "base_uri": "https://localhost:8080/"
        },
        "outputId": "3162f8ae-cf50-46bd-a200-b9cca80420d9"
      },
      "execution_count": 33,
      "outputs": [
        {
          "output_type": "stream",
          "name": "stdout",
          "text": [
            "                                          tokens_negation  \\\n",
            "228480                                         [mantap, ]   \n",
            "13398   [gatau, kenapa, dari, kemarin, tuh, aku, gabis...   \n",
            "149727      [dukun, aku, buat, jangkau, bintang, direels]   \n",
            "8960    [ada, apakah, selalu, for, close, pas, mau, bu...   \n",
            "200730                                             [good]   \n",
            "\n",
            "                                             tokens_slang  \n",
            "228480                                         [mantap, ]  \n",
            "13398   [gatau, kenapa, dari, kemarin, tuh, aku, tidak...  \n",
            "149727      [dukun, aku, buat, jangkau, bintang, direels]  \n",
            "8960    [ada, apakah, selalu, for, tutup, pas, mau, bu...  \n",
            "200730                                            [bagus]  \n"
          ]
        }
      ]
    },
    {
      "cell_type": "markdown",
      "source": [
        "### **Fungsi Penghapusan Stopwords**"
      ],
      "metadata": {
        "id": "lwNa21OqtQF1"
      }
    },
    {
      "cell_type": "code",
      "source": [
        "def hapus_stopwords(tokens_slang):\n",
        "    stop_words = set(stopwords.words('indonesian'))\n",
        "    stop_words_english = set(stopwords.words('english'))\n",
        "\n",
        "    stop_words.update(stop_words_english)\n",
        "    stop_words.update([\n",
        "        'iya', 'yaa', 'gak', 'nya', 'na', 'sih', 'ku',\n",
        "        'di', 'ga', 'ya', 'gaa', 'loh', 'kah', 'woi', 'woii', 'woy'\n",
        "    ])\n",
        "    hasil_hapus = [kata for kata in tokens_slang if kata not in stop_words]\n",
        "    return hasil_hapus\n",
        "df_sample['stopword_removal'] = df_sample['tokens_slang'].apply(hapus_stopwords)\n",
        "\n",
        "# Contoh lihat hasilnya\n",
        "print(df_sample[['tokens_slang', 'stopword_removal']].head())"
      ],
      "metadata": {
        "id": "8Dfq0aghtSYr",
        "colab": {
          "base_uri": "https://localhost:8080/"
        },
        "outputId": "c806963c-6be9-4a6c-9f55-f7813954a392"
      },
      "execution_count": 34,
      "outputs": [
        {
          "output_type": "stream",
          "name": "stdout",
          "text": [
            "                                             tokens_slang  \\\n",
            "228480                                         [mantap, ]   \n",
            "13398   [gatau, kenapa, dari, kemarin, tuh, aku, tidak...   \n",
            "149727      [dukun, aku, buat, jangkau, bintang, direels]   \n",
            "8960    [ada, apakah, selalu, for, tutup, pas, mau, bu...   \n",
            "200730                                            [bagus]   \n",
            "\n",
            "                                         stopword_removal  \n",
            "228480                                         [mantap, ]  \n",
            "13398   [gatau, kemarin, tuh, tidak bisa, postingan, e...  \n",
            "149727                 [dukun, jangkau, bintang, direels]  \n",
            "8960              [tutup, pas, buka, aplikasi, instagram]  \n",
            "200730                                            [bagus]  \n"
          ]
        }
      ]
    },
    {
      "cell_type": "code",
      "source": [
        "df_sample.to_csv('data_bersih.csv', index=False)"
      ],
      "metadata": {
        "id": "1SG62PRjtXbr"
      },
      "execution_count": 35,
      "outputs": []
    },
    {
      "cell_type": "markdown",
      "source": [
        "## **Pelabelan Menggunakan Lexikon**"
      ],
      "metadata": {
        "id": "5c40uxemtVE6"
      }
    },
    {
      "cell_type": "code",
      "source": [
        "df_bersih = pd.read_csv('data_bersih.csv')"
      ],
      "metadata": {
        "id": "U25K4riDtbwT"
      },
      "execution_count": 36,
      "outputs": []
    },
    {
      "cell_type": "code",
      "source": [
        "print(\"\\nMissing Values setelah dilakukan cleaning:\")\n",
        "print(df_bersih.isnull().sum())"
      ],
      "metadata": {
        "id": "m7YjTPgGtdQD",
        "colab": {
          "base_uri": "https://localhost:8080/"
        },
        "outputId": "3e0485eb-e4a4-48bf-b113-74aa7e408ebc"
      },
      "execution_count": 37,
      "outputs": [
        {
          "output_type": "stream",
          "name": "stdout",
          "text": [
            "\n",
            "Missing Values setelah dilakukan cleaning:\n",
            "content             0\n",
            "score               0\n",
            "word_count          0\n",
            "clean_content       2\n",
            "casefold_content    2\n",
            "tokens              0\n",
            "stemmed_tokens      0\n",
            "tokens_negation     0\n",
            "tokens_slang        0\n",
            "stopword_removal    0\n",
            "dtype: int64\n"
          ]
        }
      ]
    },
    {
      "cell_type": "code",
      "source": [
        "df_bersih.dropna(axis=0, inplace=True)"
      ],
      "metadata": {
        "id": "oxzT_rdJte8q"
      },
      "execution_count": 38,
      "outputs": []
    },
    {
      "cell_type": "code",
      "source": [
        "print(\"\\nMissing Values setelah dilakukan cleaning:\")\n",
        "print(df_bersih.isnull().sum())"
      ],
      "metadata": {
        "id": "_bKdwP6gtgkS",
        "colab": {
          "base_uri": "https://localhost:8080/"
        },
        "outputId": "445de7e2-0bc2-4ba4-cc27-b3584007d99a"
      },
      "execution_count": 39,
      "outputs": [
        {
          "output_type": "stream",
          "name": "stdout",
          "text": [
            "\n",
            "Missing Values setelah dilakukan cleaning:\n",
            "content             0\n",
            "score               0\n",
            "word_count          0\n",
            "clean_content       0\n",
            "casefold_content    0\n",
            "tokens              0\n",
            "stemmed_tokens      0\n",
            "tokens_negation     0\n",
            "tokens_slang        0\n",
            "stopword_removal    0\n",
            "dtype: int64\n"
          ]
        }
      ]
    },
    {
      "cell_type": "code",
      "source": [
        "df_bersih.head()"
      ],
      "metadata": {
        "id": "HOqL5elothw9",
        "colab": {
          "base_uri": "https://localhost:8080/",
          "height": 310
        },
        "outputId": "7ddebfe9-a026-4a46-f1bb-3740a13bccb6"
      },
      "execution_count": 40,
      "outputs": [
        {
          "output_type": "execute_result",
          "data": {
            "text/plain": [
              "                                             content  score  word_count  \\\n",
              "0                                           Mantap 🔥      5           2   \n",
              "1  Gatau kenapa, dari kemarin tuh aku gabisa buat...      1          30   \n",
              "2          Dukun aku buat menjangkau bintang direels      5           6   \n",
              "3  ada apakah selalu for close pas mau membuka ap...      1          11   \n",
              "4                                               Good      5           1   \n",
              "\n",
              "                                       clean_content  \\\n",
              "0                                           Mantap 🔥   \n",
              "1  Gatau kenapa dari kemarin tuh aku gabisa buat ...   \n",
              "2          Dukun aku buat menjangkau bintang direels   \n",
              "3  ada apakah selalu for close pas mau membuka ap...   \n",
              "4                                               Good   \n",
              "\n",
              "                                    casefold_content  \\\n",
              "0                                           mantap 🔥   \n",
              "1  gatau kenapa dari kemarin tuh aku gabisa buat ...   \n",
              "2          dukun aku buat menjangkau bintang direels   \n",
              "3  ada apakah selalu for close pas mau membuka ap...   \n",
              "4                                               good   \n",
              "\n",
              "                                              tokens  \\\n",
              "0                                    ['mantap', '🔥']   \n",
              "1  ['gatau', 'kenapa', 'dari', 'kemarin', 'tuh', ...   \n",
              "2  ['dukun', 'aku', 'buat', 'menjangkau', 'bintan...   \n",
              "3  ['ada', 'apakah', 'selalu', 'for', 'close', 'p...   \n",
              "4                                           ['good']   \n",
              "\n",
              "                                      stemmed_tokens  \\\n",
              "0                                     ['mantap', '']   \n",
              "1  ['gatau', 'kenapa', 'dari', 'kemarin', 'tuh', ...   \n",
              "2  ['dukun', 'aku', 'buat', 'jangkau', 'bintang',...   \n",
              "3  ['ada', 'apakah', 'selalu', 'for', 'close', 'p...   \n",
              "4                                           ['good']   \n",
              "\n",
              "                                     tokens_negation  \\\n",
              "0                                     ['mantap', '']   \n",
              "1  ['gatau', 'kenapa', 'dari', 'kemarin', 'tuh', ...   \n",
              "2  ['dukun', 'aku', 'buat', 'jangkau', 'bintang',...   \n",
              "3  ['ada', 'apakah', 'selalu', 'for', 'close', 'p...   \n",
              "4                                           ['good']   \n",
              "\n",
              "                                        tokens_slang  \\\n",
              "0                                     ['mantap', '']   \n",
              "1  ['gatau', 'kenapa', 'dari', 'kemarin', 'tuh', ...   \n",
              "2  ['dukun', 'aku', 'buat', 'jangkau', 'bintang',...   \n",
              "3  ['ada', 'apakah', 'selalu', 'for', 'tutup', 'p...   \n",
              "4                                          ['bagus']   \n",
              "\n",
              "                                    stopword_removal  \n",
              "0                                     ['mantap', '']  \n",
              "1  ['gatau', 'kemarin', 'tuh', 'tidak bisa', 'pos...  \n",
              "2         ['dukun', 'jangkau', 'bintang', 'direels']  \n",
              "3  ['tutup', 'pas', 'buka', 'aplikasi', 'instagram']  \n",
              "4                                          ['bagus']  "
            ],
            "text/html": [
              "\n",
              "  <div id=\"df-6599ff8c-58f4-4230-9402-c8c5dcbdcdb6\" class=\"colab-df-container\">\n",
              "    <div>\n",
              "<style scoped>\n",
              "    .dataframe tbody tr th:only-of-type {\n",
              "        vertical-align: middle;\n",
              "    }\n",
              "\n",
              "    .dataframe tbody tr th {\n",
              "        vertical-align: top;\n",
              "    }\n",
              "\n",
              "    .dataframe thead th {\n",
              "        text-align: right;\n",
              "    }\n",
              "</style>\n",
              "<table border=\"1\" class=\"dataframe\">\n",
              "  <thead>\n",
              "    <tr style=\"text-align: right;\">\n",
              "      <th></th>\n",
              "      <th>content</th>\n",
              "      <th>score</th>\n",
              "      <th>word_count</th>\n",
              "      <th>clean_content</th>\n",
              "      <th>casefold_content</th>\n",
              "      <th>tokens</th>\n",
              "      <th>stemmed_tokens</th>\n",
              "      <th>tokens_negation</th>\n",
              "      <th>tokens_slang</th>\n",
              "      <th>stopword_removal</th>\n",
              "    </tr>\n",
              "  </thead>\n",
              "  <tbody>\n",
              "    <tr>\n",
              "      <th>0</th>\n",
              "      <td>Mantap 🔥</td>\n",
              "      <td>5</td>\n",
              "      <td>2</td>\n",
              "      <td>Mantap 🔥</td>\n",
              "      <td>mantap 🔥</td>\n",
              "      <td>['mantap', '🔥']</td>\n",
              "      <td>['mantap', '']</td>\n",
              "      <td>['mantap', '']</td>\n",
              "      <td>['mantap', '']</td>\n",
              "      <td>['mantap', '']</td>\n",
              "    </tr>\n",
              "    <tr>\n",
              "      <th>1</th>\n",
              "      <td>Gatau kenapa, dari kemarin tuh aku gabisa buat...</td>\n",
              "      <td>1</td>\n",
              "      <td>30</td>\n",
              "      <td>Gatau kenapa dari kemarin tuh aku gabisa buat ...</td>\n",
              "      <td>gatau kenapa dari kemarin tuh aku gabisa buat ...</td>\n",
              "      <td>['gatau', 'kenapa', 'dari', 'kemarin', 'tuh', ...</td>\n",
              "      <td>['gatau', 'kenapa', 'dari', 'kemarin', 'tuh', ...</td>\n",
              "      <td>['gatau', 'kenapa', 'dari', 'kemarin', 'tuh', ...</td>\n",
              "      <td>['gatau', 'kenapa', 'dari', 'kemarin', 'tuh', ...</td>\n",
              "      <td>['gatau', 'kemarin', 'tuh', 'tidak bisa', 'pos...</td>\n",
              "    </tr>\n",
              "    <tr>\n",
              "      <th>2</th>\n",
              "      <td>Dukun aku buat menjangkau bintang direels</td>\n",
              "      <td>5</td>\n",
              "      <td>6</td>\n",
              "      <td>Dukun aku buat menjangkau bintang direels</td>\n",
              "      <td>dukun aku buat menjangkau bintang direels</td>\n",
              "      <td>['dukun', 'aku', 'buat', 'menjangkau', 'bintan...</td>\n",
              "      <td>['dukun', 'aku', 'buat', 'jangkau', 'bintang',...</td>\n",
              "      <td>['dukun', 'aku', 'buat', 'jangkau', 'bintang',...</td>\n",
              "      <td>['dukun', 'aku', 'buat', 'jangkau', 'bintang',...</td>\n",
              "      <td>['dukun', 'jangkau', 'bintang', 'direels']</td>\n",
              "    </tr>\n",
              "    <tr>\n",
              "      <th>3</th>\n",
              "      <td>ada apakah selalu for close pas mau membuka ap...</td>\n",
              "      <td>1</td>\n",
              "      <td>11</td>\n",
              "      <td>ada apakah selalu for close pas mau membuka ap...</td>\n",
              "      <td>ada apakah selalu for close pas mau membuka ap...</td>\n",
              "      <td>['ada', 'apakah', 'selalu', 'for', 'close', 'p...</td>\n",
              "      <td>['ada', 'apakah', 'selalu', 'for', 'close', 'p...</td>\n",
              "      <td>['ada', 'apakah', 'selalu', 'for', 'close', 'p...</td>\n",
              "      <td>['ada', 'apakah', 'selalu', 'for', 'tutup', 'p...</td>\n",
              "      <td>['tutup', 'pas', 'buka', 'aplikasi', 'instagram']</td>\n",
              "    </tr>\n",
              "    <tr>\n",
              "      <th>4</th>\n",
              "      <td>Good</td>\n",
              "      <td>5</td>\n",
              "      <td>1</td>\n",
              "      <td>Good</td>\n",
              "      <td>good</td>\n",
              "      <td>['good']</td>\n",
              "      <td>['good']</td>\n",
              "      <td>['good']</td>\n",
              "      <td>['bagus']</td>\n",
              "      <td>['bagus']</td>\n",
              "    </tr>\n",
              "  </tbody>\n",
              "</table>\n",
              "</div>\n",
              "    <div class=\"colab-df-buttons\">\n",
              "\n",
              "  <div class=\"colab-df-container\">\n",
              "    <button class=\"colab-df-convert\" onclick=\"convertToInteractive('df-6599ff8c-58f4-4230-9402-c8c5dcbdcdb6')\"\n",
              "            title=\"Convert this dataframe to an interactive table.\"\n",
              "            style=\"display:none;\">\n",
              "\n",
              "  <svg xmlns=\"http://www.w3.org/2000/svg\" height=\"24px\" viewBox=\"0 -960 960 960\">\n",
              "    <path d=\"M120-120v-720h720v720H120Zm60-500h600v-160H180v160Zm220 220h160v-160H400v160Zm0 220h160v-160H400v160ZM180-400h160v-160H180v160Zm440 0h160v-160H620v160ZM180-180h160v-160H180v160Zm440 0h160v-160H620v160Z\"/>\n",
              "  </svg>\n",
              "    </button>\n",
              "\n",
              "  <style>\n",
              "    .colab-df-container {\n",
              "      display:flex;\n",
              "      gap: 12px;\n",
              "    }\n",
              "\n",
              "    .colab-df-convert {\n",
              "      background-color: #E8F0FE;\n",
              "      border: none;\n",
              "      border-radius: 50%;\n",
              "      cursor: pointer;\n",
              "      display: none;\n",
              "      fill: #1967D2;\n",
              "      height: 32px;\n",
              "      padding: 0 0 0 0;\n",
              "      width: 32px;\n",
              "    }\n",
              "\n",
              "    .colab-df-convert:hover {\n",
              "      background-color: #E2EBFA;\n",
              "      box-shadow: 0px 1px 2px rgba(60, 64, 67, 0.3), 0px 1px 3px 1px rgba(60, 64, 67, 0.15);\n",
              "      fill: #174EA6;\n",
              "    }\n",
              "\n",
              "    .colab-df-buttons div {\n",
              "      margin-bottom: 4px;\n",
              "    }\n",
              "\n",
              "    [theme=dark] .colab-df-convert {\n",
              "      background-color: #3B4455;\n",
              "      fill: #D2E3FC;\n",
              "    }\n",
              "\n",
              "    [theme=dark] .colab-df-convert:hover {\n",
              "      background-color: #434B5C;\n",
              "      box-shadow: 0px 1px 3px 1px rgba(0, 0, 0, 0.15);\n",
              "      filter: drop-shadow(0px 1px 2px rgba(0, 0, 0, 0.3));\n",
              "      fill: #FFFFFF;\n",
              "    }\n",
              "  </style>\n",
              "\n",
              "    <script>\n",
              "      const buttonEl =\n",
              "        document.querySelector('#df-6599ff8c-58f4-4230-9402-c8c5dcbdcdb6 button.colab-df-convert');\n",
              "      buttonEl.style.display =\n",
              "        google.colab.kernel.accessAllowed ? 'block' : 'none';\n",
              "\n",
              "      async function convertToInteractive(key) {\n",
              "        const element = document.querySelector('#df-6599ff8c-58f4-4230-9402-c8c5dcbdcdb6');\n",
              "        const dataTable =\n",
              "          await google.colab.kernel.invokeFunction('convertToInteractive',\n",
              "                                                    [key], {});\n",
              "        if (!dataTable) return;\n",
              "\n",
              "        const docLinkHtml = 'Like what you see? Visit the ' +\n",
              "          '<a target=\"_blank\" href=https://colab.research.google.com/notebooks/data_table.ipynb>data table notebook</a>'\n",
              "          + ' to learn more about interactive tables.';\n",
              "        element.innerHTML = '';\n",
              "        dataTable['output_type'] = 'display_data';\n",
              "        await google.colab.output.renderOutput(dataTable, element);\n",
              "        const docLink = document.createElement('div');\n",
              "        docLink.innerHTML = docLinkHtml;\n",
              "        element.appendChild(docLink);\n",
              "      }\n",
              "    </script>\n",
              "  </div>\n",
              "\n",
              "\n",
              "    <div id=\"df-b88ab3c0-2ea8-484b-80c1-f11693182127\">\n",
              "      <button class=\"colab-df-quickchart\" onclick=\"quickchart('df-b88ab3c0-2ea8-484b-80c1-f11693182127')\"\n",
              "                title=\"Suggest charts\"\n",
              "                style=\"display:none;\">\n",
              "\n",
              "<svg xmlns=\"http://www.w3.org/2000/svg\" height=\"24px\"viewBox=\"0 0 24 24\"\n",
              "     width=\"24px\">\n",
              "    <g>\n",
              "        <path d=\"M19 3H5c-1.1 0-2 .9-2 2v14c0 1.1.9 2 2 2h14c1.1 0 2-.9 2-2V5c0-1.1-.9-2-2-2zM9 17H7v-7h2v7zm4 0h-2V7h2v10zm4 0h-2v-4h2v4z\"/>\n",
              "    </g>\n",
              "</svg>\n",
              "      </button>\n",
              "\n",
              "<style>\n",
              "  .colab-df-quickchart {\n",
              "      --bg-color: #E8F0FE;\n",
              "      --fill-color: #1967D2;\n",
              "      --hover-bg-color: #E2EBFA;\n",
              "      --hover-fill-color: #174EA6;\n",
              "      --disabled-fill-color: #AAA;\n",
              "      --disabled-bg-color: #DDD;\n",
              "  }\n",
              "\n",
              "  [theme=dark] .colab-df-quickchart {\n",
              "      --bg-color: #3B4455;\n",
              "      --fill-color: #D2E3FC;\n",
              "      --hover-bg-color: #434B5C;\n",
              "      --hover-fill-color: #FFFFFF;\n",
              "      --disabled-bg-color: #3B4455;\n",
              "      --disabled-fill-color: #666;\n",
              "  }\n",
              "\n",
              "  .colab-df-quickchart {\n",
              "    background-color: var(--bg-color);\n",
              "    border: none;\n",
              "    border-radius: 50%;\n",
              "    cursor: pointer;\n",
              "    display: none;\n",
              "    fill: var(--fill-color);\n",
              "    height: 32px;\n",
              "    padding: 0;\n",
              "    width: 32px;\n",
              "  }\n",
              "\n",
              "  .colab-df-quickchart:hover {\n",
              "    background-color: var(--hover-bg-color);\n",
              "    box-shadow: 0 1px 2px rgba(60, 64, 67, 0.3), 0 1px 3px 1px rgba(60, 64, 67, 0.15);\n",
              "    fill: var(--button-hover-fill-color);\n",
              "  }\n",
              "\n",
              "  .colab-df-quickchart-complete:disabled,\n",
              "  .colab-df-quickchart-complete:disabled:hover {\n",
              "    background-color: var(--disabled-bg-color);\n",
              "    fill: var(--disabled-fill-color);\n",
              "    box-shadow: none;\n",
              "  }\n",
              "\n",
              "  .colab-df-spinner {\n",
              "    border: 2px solid var(--fill-color);\n",
              "    border-color: transparent;\n",
              "    border-bottom-color: var(--fill-color);\n",
              "    animation:\n",
              "      spin 1s steps(1) infinite;\n",
              "  }\n",
              "\n",
              "  @keyframes spin {\n",
              "    0% {\n",
              "      border-color: transparent;\n",
              "      border-bottom-color: var(--fill-color);\n",
              "      border-left-color: var(--fill-color);\n",
              "    }\n",
              "    20% {\n",
              "      border-color: transparent;\n",
              "      border-left-color: var(--fill-color);\n",
              "      border-top-color: var(--fill-color);\n",
              "    }\n",
              "    30% {\n",
              "      border-color: transparent;\n",
              "      border-left-color: var(--fill-color);\n",
              "      border-top-color: var(--fill-color);\n",
              "      border-right-color: var(--fill-color);\n",
              "    }\n",
              "    40% {\n",
              "      border-color: transparent;\n",
              "      border-right-color: var(--fill-color);\n",
              "      border-top-color: var(--fill-color);\n",
              "    }\n",
              "    60% {\n",
              "      border-color: transparent;\n",
              "      border-right-color: var(--fill-color);\n",
              "    }\n",
              "    80% {\n",
              "      border-color: transparent;\n",
              "      border-right-color: var(--fill-color);\n",
              "      border-bottom-color: var(--fill-color);\n",
              "    }\n",
              "    90% {\n",
              "      border-color: transparent;\n",
              "      border-bottom-color: var(--fill-color);\n",
              "    }\n",
              "  }\n",
              "</style>\n",
              "\n",
              "      <script>\n",
              "        async function quickchart(key) {\n",
              "          const quickchartButtonEl =\n",
              "            document.querySelector('#' + key + ' button');\n",
              "          quickchartButtonEl.disabled = true;  // To prevent multiple clicks.\n",
              "          quickchartButtonEl.classList.add('colab-df-spinner');\n",
              "          try {\n",
              "            const charts = await google.colab.kernel.invokeFunction(\n",
              "                'suggestCharts', [key], {});\n",
              "          } catch (error) {\n",
              "            console.error('Error during call to suggestCharts:', error);\n",
              "          }\n",
              "          quickchartButtonEl.classList.remove('colab-df-spinner');\n",
              "          quickchartButtonEl.classList.add('colab-df-quickchart-complete');\n",
              "        }\n",
              "        (() => {\n",
              "          let quickchartButtonEl =\n",
              "            document.querySelector('#df-b88ab3c0-2ea8-484b-80c1-f11693182127 button');\n",
              "          quickchartButtonEl.style.display =\n",
              "            google.colab.kernel.accessAllowed ? 'block' : 'none';\n",
              "        })();\n",
              "      </script>\n",
              "    </div>\n",
              "\n",
              "    </div>\n",
              "  </div>\n"
            ],
            "application/vnd.google.colaboratory.intrinsic+json": {
              "type": "dataframe",
              "variable_name": "df_bersih",
              "summary": "{\n  \"name\": \"df_bersih\",\n  \"rows\": 19997,\n  \"fields\": [\n    {\n      \"column\": \"content\",\n      \"properties\": {\n        \"dtype\": \"string\",\n        \"num_unique_values\": 14076,\n        \"samples\": [\n          \"Medsos nomer satu\",\n          \"Demi Allah ya, Instagram makin kesini makin ga jelas. Mau login aja susah bgt, sinyal wifi lancar bahkan pakai data yang sama lancarnya tetep ga bisa. update itu bertujuan untuk apa si menurut Instagram? Menjadikan aplikasi semakin lag? Semakin sulit digunakan? Jangankan login, lagi scroll aja sering lag, haduh pusing bgt untuk aplikasi internasional ternama seperti Instagram ini memalukan sih.\",\n          \"Satu\"\n        ],\n        \"semantic_type\": \"\",\n        \"description\": \"\"\n      }\n    },\n    {\n      \"column\": \"score\",\n      \"properties\": {\n        \"dtype\": \"number\",\n        \"std\": 1,\n        \"min\": 1,\n        \"max\": 5,\n        \"num_unique_values\": 5,\n        \"samples\": [\n          1,\n          2,\n          4\n        ],\n        \"semantic_type\": \"\",\n        \"description\": \"\"\n      }\n    },\n    {\n      \"column\": \"word_count\",\n      \"properties\": {\n        \"dtype\": \"number\",\n        \"std\": 9,\n        \"min\": 1,\n        \"max\": 110,\n        \"num_unique_values\": 93,\n        \"samples\": [\n          34,\n          37,\n          55\n        ],\n        \"semantic_type\": \"\",\n        \"description\": \"\"\n      }\n    },\n    {\n      \"column\": \"clean_content\",\n      \"properties\": {\n        \"dtype\": \"string\",\n        \"num_unique_values\": 13910,\n        \"samples\": [\n          \"Ig kenapa sih segiap mau ganti atau cari nama pengguna malah gagal muluu perbaiki nih aplikasinya\",\n          \"dlu ya karna kan aku tu wktu itu memo nya onuh trd ak hapus ig nah trus aku download lg pas uda masukin no tlpn buat login kr akun lg sllu aja ada pesan maaf ada maslaah uda berkali aku cb hasilnya sllu gituu\",\n          \"Aplikasi nya bagua tapi menurut aku kalaw lagu dan efek nya ada yang baru dan gampang di cari pasti lebih bagus dan menarik\"\n        ],\n        \"semantic_type\": \"\",\n        \"description\": \"\"\n      }\n    },\n    {\n      \"column\": \"casefold_content\",\n      \"properties\": {\n        \"dtype\": \"string\",\n        \"num_unique_values\": 13478,\n        \"samples\": [\n          \"ig menjadikan satu semangat dan inspirasi dalam hidup ini\",\n          \"bagian kolase tidak sempurna bahkan tidak\",\n          \"terimakasih apk bagus\"\n        ],\n        \"semantic_type\": \"\",\n        \"description\": \"\"\n      }\n    },\n    {\n      \"column\": \"tokens\",\n      \"properties\": {\n        \"dtype\": \"string\",\n        \"num_unique_values\": 13478,\n        \"samples\": [\n          \"['ig', 'menjadikan', 'satu', 'semangat', 'dan', 'inspirasi', 'dalam', 'hidup', 'ini']\",\n          \"['bagian', 'kolase', 'tidak', 'sempurna', 'bahkan', 'tidak']\",\n          \"['terimakasih', 'apk', 'bagus']\"\n        ],\n        \"semantic_type\": \"\",\n        \"description\": \"\"\n      }\n    },\n    {\n      \"column\": \"stemmed_tokens\",\n      \"properties\": {\n        \"dtype\": \"string\",\n        \"num_unique_values\": 12960,\n        \"samples\": [\n          \"['tolong', 'dong', 'diperbaikin', 'instagram', 'akhir', 'ini', 'ga', 'ada', 'bagus', 'di', 'baharu', 'jg', 'kaya', 'ga', 'guna', 'sama', 'sekali', 'tolong', 'di', 'baik', 'yaa']\",\n          \"['makin', 'maju']\",\n          \"['banyak', 'info', 'ide', 'komen', 'yang', 'bijak', 'ikut', 'yang', 'layak', 'terus', 'lah', 'karya']\"\n        ],\n        \"semantic_type\": \"\",\n        \"description\": \"\"\n      }\n    },\n    {\n      \"column\": \"tokens_negation\",\n      \"properties\": {\n        \"dtype\": \"string\",\n        \"num_unique_values\": 12960,\n        \"samples\": [\n          \"['tolong', 'dong', 'diperbaikin', 'instagram', 'akhir', 'ini', 'ga', 'ada', 'bagus', 'di', 'baharu', 'jg', 'kaya', 'ga', 'guna', 'sama', 'sekali', 'tolong', 'di', 'baik', 'yaa']\",\n          \"['makin', 'maju']\",\n          \"['banyak', 'info', 'ide', 'komen', 'yang', 'bijak', 'ikut', 'yang', 'layak', 'terus', 'lah', 'karya']\"\n        ],\n        \"semantic_type\": \"\",\n        \"description\": \"\"\n      }\n    },\n    {\n      \"column\": \"tokens_slang\",\n      \"properties\": {\n        \"dtype\": \"string\",\n        \"num_unique_values\": 12716,\n        \"samples\": [\n          \"['publikasi', 'cukup', 'baik', 'dan', 'cepat']\",\n          \"['bagus', 'banget', 'filter', 'nya', 'banyak', 'bisa', 'wa', 'sama', 'teman']\",\n          \"['baru', 'di', 'upgred', 'tapigk', 'jelas', 'situ', 'tulis', 'tambah', 'musik', 'di', 'profiltapi', 'tetap', 'hilang', 'gk', 'bisa', 'di', 'tambahknterus', 'avatarnya', 'juga', 'gk', 'bisa', 'lihat', 'pas', 'saya', 'coba', 'pakai', 'akun', 'lainsatu', 'lagi', 'instagram', 'kada', 'emoji', 'nya', 'keluar', 'bendera', 'lgbtq']\"\n        ],\n        \"semantic_type\": \"\",\n        \"description\": \"\"\n      }\n    },\n    {\n      \"column\": \"stopword_removal\",\n      \"properties\": {\n        \"dtype\": \"string\",\n        \"num_unique_values\": 11433,\n        \"samples\": [\n          \"['plss', 'ig', 'kasih', 'hilang', 'pesan', 'angsur', 'hilang', 'uh', 'uh', 'uh']\",\n          \"['jaringan', 'bagus', 'ig', 'buruk', 'upload', 'story', 'tunggu', 'koneksi', 'gitu', 'terosss', 'orang', 'tolol', 'dasar']\",\n          \"['cocok', 'informasi']\"\n        ],\n        \"semantic_type\": \"\",\n        \"description\": \"\"\n      }\n    }\n  ]\n}"
            }
          },
          "metadata": {},
          "execution_count": 40
        }
      ]
    },
    {
      "cell_type": "code",
      "source": [
        "df_bersih['stopword_removal'] = df_bersih['stopword_removal'].apply(ast.literal_eval)"
      ],
      "metadata": {
        "id": "mCiRKiuKtjXL"
      },
      "execution_count": 41,
      "outputs": []
    },
    {
      "cell_type": "code",
      "source": [
        "#Mengakses csv data word positive dan negative\n",
        "df_positive = pd.read_csv('positive.csv', header=0, sep='\\t', encoding='utf-8')\n",
        "df_negative = pd.read_csv('negative.csv', header=0, sep='\\t', encoding='utf-8')"
      ],
      "metadata": {
        "id": "Bt4LFv5TtmMs"
      },
      "execution_count": 42,
      "outputs": []
    },
    {
      "cell_type": "code",
      "source": [
        "#Menampilkan data kata-kata negative\n",
        "df_negative.head()"
      ],
      "metadata": {
        "id": "7O4hpZBstpfb",
        "colab": {
          "base_uri": "https://localhost:8080/",
          "height": 206
        },
        "outputId": "224b73d7-ebda-4a3c-b72b-7dad4d2234a1"
      },
      "execution_count": 43,
      "outputs": [
        {
          "output_type": "execute_result",
          "data": {
            "text/plain": [
              "                   word  weight\n",
              "0    putus tali gantung      -2\n",
              "1               gelebah      -2\n",
              "2            gobar hati      -2\n",
              "3  tersentuh (perasaan)      -1\n",
              "4                  isak      -5"
            ],
            "text/html": [
              "\n",
              "  <div id=\"df-02e940d1-aca6-4929-b77b-8efc81a080eb\" class=\"colab-df-container\">\n",
              "    <div>\n",
              "<style scoped>\n",
              "    .dataframe tbody tr th:only-of-type {\n",
              "        vertical-align: middle;\n",
              "    }\n",
              "\n",
              "    .dataframe tbody tr th {\n",
              "        vertical-align: top;\n",
              "    }\n",
              "\n",
              "    .dataframe thead th {\n",
              "        text-align: right;\n",
              "    }\n",
              "</style>\n",
              "<table border=\"1\" class=\"dataframe\">\n",
              "  <thead>\n",
              "    <tr style=\"text-align: right;\">\n",
              "      <th></th>\n",
              "      <th>word</th>\n",
              "      <th>weight</th>\n",
              "    </tr>\n",
              "  </thead>\n",
              "  <tbody>\n",
              "    <tr>\n",
              "      <th>0</th>\n",
              "      <td>putus tali gantung</td>\n",
              "      <td>-2</td>\n",
              "    </tr>\n",
              "    <tr>\n",
              "      <th>1</th>\n",
              "      <td>gelebah</td>\n",
              "      <td>-2</td>\n",
              "    </tr>\n",
              "    <tr>\n",
              "      <th>2</th>\n",
              "      <td>gobar hati</td>\n",
              "      <td>-2</td>\n",
              "    </tr>\n",
              "    <tr>\n",
              "      <th>3</th>\n",
              "      <td>tersentuh (perasaan)</td>\n",
              "      <td>-1</td>\n",
              "    </tr>\n",
              "    <tr>\n",
              "      <th>4</th>\n",
              "      <td>isak</td>\n",
              "      <td>-5</td>\n",
              "    </tr>\n",
              "  </tbody>\n",
              "</table>\n",
              "</div>\n",
              "    <div class=\"colab-df-buttons\">\n",
              "\n",
              "  <div class=\"colab-df-container\">\n",
              "    <button class=\"colab-df-convert\" onclick=\"convertToInteractive('df-02e940d1-aca6-4929-b77b-8efc81a080eb')\"\n",
              "            title=\"Convert this dataframe to an interactive table.\"\n",
              "            style=\"display:none;\">\n",
              "\n",
              "  <svg xmlns=\"http://www.w3.org/2000/svg\" height=\"24px\" viewBox=\"0 -960 960 960\">\n",
              "    <path d=\"M120-120v-720h720v720H120Zm60-500h600v-160H180v160Zm220 220h160v-160H400v160Zm0 220h160v-160H400v160ZM180-400h160v-160H180v160Zm440 0h160v-160H620v160ZM180-180h160v-160H180v160Zm440 0h160v-160H620v160Z\"/>\n",
              "  </svg>\n",
              "    </button>\n",
              "\n",
              "  <style>\n",
              "    .colab-df-container {\n",
              "      display:flex;\n",
              "      gap: 12px;\n",
              "    }\n",
              "\n",
              "    .colab-df-convert {\n",
              "      background-color: #E8F0FE;\n",
              "      border: none;\n",
              "      border-radius: 50%;\n",
              "      cursor: pointer;\n",
              "      display: none;\n",
              "      fill: #1967D2;\n",
              "      height: 32px;\n",
              "      padding: 0 0 0 0;\n",
              "      width: 32px;\n",
              "    }\n",
              "\n",
              "    .colab-df-convert:hover {\n",
              "      background-color: #E2EBFA;\n",
              "      box-shadow: 0px 1px 2px rgba(60, 64, 67, 0.3), 0px 1px 3px 1px rgba(60, 64, 67, 0.15);\n",
              "      fill: #174EA6;\n",
              "    }\n",
              "\n",
              "    .colab-df-buttons div {\n",
              "      margin-bottom: 4px;\n",
              "    }\n",
              "\n",
              "    [theme=dark] .colab-df-convert {\n",
              "      background-color: #3B4455;\n",
              "      fill: #D2E3FC;\n",
              "    }\n",
              "\n",
              "    [theme=dark] .colab-df-convert:hover {\n",
              "      background-color: #434B5C;\n",
              "      box-shadow: 0px 1px 3px 1px rgba(0, 0, 0, 0.15);\n",
              "      filter: drop-shadow(0px 1px 2px rgba(0, 0, 0, 0.3));\n",
              "      fill: #FFFFFF;\n",
              "    }\n",
              "  </style>\n",
              "\n",
              "    <script>\n",
              "      const buttonEl =\n",
              "        document.querySelector('#df-02e940d1-aca6-4929-b77b-8efc81a080eb button.colab-df-convert');\n",
              "      buttonEl.style.display =\n",
              "        google.colab.kernel.accessAllowed ? 'block' : 'none';\n",
              "\n",
              "      async function convertToInteractive(key) {\n",
              "        const element = document.querySelector('#df-02e940d1-aca6-4929-b77b-8efc81a080eb');\n",
              "        const dataTable =\n",
              "          await google.colab.kernel.invokeFunction('convertToInteractive',\n",
              "                                                    [key], {});\n",
              "        if (!dataTable) return;\n",
              "\n",
              "        const docLinkHtml = 'Like what you see? Visit the ' +\n",
              "          '<a target=\"_blank\" href=https://colab.research.google.com/notebooks/data_table.ipynb>data table notebook</a>'\n",
              "          + ' to learn more about interactive tables.';\n",
              "        element.innerHTML = '';\n",
              "        dataTable['output_type'] = 'display_data';\n",
              "        await google.colab.output.renderOutput(dataTable, element);\n",
              "        const docLink = document.createElement('div');\n",
              "        docLink.innerHTML = docLinkHtml;\n",
              "        element.appendChild(docLink);\n",
              "      }\n",
              "    </script>\n",
              "  </div>\n",
              "\n",
              "\n",
              "    <div id=\"df-e00e9f1a-bdad-480b-b868-3eb60c72fc17\">\n",
              "      <button class=\"colab-df-quickchart\" onclick=\"quickchart('df-e00e9f1a-bdad-480b-b868-3eb60c72fc17')\"\n",
              "                title=\"Suggest charts\"\n",
              "                style=\"display:none;\">\n",
              "\n",
              "<svg xmlns=\"http://www.w3.org/2000/svg\" height=\"24px\"viewBox=\"0 0 24 24\"\n",
              "     width=\"24px\">\n",
              "    <g>\n",
              "        <path d=\"M19 3H5c-1.1 0-2 .9-2 2v14c0 1.1.9 2 2 2h14c1.1 0 2-.9 2-2V5c0-1.1-.9-2-2-2zM9 17H7v-7h2v7zm4 0h-2V7h2v10zm4 0h-2v-4h2v4z\"/>\n",
              "    </g>\n",
              "</svg>\n",
              "      </button>\n",
              "\n",
              "<style>\n",
              "  .colab-df-quickchart {\n",
              "      --bg-color: #E8F0FE;\n",
              "      --fill-color: #1967D2;\n",
              "      --hover-bg-color: #E2EBFA;\n",
              "      --hover-fill-color: #174EA6;\n",
              "      --disabled-fill-color: #AAA;\n",
              "      --disabled-bg-color: #DDD;\n",
              "  }\n",
              "\n",
              "  [theme=dark] .colab-df-quickchart {\n",
              "      --bg-color: #3B4455;\n",
              "      --fill-color: #D2E3FC;\n",
              "      --hover-bg-color: #434B5C;\n",
              "      --hover-fill-color: #FFFFFF;\n",
              "      --disabled-bg-color: #3B4455;\n",
              "      --disabled-fill-color: #666;\n",
              "  }\n",
              "\n",
              "  .colab-df-quickchart {\n",
              "    background-color: var(--bg-color);\n",
              "    border: none;\n",
              "    border-radius: 50%;\n",
              "    cursor: pointer;\n",
              "    display: none;\n",
              "    fill: var(--fill-color);\n",
              "    height: 32px;\n",
              "    padding: 0;\n",
              "    width: 32px;\n",
              "  }\n",
              "\n",
              "  .colab-df-quickchart:hover {\n",
              "    background-color: var(--hover-bg-color);\n",
              "    box-shadow: 0 1px 2px rgba(60, 64, 67, 0.3), 0 1px 3px 1px rgba(60, 64, 67, 0.15);\n",
              "    fill: var(--button-hover-fill-color);\n",
              "  }\n",
              "\n",
              "  .colab-df-quickchart-complete:disabled,\n",
              "  .colab-df-quickchart-complete:disabled:hover {\n",
              "    background-color: var(--disabled-bg-color);\n",
              "    fill: var(--disabled-fill-color);\n",
              "    box-shadow: none;\n",
              "  }\n",
              "\n",
              "  .colab-df-spinner {\n",
              "    border: 2px solid var(--fill-color);\n",
              "    border-color: transparent;\n",
              "    border-bottom-color: var(--fill-color);\n",
              "    animation:\n",
              "      spin 1s steps(1) infinite;\n",
              "  }\n",
              "\n",
              "  @keyframes spin {\n",
              "    0% {\n",
              "      border-color: transparent;\n",
              "      border-bottom-color: var(--fill-color);\n",
              "      border-left-color: var(--fill-color);\n",
              "    }\n",
              "    20% {\n",
              "      border-color: transparent;\n",
              "      border-left-color: var(--fill-color);\n",
              "      border-top-color: var(--fill-color);\n",
              "    }\n",
              "    30% {\n",
              "      border-color: transparent;\n",
              "      border-left-color: var(--fill-color);\n",
              "      border-top-color: var(--fill-color);\n",
              "      border-right-color: var(--fill-color);\n",
              "    }\n",
              "    40% {\n",
              "      border-color: transparent;\n",
              "      border-right-color: var(--fill-color);\n",
              "      border-top-color: var(--fill-color);\n",
              "    }\n",
              "    60% {\n",
              "      border-color: transparent;\n",
              "      border-right-color: var(--fill-color);\n",
              "    }\n",
              "    80% {\n",
              "      border-color: transparent;\n",
              "      border-right-color: var(--fill-color);\n",
              "      border-bottom-color: var(--fill-color);\n",
              "    }\n",
              "    90% {\n",
              "      border-color: transparent;\n",
              "      border-bottom-color: var(--fill-color);\n",
              "    }\n",
              "  }\n",
              "</style>\n",
              "\n",
              "      <script>\n",
              "        async function quickchart(key) {\n",
              "          const quickchartButtonEl =\n",
              "            document.querySelector('#' + key + ' button');\n",
              "          quickchartButtonEl.disabled = true;  // To prevent multiple clicks.\n",
              "          quickchartButtonEl.classList.add('colab-df-spinner');\n",
              "          try {\n",
              "            const charts = await google.colab.kernel.invokeFunction(\n",
              "                'suggestCharts', [key], {});\n",
              "          } catch (error) {\n",
              "            console.error('Error during call to suggestCharts:', error);\n",
              "          }\n",
              "          quickchartButtonEl.classList.remove('colab-df-spinner');\n",
              "          quickchartButtonEl.classList.add('colab-df-quickchart-complete');\n",
              "        }\n",
              "        (() => {\n",
              "          let quickchartButtonEl =\n",
              "            document.querySelector('#df-e00e9f1a-bdad-480b-b868-3eb60c72fc17 button');\n",
              "          quickchartButtonEl.style.display =\n",
              "            google.colab.kernel.accessAllowed ? 'block' : 'none';\n",
              "        })();\n",
              "      </script>\n",
              "    </div>\n",
              "\n",
              "    </div>\n",
              "  </div>\n"
            ],
            "application/vnd.google.colaboratory.intrinsic+json": {
              "type": "dataframe",
              "variable_name": "df_negative",
              "summary": "{\n  \"name\": \"df_negative\",\n  \"rows\": 6609,\n  \"fields\": [\n    {\n      \"column\": \"word\",\n      \"properties\": {\n        \"dtype\": \"string\",\n        \"num_unique_values\": 6607,\n        \"samples\": [\n          \"hatiku\",\n          \"besi tua\",\n          \"geser\"\n        ],\n        \"semantic_type\": \"\",\n        \"description\": \"\"\n      }\n    },\n    {\n      \"column\": \"weight\",\n      \"properties\": {\n        \"dtype\": \"number\",\n        \"std\": 1,\n        \"min\": -5,\n        \"max\": -1,\n        \"num_unique_values\": 5,\n        \"samples\": [\n          -1,\n          -4,\n          -5\n        ],\n        \"semantic_type\": \"\",\n        \"description\": \"\"\n      }\n    }\n  ]\n}"
            }
          },
          "metadata": {},
          "execution_count": 43
        }
      ]
    },
    {
      "cell_type": "code",
      "source": [
        "#Menampilkan data kata-kata positive\n",
        "df_positive.head()"
      ],
      "metadata": {
        "id": "ZPQ76G9dtqKr",
        "colab": {
          "base_uri": "https://localhost:8080/",
          "height": 206
        },
        "outputId": "0f5b3663-8c82-4e5d-9f00-f17f247f3ffd"
      },
      "execution_count": 44,
      "outputs": [
        {
          "output_type": "execute_result",
          "data": {
            "text/plain": [
              "        word  weight\n",
              "0        hai       3\n",
              "1    merekam       2\n",
              "2  ekstensif       3\n",
              "3  paripurna       1\n",
              "4     detail       2"
            ],
            "text/html": [
              "\n",
              "  <div id=\"df-7ca72936-561e-4032-b575-bfbb61cca43f\" class=\"colab-df-container\">\n",
              "    <div>\n",
              "<style scoped>\n",
              "    .dataframe tbody tr th:only-of-type {\n",
              "        vertical-align: middle;\n",
              "    }\n",
              "\n",
              "    .dataframe tbody tr th {\n",
              "        vertical-align: top;\n",
              "    }\n",
              "\n",
              "    .dataframe thead th {\n",
              "        text-align: right;\n",
              "    }\n",
              "</style>\n",
              "<table border=\"1\" class=\"dataframe\">\n",
              "  <thead>\n",
              "    <tr style=\"text-align: right;\">\n",
              "      <th></th>\n",
              "      <th>word</th>\n",
              "      <th>weight</th>\n",
              "    </tr>\n",
              "  </thead>\n",
              "  <tbody>\n",
              "    <tr>\n",
              "      <th>0</th>\n",
              "      <td>hai</td>\n",
              "      <td>3</td>\n",
              "    </tr>\n",
              "    <tr>\n",
              "      <th>1</th>\n",
              "      <td>merekam</td>\n",
              "      <td>2</td>\n",
              "    </tr>\n",
              "    <tr>\n",
              "      <th>2</th>\n",
              "      <td>ekstensif</td>\n",
              "      <td>3</td>\n",
              "    </tr>\n",
              "    <tr>\n",
              "      <th>3</th>\n",
              "      <td>paripurna</td>\n",
              "      <td>1</td>\n",
              "    </tr>\n",
              "    <tr>\n",
              "      <th>4</th>\n",
              "      <td>detail</td>\n",
              "      <td>2</td>\n",
              "    </tr>\n",
              "  </tbody>\n",
              "</table>\n",
              "</div>\n",
              "    <div class=\"colab-df-buttons\">\n",
              "\n",
              "  <div class=\"colab-df-container\">\n",
              "    <button class=\"colab-df-convert\" onclick=\"convertToInteractive('df-7ca72936-561e-4032-b575-bfbb61cca43f')\"\n",
              "            title=\"Convert this dataframe to an interactive table.\"\n",
              "            style=\"display:none;\">\n",
              "\n",
              "  <svg xmlns=\"http://www.w3.org/2000/svg\" height=\"24px\" viewBox=\"0 -960 960 960\">\n",
              "    <path d=\"M120-120v-720h720v720H120Zm60-500h600v-160H180v160Zm220 220h160v-160H400v160Zm0 220h160v-160H400v160ZM180-400h160v-160H180v160Zm440 0h160v-160H620v160ZM180-180h160v-160H180v160Zm440 0h160v-160H620v160Z\"/>\n",
              "  </svg>\n",
              "    </button>\n",
              "\n",
              "  <style>\n",
              "    .colab-df-container {\n",
              "      display:flex;\n",
              "      gap: 12px;\n",
              "    }\n",
              "\n",
              "    .colab-df-convert {\n",
              "      background-color: #E8F0FE;\n",
              "      border: none;\n",
              "      border-radius: 50%;\n",
              "      cursor: pointer;\n",
              "      display: none;\n",
              "      fill: #1967D2;\n",
              "      height: 32px;\n",
              "      padding: 0 0 0 0;\n",
              "      width: 32px;\n",
              "    }\n",
              "\n",
              "    .colab-df-convert:hover {\n",
              "      background-color: #E2EBFA;\n",
              "      box-shadow: 0px 1px 2px rgba(60, 64, 67, 0.3), 0px 1px 3px 1px rgba(60, 64, 67, 0.15);\n",
              "      fill: #174EA6;\n",
              "    }\n",
              "\n",
              "    .colab-df-buttons div {\n",
              "      margin-bottom: 4px;\n",
              "    }\n",
              "\n",
              "    [theme=dark] .colab-df-convert {\n",
              "      background-color: #3B4455;\n",
              "      fill: #D2E3FC;\n",
              "    }\n",
              "\n",
              "    [theme=dark] .colab-df-convert:hover {\n",
              "      background-color: #434B5C;\n",
              "      box-shadow: 0px 1px 3px 1px rgba(0, 0, 0, 0.15);\n",
              "      filter: drop-shadow(0px 1px 2px rgba(0, 0, 0, 0.3));\n",
              "      fill: #FFFFFF;\n",
              "    }\n",
              "  </style>\n",
              "\n",
              "    <script>\n",
              "      const buttonEl =\n",
              "        document.querySelector('#df-7ca72936-561e-4032-b575-bfbb61cca43f button.colab-df-convert');\n",
              "      buttonEl.style.display =\n",
              "        google.colab.kernel.accessAllowed ? 'block' : 'none';\n",
              "\n",
              "      async function convertToInteractive(key) {\n",
              "        const element = document.querySelector('#df-7ca72936-561e-4032-b575-bfbb61cca43f');\n",
              "        const dataTable =\n",
              "          await google.colab.kernel.invokeFunction('convertToInteractive',\n",
              "                                                    [key], {});\n",
              "        if (!dataTable) return;\n",
              "\n",
              "        const docLinkHtml = 'Like what you see? Visit the ' +\n",
              "          '<a target=\"_blank\" href=https://colab.research.google.com/notebooks/data_table.ipynb>data table notebook</a>'\n",
              "          + ' to learn more about interactive tables.';\n",
              "        element.innerHTML = '';\n",
              "        dataTable['output_type'] = 'display_data';\n",
              "        await google.colab.output.renderOutput(dataTable, element);\n",
              "        const docLink = document.createElement('div');\n",
              "        docLink.innerHTML = docLinkHtml;\n",
              "        element.appendChild(docLink);\n",
              "      }\n",
              "    </script>\n",
              "  </div>\n",
              "\n",
              "\n",
              "    <div id=\"df-5a63fe4b-1013-477b-91e4-5b25c429e0eb\">\n",
              "      <button class=\"colab-df-quickchart\" onclick=\"quickchart('df-5a63fe4b-1013-477b-91e4-5b25c429e0eb')\"\n",
              "                title=\"Suggest charts\"\n",
              "                style=\"display:none;\">\n",
              "\n",
              "<svg xmlns=\"http://www.w3.org/2000/svg\" height=\"24px\"viewBox=\"0 0 24 24\"\n",
              "     width=\"24px\">\n",
              "    <g>\n",
              "        <path d=\"M19 3H5c-1.1 0-2 .9-2 2v14c0 1.1.9 2 2 2h14c1.1 0 2-.9 2-2V5c0-1.1-.9-2-2-2zM9 17H7v-7h2v7zm4 0h-2V7h2v10zm4 0h-2v-4h2v4z\"/>\n",
              "    </g>\n",
              "</svg>\n",
              "      </button>\n",
              "\n",
              "<style>\n",
              "  .colab-df-quickchart {\n",
              "      --bg-color: #E8F0FE;\n",
              "      --fill-color: #1967D2;\n",
              "      --hover-bg-color: #E2EBFA;\n",
              "      --hover-fill-color: #174EA6;\n",
              "      --disabled-fill-color: #AAA;\n",
              "      --disabled-bg-color: #DDD;\n",
              "  }\n",
              "\n",
              "  [theme=dark] .colab-df-quickchart {\n",
              "      --bg-color: #3B4455;\n",
              "      --fill-color: #D2E3FC;\n",
              "      --hover-bg-color: #434B5C;\n",
              "      --hover-fill-color: #FFFFFF;\n",
              "      --disabled-bg-color: #3B4455;\n",
              "      --disabled-fill-color: #666;\n",
              "  }\n",
              "\n",
              "  .colab-df-quickchart {\n",
              "    background-color: var(--bg-color);\n",
              "    border: none;\n",
              "    border-radius: 50%;\n",
              "    cursor: pointer;\n",
              "    display: none;\n",
              "    fill: var(--fill-color);\n",
              "    height: 32px;\n",
              "    padding: 0;\n",
              "    width: 32px;\n",
              "  }\n",
              "\n",
              "  .colab-df-quickchart:hover {\n",
              "    background-color: var(--hover-bg-color);\n",
              "    box-shadow: 0 1px 2px rgba(60, 64, 67, 0.3), 0 1px 3px 1px rgba(60, 64, 67, 0.15);\n",
              "    fill: var(--button-hover-fill-color);\n",
              "  }\n",
              "\n",
              "  .colab-df-quickchart-complete:disabled,\n",
              "  .colab-df-quickchart-complete:disabled:hover {\n",
              "    background-color: var(--disabled-bg-color);\n",
              "    fill: var(--disabled-fill-color);\n",
              "    box-shadow: none;\n",
              "  }\n",
              "\n",
              "  .colab-df-spinner {\n",
              "    border: 2px solid var(--fill-color);\n",
              "    border-color: transparent;\n",
              "    border-bottom-color: var(--fill-color);\n",
              "    animation:\n",
              "      spin 1s steps(1) infinite;\n",
              "  }\n",
              "\n",
              "  @keyframes spin {\n",
              "    0% {\n",
              "      border-color: transparent;\n",
              "      border-bottom-color: var(--fill-color);\n",
              "      border-left-color: var(--fill-color);\n",
              "    }\n",
              "    20% {\n",
              "      border-color: transparent;\n",
              "      border-left-color: var(--fill-color);\n",
              "      border-top-color: var(--fill-color);\n",
              "    }\n",
              "    30% {\n",
              "      border-color: transparent;\n",
              "      border-left-color: var(--fill-color);\n",
              "      border-top-color: var(--fill-color);\n",
              "      border-right-color: var(--fill-color);\n",
              "    }\n",
              "    40% {\n",
              "      border-color: transparent;\n",
              "      border-right-color: var(--fill-color);\n",
              "      border-top-color: var(--fill-color);\n",
              "    }\n",
              "    60% {\n",
              "      border-color: transparent;\n",
              "      border-right-color: var(--fill-color);\n",
              "    }\n",
              "    80% {\n",
              "      border-color: transparent;\n",
              "      border-right-color: var(--fill-color);\n",
              "      border-bottom-color: var(--fill-color);\n",
              "    }\n",
              "    90% {\n",
              "      border-color: transparent;\n",
              "      border-bottom-color: var(--fill-color);\n",
              "    }\n",
              "  }\n",
              "</style>\n",
              "\n",
              "      <script>\n",
              "        async function quickchart(key) {\n",
              "          const quickchartButtonEl =\n",
              "            document.querySelector('#' + key + ' button');\n",
              "          quickchartButtonEl.disabled = true;  // To prevent multiple clicks.\n",
              "          quickchartButtonEl.classList.add('colab-df-spinner');\n",
              "          try {\n",
              "            const charts = await google.colab.kernel.invokeFunction(\n",
              "                'suggestCharts', [key], {});\n",
              "          } catch (error) {\n",
              "            console.error('Error during call to suggestCharts:', error);\n",
              "          }\n",
              "          quickchartButtonEl.classList.remove('colab-df-spinner');\n",
              "          quickchartButtonEl.classList.add('colab-df-quickchart-complete');\n",
              "        }\n",
              "        (() => {\n",
              "          let quickchartButtonEl =\n",
              "            document.querySelector('#df-5a63fe4b-1013-477b-91e4-5b25c429e0eb button');\n",
              "          quickchartButtonEl.style.display =\n",
              "            google.colab.kernel.accessAllowed ? 'block' : 'none';\n",
              "        })();\n",
              "      </script>\n",
              "    </div>\n",
              "\n",
              "    </div>\n",
              "  </div>\n"
            ],
            "application/vnd.google.colaboratory.intrinsic+json": {
              "type": "dataframe",
              "variable_name": "df_positive",
              "summary": "{\n  \"name\": \"df_positive\",\n  \"rows\": 3609,\n  \"fields\": [\n    {\n      \"column\": \"word\",\n      \"properties\": {\n        \"dtype\": \"string\",\n        \"num_unique_values\": 3609,\n        \"samples\": [\n          \"bayang-bayang\",\n          \"maimun\",\n          \"komplet\"\n        ],\n        \"semantic_type\": \"\",\n        \"description\": \"\"\n      }\n    },\n    {\n      \"column\": \"weight\",\n      \"properties\": {\n        \"dtype\": \"number\",\n        \"std\": 1,\n        \"min\": 1,\n        \"max\": 5,\n        \"num_unique_values\": 5,\n        \"samples\": [\n          2,\n          5,\n          1\n        ],\n        \"semantic_type\": \"\",\n        \"description\": \"\"\n      }\n    }\n  ]\n}"
            }
          },
          "metadata": {},
          "execution_count": 44
        }
      ]
    },
    {
      "cell_type": "code",
      "source": [
        "#Cleaning dataset kata positive dan negative\n",
        "positive_words = set(df_positive['word'].str.strip().dropna())\n",
        "negative_words = set(df_negative['word'].str.strip().dropna())"
      ],
      "metadata": {
        "id": "fKPJ2i90ttMT"
      },
      "execution_count": 45,
      "outputs": []
    },
    {
      "cell_type": "code",
      "source": [
        "# Fungsi pelabelan sentimen dengan skor lexikon\n",
        "def lexicon_sentiment_scoring(token_list):\n",
        "    score = 0\n",
        "    for token in token_list:\n",
        "        if token in positive_words:\n",
        "            score += 1\n",
        "        elif token in negative_words:\n",
        "            score -= 1\n",
        "    if score > 0:\n",
        "        label = 'positif'\n",
        "    elif score < 0:\n",
        "        label = 'negatif'\n",
        "    else:\n",
        "        label = 'netral'\n",
        "    return label, score\n",
        "\n",
        "df_bersih['sentiment_result'] = df_bersih['stopword_removal'].apply(lexicon_sentiment_scoring)\n",
        "df_bersih[['sentiment_label', 'sentiment_score']] = pd.DataFrame(df_bersih['sentiment_result'].tolist(), index=df_bersih.index)\n",
        "df_bersih.drop(columns=['sentiment_result'], inplace=True)\n",
        "df_bersih.to_csv('data_bersih_berlabel.csv', index=False, encoding='utf-8')\n",
        "\n",
        "print(\"Pelabelan sentimen selesai dan disimpan pada 'data_bersih_berlabel.csv'\")"
      ],
      "metadata": {
        "id": "I5pdtlm3twAz",
        "colab": {
          "base_uri": "https://localhost:8080/"
        },
        "outputId": "6afe2c19-3ecd-4af1-c24d-cefecf4ba2b2"
      },
      "execution_count": 46,
      "outputs": [
        {
          "output_type": "stream",
          "name": "stdout",
          "text": [
            "Pelabelan sentimen selesai dan disimpan pada 'data_bersih_berlabel.csv'\n"
          ]
        }
      ]
    },
    {
      "cell_type": "code",
      "source": [
        "ulasan = pd.read_csv('data_bersih_berlabel.csv')"
      ],
      "metadata": {
        "id": "qVXWioFotyFz"
      },
      "execution_count": 47,
      "outputs": []
    },
    {
      "cell_type": "code",
      "source": [
        "print(\"\\nMissing Values setelah dilakukan cleaning:\")\n",
        "print(ulasan.isnull().sum())"
      ],
      "metadata": {
        "id": "15aUG6vZt17z",
        "colab": {
          "base_uri": "https://localhost:8080/"
        },
        "outputId": "6e3367ef-3a26-46dc-f201-ad71b3d16732"
      },
      "execution_count": 48,
      "outputs": [
        {
          "output_type": "stream",
          "name": "stdout",
          "text": [
            "\n",
            "Missing Values setelah dilakukan cleaning:\n",
            "content             0\n",
            "score               0\n",
            "word_count          0\n",
            "clean_content       0\n",
            "casefold_content    0\n",
            "tokens              0\n",
            "stemmed_tokens      0\n",
            "tokens_negation     0\n",
            "tokens_slang        0\n",
            "stopword_removal    0\n",
            "sentiment_label     0\n",
            "sentiment_score     0\n",
            "dtype: int64\n"
          ]
        }
      ]
    },
    {
      "cell_type": "code",
      "source": [
        "ulasan.head()"
      ],
      "metadata": {
        "id": "PVrPmin9t3lT",
        "colab": {
          "base_uri": "https://localhost:8080/",
          "height": 397
        },
        "outputId": "66c36f72-6e8a-48d8-a92c-89250d4ed72a"
      },
      "execution_count": 49,
      "outputs": [
        {
          "output_type": "execute_result",
          "data": {
            "text/plain": [
              "                                             content  score  word_count  \\\n",
              "0                                           Mantap 🔥      5           2   \n",
              "1  Gatau kenapa, dari kemarin tuh aku gabisa buat...      1          30   \n",
              "2          Dukun aku buat menjangkau bintang direels      5           6   \n",
              "3  ada apakah selalu for close pas mau membuka ap...      1          11   \n",
              "4                                               Good      5           1   \n",
              "\n",
              "                                       clean_content  \\\n",
              "0                                           Mantap 🔥   \n",
              "1  Gatau kenapa dari kemarin tuh aku gabisa buat ...   \n",
              "2          Dukun aku buat menjangkau bintang direels   \n",
              "3  ada apakah selalu for close pas mau membuka ap...   \n",
              "4                                               Good   \n",
              "\n",
              "                                    casefold_content  \\\n",
              "0                                           mantap 🔥   \n",
              "1  gatau kenapa dari kemarin tuh aku gabisa buat ...   \n",
              "2          dukun aku buat menjangkau bintang direels   \n",
              "3  ada apakah selalu for close pas mau membuka ap...   \n",
              "4                                               good   \n",
              "\n",
              "                                              tokens  \\\n",
              "0                                    ['mantap', '🔥']   \n",
              "1  ['gatau', 'kenapa', 'dari', 'kemarin', 'tuh', ...   \n",
              "2  ['dukun', 'aku', 'buat', 'menjangkau', 'bintan...   \n",
              "3  ['ada', 'apakah', 'selalu', 'for', 'close', 'p...   \n",
              "4                                           ['good']   \n",
              "\n",
              "                                      stemmed_tokens  \\\n",
              "0                                     ['mantap', '']   \n",
              "1  ['gatau', 'kenapa', 'dari', 'kemarin', 'tuh', ...   \n",
              "2  ['dukun', 'aku', 'buat', 'jangkau', 'bintang',...   \n",
              "3  ['ada', 'apakah', 'selalu', 'for', 'close', 'p...   \n",
              "4                                           ['good']   \n",
              "\n",
              "                                     tokens_negation  \\\n",
              "0                                     ['mantap', '']   \n",
              "1  ['gatau', 'kenapa', 'dari', 'kemarin', 'tuh', ...   \n",
              "2  ['dukun', 'aku', 'buat', 'jangkau', 'bintang',...   \n",
              "3  ['ada', 'apakah', 'selalu', 'for', 'close', 'p...   \n",
              "4                                           ['good']   \n",
              "\n",
              "                                        tokens_slang  \\\n",
              "0                                     ['mantap', '']   \n",
              "1  ['gatau', 'kenapa', 'dari', 'kemarin', 'tuh', ...   \n",
              "2  ['dukun', 'aku', 'buat', 'jangkau', 'bintang',...   \n",
              "3  ['ada', 'apakah', 'selalu', 'for', 'tutup', 'p...   \n",
              "4                                          ['bagus']   \n",
              "\n",
              "                                    stopword_removal sentiment_label  \\\n",
              "0                                     ['mantap', '']         positif   \n",
              "1  ['gatau', 'kemarin', 'tuh', 'tidak bisa', 'pos...         positif   \n",
              "2         ['dukun', 'jangkau', 'bintang', 'direels']         negatif   \n",
              "3  ['tutup', 'pas', 'buka', 'aplikasi', 'instagram']          netral   \n",
              "4                                          ['bagus']         positif   \n",
              "\n",
              "   sentiment_score  \n",
              "0                1  \n",
              "1                1  \n",
              "2               -1  \n",
              "3                0  \n",
              "4                1  "
            ],
            "text/html": [
              "\n",
              "  <div id=\"df-76e3a5f5-c077-4190-bc31-72c9b5337d95\" class=\"colab-df-container\">\n",
              "    <div>\n",
              "<style scoped>\n",
              "    .dataframe tbody tr th:only-of-type {\n",
              "        vertical-align: middle;\n",
              "    }\n",
              "\n",
              "    .dataframe tbody tr th {\n",
              "        vertical-align: top;\n",
              "    }\n",
              "\n",
              "    .dataframe thead th {\n",
              "        text-align: right;\n",
              "    }\n",
              "</style>\n",
              "<table border=\"1\" class=\"dataframe\">\n",
              "  <thead>\n",
              "    <tr style=\"text-align: right;\">\n",
              "      <th></th>\n",
              "      <th>content</th>\n",
              "      <th>score</th>\n",
              "      <th>word_count</th>\n",
              "      <th>clean_content</th>\n",
              "      <th>casefold_content</th>\n",
              "      <th>tokens</th>\n",
              "      <th>stemmed_tokens</th>\n",
              "      <th>tokens_negation</th>\n",
              "      <th>tokens_slang</th>\n",
              "      <th>stopword_removal</th>\n",
              "      <th>sentiment_label</th>\n",
              "      <th>sentiment_score</th>\n",
              "    </tr>\n",
              "  </thead>\n",
              "  <tbody>\n",
              "    <tr>\n",
              "      <th>0</th>\n",
              "      <td>Mantap 🔥</td>\n",
              "      <td>5</td>\n",
              "      <td>2</td>\n",
              "      <td>Mantap 🔥</td>\n",
              "      <td>mantap 🔥</td>\n",
              "      <td>['mantap', '🔥']</td>\n",
              "      <td>['mantap', '']</td>\n",
              "      <td>['mantap', '']</td>\n",
              "      <td>['mantap', '']</td>\n",
              "      <td>['mantap', '']</td>\n",
              "      <td>positif</td>\n",
              "      <td>1</td>\n",
              "    </tr>\n",
              "    <tr>\n",
              "      <th>1</th>\n",
              "      <td>Gatau kenapa, dari kemarin tuh aku gabisa buat...</td>\n",
              "      <td>1</td>\n",
              "      <td>30</td>\n",
              "      <td>Gatau kenapa dari kemarin tuh aku gabisa buat ...</td>\n",
              "      <td>gatau kenapa dari kemarin tuh aku gabisa buat ...</td>\n",
              "      <td>['gatau', 'kenapa', 'dari', 'kemarin', 'tuh', ...</td>\n",
              "      <td>['gatau', 'kenapa', 'dari', 'kemarin', 'tuh', ...</td>\n",
              "      <td>['gatau', 'kenapa', 'dari', 'kemarin', 'tuh', ...</td>\n",
              "      <td>['gatau', 'kenapa', 'dari', 'kemarin', 'tuh', ...</td>\n",
              "      <td>['gatau', 'kemarin', 'tuh', 'tidak bisa', 'pos...</td>\n",
              "      <td>positif</td>\n",
              "      <td>1</td>\n",
              "    </tr>\n",
              "    <tr>\n",
              "      <th>2</th>\n",
              "      <td>Dukun aku buat menjangkau bintang direels</td>\n",
              "      <td>5</td>\n",
              "      <td>6</td>\n",
              "      <td>Dukun aku buat menjangkau bintang direels</td>\n",
              "      <td>dukun aku buat menjangkau bintang direels</td>\n",
              "      <td>['dukun', 'aku', 'buat', 'menjangkau', 'bintan...</td>\n",
              "      <td>['dukun', 'aku', 'buat', 'jangkau', 'bintang',...</td>\n",
              "      <td>['dukun', 'aku', 'buat', 'jangkau', 'bintang',...</td>\n",
              "      <td>['dukun', 'aku', 'buat', 'jangkau', 'bintang',...</td>\n",
              "      <td>['dukun', 'jangkau', 'bintang', 'direels']</td>\n",
              "      <td>negatif</td>\n",
              "      <td>-1</td>\n",
              "    </tr>\n",
              "    <tr>\n",
              "      <th>3</th>\n",
              "      <td>ada apakah selalu for close pas mau membuka ap...</td>\n",
              "      <td>1</td>\n",
              "      <td>11</td>\n",
              "      <td>ada apakah selalu for close pas mau membuka ap...</td>\n",
              "      <td>ada apakah selalu for close pas mau membuka ap...</td>\n",
              "      <td>['ada', 'apakah', 'selalu', 'for', 'close', 'p...</td>\n",
              "      <td>['ada', 'apakah', 'selalu', 'for', 'close', 'p...</td>\n",
              "      <td>['ada', 'apakah', 'selalu', 'for', 'close', 'p...</td>\n",
              "      <td>['ada', 'apakah', 'selalu', 'for', 'tutup', 'p...</td>\n",
              "      <td>['tutup', 'pas', 'buka', 'aplikasi', 'instagram']</td>\n",
              "      <td>netral</td>\n",
              "      <td>0</td>\n",
              "    </tr>\n",
              "    <tr>\n",
              "      <th>4</th>\n",
              "      <td>Good</td>\n",
              "      <td>5</td>\n",
              "      <td>1</td>\n",
              "      <td>Good</td>\n",
              "      <td>good</td>\n",
              "      <td>['good']</td>\n",
              "      <td>['good']</td>\n",
              "      <td>['good']</td>\n",
              "      <td>['bagus']</td>\n",
              "      <td>['bagus']</td>\n",
              "      <td>positif</td>\n",
              "      <td>1</td>\n",
              "    </tr>\n",
              "  </tbody>\n",
              "</table>\n",
              "</div>\n",
              "    <div class=\"colab-df-buttons\">\n",
              "\n",
              "  <div class=\"colab-df-container\">\n",
              "    <button class=\"colab-df-convert\" onclick=\"convertToInteractive('df-76e3a5f5-c077-4190-bc31-72c9b5337d95')\"\n",
              "            title=\"Convert this dataframe to an interactive table.\"\n",
              "            style=\"display:none;\">\n",
              "\n",
              "  <svg xmlns=\"http://www.w3.org/2000/svg\" height=\"24px\" viewBox=\"0 -960 960 960\">\n",
              "    <path d=\"M120-120v-720h720v720H120Zm60-500h600v-160H180v160Zm220 220h160v-160H400v160Zm0 220h160v-160H400v160ZM180-400h160v-160H180v160Zm440 0h160v-160H620v160ZM180-180h160v-160H180v160Zm440 0h160v-160H620v160Z\"/>\n",
              "  </svg>\n",
              "    </button>\n",
              "\n",
              "  <style>\n",
              "    .colab-df-container {\n",
              "      display:flex;\n",
              "      gap: 12px;\n",
              "    }\n",
              "\n",
              "    .colab-df-convert {\n",
              "      background-color: #E8F0FE;\n",
              "      border: none;\n",
              "      border-radius: 50%;\n",
              "      cursor: pointer;\n",
              "      display: none;\n",
              "      fill: #1967D2;\n",
              "      height: 32px;\n",
              "      padding: 0 0 0 0;\n",
              "      width: 32px;\n",
              "    }\n",
              "\n",
              "    .colab-df-convert:hover {\n",
              "      background-color: #E2EBFA;\n",
              "      box-shadow: 0px 1px 2px rgba(60, 64, 67, 0.3), 0px 1px 3px 1px rgba(60, 64, 67, 0.15);\n",
              "      fill: #174EA6;\n",
              "    }\n",
              "\n",
              "    .colab-df-buttons div {\n",
              "      margin-bottom: 4px;\n",
              "    }\n",
              "\n",
              "    [theme=dark] .colab-df-convert {\n",
              "      background-color: #3B4455;\n",
              "      fill: #D2E3FC;\n",
              "    }\n",
              "\n",
              "    [theme=dark] .colab-df-convert:hover {\n",
              "      background-color: #434B5C;\n",
              "      box-shadow: 0px 1px 3px 1px rgba(0, 0, 0, 0.15);\n",
              "      filter: drop-shadow(0px 1px 2px rgba(0, 0, 0, 0.3));\n",
              "      fill: #FFFFFF;\n",
              "    }\n",
              "  </style>\n",
              "\n",
              "    <script>\n",
              "      const buttonEl =\n",
              "        document.querySelector('#df-76e3a5f5-c077-4190-bc31-72c9b5337d95 button.colab-df-convert');\n",
              "      buttonEl.style.display =\n",
              "        google.colab.kernel.accessAllowed ? 'block' : 'none';\n",
              "\n",
              "      async function convertToInteractive(key) {\n",
              "        const element = document.querySelector('#df-76e3a5f5-c077-4190-bc31-72c9b5337d95');\n",
              "        const dataTable =\n",
              "          await google.colab.kernel.invokeFunction('convertToInteractive',\n",
              "                                                    [key], {});\n",
              "        if (!dataTable) return;\n",
              "\n",
              "        const docLinkHtml = 'Like what you see? Visit the ' +\n",
              "          '<a target=\"_blank\" href=https://colab.research.google.com/notebooks/data_table.ipynb>data table notebook</a>'\n",
              "          + ' to learn more about interactive tables.';\n",
              "        element.innerHTML = '';\n",
              "        dataTable['output_type'] = 'display_data';\n",
              "        await google.colab.output.renderOutput(dataTable, element);\n",
              "        const docLink = document.createElement('div');\n",
              "        docLink.innerHTML = docLinkHtml;\n",
              "        element.appendChild(docLink);\n",
              "      }\n",
              "    </script>\n",
              "  </div>\n",
              "\n",
              "\n",
              "    <div id=\"df-4dd09723-2e1d-47a7-b537-dab81d3cb7f0\">\n",
              "      <button class=\"colab-df-quickchart\" onclick=\"quickchart('df-4dd09723-2e1d-47a7-b537-dab81d3cb7f0')\"\n",
              "                title=\"Suggest charts\"\n",
              "                style=\"display:none;\">\n",
              "\n",
              "<svg xmlns=\"http://www.w3.org/2000/svg\" height=\"24px\"viewBox=\"0 0 24 24\"\n",
              "     width=\"24px\">\n",
              "    <g>\n",
              "        <path d=\"M19 3H5c-1.1 0-2 .9-2 2v14c0 1.1.9 2 2 2h14c1.1 0 2-.9 2-2V5c0-1.1-.9-2-2-2zM9 17H7v-7h2v7zm4 0h-2V7h2v10zm4 0h-2v-4h2v4z\"/>\n",
              "    </g>\n",
              "</svg>\n",
              "      </button>\n",
              "\n",
              "<style>\n",
              "  .colab-df-quickchart {\n",
              "      --bg-color: #E8F0FE;\n",
              "      --fill-color: #1967D2;\n",
              "      --hover-bg-color: #E2EBFA;\n",
              "      --hover-fill-color: #174EA6;\n",
              "      --disabled-fill-color: #AAA;\n",
              "      --disabled-bg-color: #DDD;\n",
              "  }\n",
              "\n",
              "  [theme=dark] .colab-df-quickchart {\n",
              "      --bg-color: #3B4455;\n",
              "      --fill-color: #D2E3FC;\n",
              "      --hover-bg-color: #434B5C;\n",
              "      --hover-fill-color: #FFFFFF;\n",
              "      --disabled-bg-color: #3B4455;\n",
              "      --disabled-fill-color: #666;\n",
              "  }\n",
              "\n",
              "  .colab-df-quickchart {\n",
              "    background-color: var(--bg-color);\n",
              "    border: none;\n",
              "    border-radius: 50%;\n",
              "    cursor: pointer;\n",
              "    display: none;\n",
              "    fill: var(--fill-color);\n",
              "    height: 32px;\n",
              "    padding: 0;\n",
              "    width: 32px;\n",
              "  }\n",
              "\n",
              "  .colab-df-quickchart:hover {\n",
              "    background-color: var(--hover-bg-color);\n",
              "    box-shadow: 0 1px 2px rgba(60, 64, 67, 0.3), 0 1px 3px 1px rgba(60, 64, 67, 0.15);\n",
              "    fill: var(--button-hover-fill-color);\n",
              "  }\n",
              "\n",
              "  .colab-df-quickchart-complete:disabled,\n",
              "  .colab-df-quickchart-complete:disabled:hover {\n",
              "    background-color: var(--disabled-bg-color);\n",
              "    fill: var(--disabled-fill-color);\n",
              "    box-shadow: none;\n",
              "  }\n",
              "\n",
              "  .colab-df-spinner {\n",
              "    border: 2px solid var(--fill-color);\n",
              "    border-color: transparent;\n",
              "    border-bottom-color: var(--fill-color);\n",
              "    animation:\n",
              "      spin 1s steps(1) infinite;\n",
              "  }\n",
              "\n",
              "  @keyframes spin {\n",
              "    0% {\n",
              "      border-color: transparent;\n",
              "      border-bottom-color: var(--fill-color);\n",
              "      border-left-color: var(--fill-color);\n",
              "    }\n",
              "    20% {\n",
              "      border-color: transparent;\n",
              "      border-left-color: var(--fill-color);\n",
              "      border-top-color: var(--fill-color);\n",
              "    }\n",
              "    30% {\n",
              "      border-color: transparent;\n",
              "      border-left-color: var(--fill-color);\n",
              "      border-top-color: var(--fill-color);\n",
              "      border-right-color: var(--fill-color);\n",
              "    }\n",
              "    40% {\n",
              "      border-color: transparent;\n",
              "      border-right-color: var(--fill-color);\n",
              "      border-top-color: var(--fill-color);\n",
              "    }\n",
              "    60% {\n",
              "      border-color: transparent;\n",
              "      border-right-color: var(--fill-color);\n",
              "    }\n",
              "    80% {\n",
              "      border-color: transparent;\n",
              "      border-right-color: var(--fill-color);\n",
              "      border-bottom-color: var(--fill-color);\n",
              "    }\n",
              "    90% {\n",
              "      border-color: transparent;\n",
              "      border-bottom-color: var(--fill-color);\n",
              "    }\n",
              "  }\n",
              "</style>\n",
              "\n",
              "      <script>\n",
              "        async function quickchart(key) {\n",
              "          const quickchartButtonEl =\n",
              "            document.querySelector('#' + key + ' button');\n",
              "          quickchartButtonEl.disabled = true;  // To prevent multiple clicks.\n",
              "          quickchartButtonEl.classList.add('colab-df-spinner');\n",
              "          try {\n",
              "            const charts = await google.colab.kernel.invokeFunction(\n",
              "                'suggestCharts', [key], {});\n",
              "          } catch (error) {\n",
              "            console.error('Error during call to suggestCharts:', error);\n",
              "          }\n",
              "          quickchartButtonEl.classList.remove('colab-df-spinner');\n",
              "          quickchartButtonEl.classList.add('colab-df-quickchart-complete');\n",
              "        }\n",
              "        (() => {\n",
              "          let quickchartButtonEl =\n",
              "            document.querySelector('#df-4dd09723-2e1d-47a7-b537-dab81d3cb7f0 button');\n",
              "          quickchartButtonEl.style.display =\n",
              "            google.colab.kernel.accessAllowed ? 'block' : 'none';\n",
              "        })();\n",
              "      </script>\n",
              "    </div>\n",
              "\n",
              "    </div>\n",
              "  </div>\n"
            ],
            "application/vnd.google.colaboratory.intrinsic+json": {
              "type": "dataframe",
              "variable_name": "ulasan",
              "summary": "{\n  \"name\": \"ulasan\",\n  \"rows\": 19997,\n  \"fields\": [\n    {\n      \"column\": \"content\",\n      \"properties\": {\n        \"dtype\": \"string\",\n        \"num_unique_values\": 14076,\n        \"samples\": [\n          \"Medsos nomer satu\",\n          \"Demi Allah ya, Instagram makin kesini makin ga jelas. Mau login aja susah bgt, sinyal wifi lancar bahkan pakai data yang sama lancarnya tetep ga bisa. update itu bertujuan untuk apa si menurut Instagram? Menjadikan aplikasi semakin lag? Semakin sulit digunakan? Jangankan login, lagi scroll aja sering lag, haduh pusing bgt untuk aplikasi internasional ternama seperti Instagram ini memalukan sih.\",\n          \"Satu\"\n        ],\n        \"semantic_type\": \"\",\n        \"description\": \"\"\n      }\n    },\n    {\n      \"column\": \"score\",\n      \"properties\": {\n        \"dtype\": \"number\",\n        \"std\": 1,\n        \"min\": 1,\n        \"max\": 5,\n        \"num_unique_values\": 5,\n        \"samples\": [\n          1,\n          2,\n          4\n        ],\n        \"semantic_type\": \"\",\n        \"description\": \"\"\n      }\n    },\n    {\n      \"column\": \"word_count\",\n      \"properties\": {\n        \"dtype\": \"number\",\n        \"std\": 9,\n        \"min\": 1,\n        \"max\": 110,\n        \"num_unique_values\": 93,\n        \"samples\": [\n          34,\n          37,\n          55\n        ],\n        \"semantic_type\": \"\",\n        \"description\": \"\"\n      }\n    },\n    {\n      \"column\": \"clean_content\",\n      \"properties\": {\n        \"dtype\": \"string\",\n        \"num_unique_values\": 13910,\n        \"samples\": [\n          \"Ig kenapa sih segiap mau ganti atau cari nama pengguna malah gagal muluu perbaiki nih aplikasinya\",\n          \"dlu ya karna kan aku tu wktu itu memo nya onuh trd ak hapus ig nah trus aku download lg pas uda masukin no tlpn buat login kr akun lg sllu aja ada pesan maaf ada maslaah uda berkali aku cb hasilnya sllu gituu\",\n          \"Aplikasi nya bagua tapi menurut aku kalaw lagu dan efek nya ada yang baru dan gampang di cari pasti lebih bagus dan menarik\"\n        ],\n        \"semantic_type\": \"\",\n        \"description\": \"\"\n      }\n    },\n    {\n      \"column\": \"casefold_content\",\n      \"properties\": {\n        \"dtype\": \"string\",\n        \"num_unique_values\": 13478,\n        \"samples\": [\n          \"ig menjadikan satu semangat dan inspirasi dalam hidup ini\",\n          \"bagian kolase tidak sempurna bahkan tidak\",\n          \"terimakasih apk bagus\"\n        ],\n        \"semantic_type\": \"\",\n        \"description\": \"\"\n      }\n    },\n    {\n      \"column\": \"tokens\",\n      \"properties\": {\n        \"dtype\": \"string\",\n        \"num_unique_values\": 13478,\n        \"samples\": [\n          \"['ig', 'menjadikan', 'satu', 'semangat', 'dan', 'inspirasi', 'dalam', 'hidup', 'ini']\",\n          \"['bagian', 'kolase', 'tidak', 'sempurna', 'bahkan', 'tidak']\",\n          \"['terimakasih', 'apk', 'bagus']\"\n        ],\n        \"semantic_type\": \"\",\n        \"description\": \"\"\n      }\n    },\n    {\n      \"column\": \"stemmed_tokens\",\n      \"properties\": {\n        \"dtype\": \"string\",\n        \"num_unique_values\": 12960,\n        \"samples\": [\n          \"['tolong', 'dong', 'diperbaikin', 'instagram', 'akhir', 'ini', 'ga', 'ada', 'bagus', 'di', 'baharu', 'jg', 'kaya', 'ga', 'guna', 'sama', 'sekali', 'tolong', 'di', 'baik', 'yaa']\",\n          \"['makin', 'maju']\",\n          \"['banyak', 'info', 'ide', 'komen', 'yang', 'bijak', 'ikut', 'yang', 'layak', 'terus', 'lah', 'karya']\"\n        ],\n        \"semantic_type\": \"\",\n        \"description\": \"\"\n      }\n    },\n    {\n      \"column\": \"tokens_negation\",\n      \"properties\": {\n        \"dtype\": \"string\",\n        \"num_unique_values\": 12960,\n        \"samples\": [\n          \"['tolong', 'dong', 'diperbaikin', 'instagram', 'akhir', 'ini', 'ga', 'ada', 'bagus', 'di', 'baharu', 'jg', 'kaya', 'ga', 'guna', 'sama', 'sekali', 'tolong', 'di', 'baik', 'yaa']\",\n          \"['makin', 'maju']\",\n          \"['banyak', 'info', 'ide', 'komen', 'yang', 'bijak', 'ikut', 'yang', 'layak', 'terus', 'lah', 'karya']\"\n        ],\n        \"semantic_type\": \"\",\n        \"description\": \"\"\n      }\n    },\n    {\n      \"column\": \"tokens_slang\",\n      \"properties\": {\n        \"dtype\": \"string\",\n        \"num_unique_values\": 12716,\n        \"samples\": [\n          \"['publikasi', 'cukup', 'baik', 'dan', 'cepat']\",\n          \"['bagus', 'banget', 'filter', 'nya', 'banyak', 'bisa', 'wa', 'sama', 'teman']\",\n          \"['baru', 'di', 'upgred', 'tapigk', 'jelas', 'situ', 'tulis', 'tambah', 'musik', 'di', 'profiltapi', 'tetap', 'hilang', 'gk', 'bisa', 'di', 'tambahknterus', 'avatarnya', 'juga', 'gk', 'bisa', 'lihat', 'pas', 'saya', 'coba', 'pakai', 'akun', 'lainsatu', 'lagi', 'instagram', 'kada', 'emoji', 'nya', 'keluar', 'bendera', 'lgbtq']\"\n        ],\n        \"semantic_type\": \"\",\n        \"description\": \"\"\n      }\n    },\n    {\n      \"column\": \"stopword_removal\",\n      \"properties\": {\n        \"dtype\": \"string\",\n        \"num_unique_values\": 11433,\n        \"samples\": [\n          \"['plss', 'ig', 'kasih', 'hilang', 'pesan', 'angsur', 'hilang', 'uh', 'uh', 'uh']\",\n          \"['jaringan', 'bagus', 'ig', 'buruk', 'upload', 'story', 'tunggu', 'koneksi', 'gitu', 'terosss', 'orang', 'tolol', 'dasar']\",\n          \"['cocok', 'informasi']\"\n        ],\n        \"semantic_type\": \"\",\n        \"description\": \"\"\n      }\n    },\n    {\n      \"column\": \"sentiment_label\",\n      \"properties\": {\n        \"dtype\": \"category\",\n        \"num_unique_values\": 3,\n        \"samples\": [\n          \"positif\",\n          \"negatif\",\n          \"netral\"\n        ],\n        \"semantic_type\": \"\",\n        \"description\": \"\"\n      }\n    },\n    {\n      \"column\": \"sentiment_score\",\n      \"properties\": {\n        \"dtype\": \"number\",\n        \"std\": 1,\n        \"min\": -9,\n        \"max\": 21,\n        \"num_unique_values\": 25,\n        \"samples\": [\n          5,\n          -5,\n          1\n        ],\n        \"semantic_type\": \"\",\n        \"description\": \"\"\n      }\n    }\n  ]\n}"
            }
          },
          "metadata": {},
          "execution_count": 49
        }
      ]
    },
    {
      "cell_type": "code",
      "source": [
        "ulasan['sentiment_label'].value_counts()"
      ],
      "metadata": {
        "id": "CWVAUGyKt5Xi",
        "colab": {
          "base_uri": "https://localhost:8080/",
          "height": 210
        },
        "outputId": "3a99aee6-1274-4d4b-a436-ec9747126ed6"
      },
      "execution_count": 50,
      "outputs": [
        {
          "output_type": "execute_result",
          "data": {
            "text/plain": [
              "sentiment_label\n",
              "positif    12229\n",
              "netral      6081\n",
              "negatif     1687\n",
              "Name: count, dtype: int64"
            ],
            "text/html": [
              "<div>\n",
              "<style scoped>\n",
              "    .dataframe tbody tr th:only-of-type {\n",
              "        vertical-align: middle;\n",
              "    }\n",
              "\n",
              "    .dataframe tbody tr th {\n",
              "        vertical-align: top;\n",
              "    }\n",
              "\n",
              "    .dataframe thead th {\n",
              "        text-align: right;\n",
              "    }\n",
              "</style>\n",
              "<table border=\"1\" class=\"dataframe\">\n",
              "  <thead>\n",
              "    <tr style=\"text-align: right;\">\n",
              "      <th></th>\n",
              "      <th>count</th>\n",
              "    </tr>\n",
              "    <tr>\n",
              "      <th>sentiment_label</th>\n",
              "      <th></th>\n",
              "    </tr>\n",
              "  </thead>\n",
              "  <tbody>\n",
              "    <tr>\n",
              "      <th>positif</th>\n",
              "      <td>12229</td>\n",
              "    </tr>\n",
              "    <tr>\n",
              "      <th>netral</th>\n",
              "      <td>6081</td>\n",
              "    </tr>\n",
              "    <tr>\n",
              "      <th>negatif</th>\n",
              "      <td>1687</td>\n",
              "    </tr>\n",
              "  </tbody>\n",
              "</table>\n",
              "</div><br><label><b>dtype:</b> int64</label>"
            ]
          },
          "metadata": {},
          "execution_count": 50
        }
      ]
    },
    {
      "cell_type": "markdown",
      "source": [
        "## **Visualisasi Distribusi Sentimen Ulasan Instagram**"
      ],
      "metadata": {
        "id": "cCwQiF-Wt7Mj"
      }
    },
    {
      "cell_type": "code",
      "source": [
        "# melihat jumlah kelas sentimen\n",
        "Jumlah_sentimen = ulasan['sentiment_label'].value_counts()\n",
        "print(\"jumlah sentimen :\")\n",
        "print(Jumlah_sentimen)\n",
        "\n",
        "# menampilkan dalam bentuk plot diagram\n",
        "%matplotlib inline\n",
        "labels = ['negative' , 'neutral', 'positive']\n",
        "plt.figure(figsize=(10, 8))\n",
        "plt.pie(ulasan.groupby('sentiment_label')['sentiment_label'].count(), autopct=\" %.1f%% \" ,labels=labels)\n",
        "plt.legend()\n",
        "plt.axis('equal')\n",
        "plt.title('Distribusi Sentimen\\n')\n",
        "plt.show()"
      ],
      "metadata": {
        "id": "ozgKxeD5uGEr",
        "colab": {
          "base_uri": "https://localhost:8080/",
          "height": 800
        },
        "outputId": "4819a035-b798-4451-e549-8f54226f6918"
      },
      "execution_count": 51,
      "outputs": [
        {
          "output_type": "stream",
          "name": "stdout",
          "text": [
            "jumlah sentimen :\n",
            "sentiment_label\n",
            "positif    12229\n",
            "netral      6081\n",
            "negatif     1687\n",
            "Name: count, dtype: int64\n"
          ]
        },
        {
          "output_type": "display_data",
          "data": {
            "text/plain": [
              "<Figure size 1000x800 with 1 Axes>"
            ],
            "image/png": "[encoded data removed]"
          },
          "metadata": {}
        }
      ]
    },
    {
      "cell_type": "markdown",
      "source": [
        "## **Visualisasi Histogram Skor Sentimen**"
      ],
      "metadata": {
        "id": "ZsByVz2Kvx37"
      }
    },
    {
      "cell_type": "code",
      "source": [
        "plt.figure(figsize=(10,8))\n",
        "plt.hist(ulasan['sentiment_score'], bins=30, color='skyblue', edgecolor='black')\n",
        "plt.title('Histogram Skor Sentimen')\n",
        "plt.xlabel('Skor Sentimen')\n",
        "plt.ylabel('Frekuensi')\n",
        "plt.grid(axis='y', linestyle='--', alpha=0.75)\n",
        "plt.tight_layout()\n",
        "plt.show()"
      ],
      "metadata": {
        "id": "Al6tiNYJvye7",
        "colab": {
          "base_uri": "https://localhost:8080/",
          "height": 807
        },
        "outputId": "575ff6b4-19ce-4d21-a156-f634f49c9e6e"
      },
      "execution_count": 52,
      "outputs": [
        {
          "output_type": "display_data",
          "data": {
            "text/plain": [
              "<Figure size 1000x800 with 1 Axes>"
            ],
            "image/png": "[encoded data removed]"
          },
          "metadata": {}
        }
      ]
    },
    {
      "cell_type": "markdown",
      "source": [
        "## **Data Preparation**"
      ],
      "metadata": {
        "id": "AaL8Eaidv0ft"
      }
    },
    {
      "cell_type": "code",
      "source": [
        "# Tangani nilai NaN\n",
        "ulasan['stopword_removal'] = ulasan['stopword_removal'].fillna('')"
      ],
      "metadata": {
        "id": "3ViJHpPtv12r"
      },
      "execution_count": 53,
      "outputs": []
    },
    {
      "cell_type": "code",
      "source": [
        "max_features = 10000  # Tingkatkan jumlah kata\n",
        "tokenizer = Tokenizer(num_words=max_features, oov_token=\"\") # Tambahkan oov_token\n",
        "tokenizer.fit_on_texts(ulasan['stopword_removal'])"
      ],
      "metadata": {
        "id": "ixy4UWSJv3d7"
      },
      "execution_count": 54,
      "outputs": []
    },
    {
      "cell_type": "code",
      "source": [
        "sequences = tokenizer.texts_to_sequences(ulasan['stopword_removal'])"
      ],
      "metadata": {
        "id": "SNfEn3ARv5sj"
      },
      "execution_count": 55,
      "outputs": []
    },
    {
      "cell_type": "code",
      "source": [
        "max_length = 100  # Eksperimen dengan panjang sequence\n",
        "padded_sequences = pad_sequences(sequences, maxlen=max_length, padding='post', truncating='post')"
      ],
      "metadata": {
        "id": "XYUohd-hv8fs"
      },
      "execution_count": 56,
      "outputs": []
    },
    {
      "cell_type": "code",
      "source": [
        "# Pilih fitur (teks ulasan) dan target (label sentimen)\n",
        "fitur = ulasan['stopword_removal']\n",
        "label = ulasan['sentiment_label'].map({'positif': 2, 'netral': 1, 'negatif': 0})"
      ],
      "metadata": {
        "id": "g_7xhSdcv_G7"
      },
      "execution_count": 57,
      "outputs": []
    },
    {
      "cell_type": "markdown",
      "source": [
        "## **Feature Engineering**"
      ],
      "metadata": {
        "id": "cbbHS70GwCkE"
      }
    },
    {
      "cell_type": "markdown",
      "source": [
        "## **TF-IDF**"
      ],
      "metadata": {
        "id": "sfV4VxO9wEFs"
      }
    },
    {
      "cell_type": "code",
      "source": [
        "# Transformasi teks ke vektor angka menggunakan TF-IDF\n",
        "tfidf = TfidfVectorizer(max_features=10000)\n",
        "fitur_tfidf = tfidf.fit_transform(fitur)\n",
        "\n",
        "# Menampilkan dimensi data hasil vektorisasi\n",
        "print(\"Ringkasan Fitur dan Data:\")\n",
        "print(f\"Dimensi fitur TF-IDF: {fitur_tfidf.shape}\")"
      ],
      "metadata": {
        "id": "WBGEGKPywA1b",
        "colab": {
          "base_uri": "https://localhost:8080/"
        },
        "outputId": "16887d7f-b8f1-4494-d348-dedb5b46365a"
      },
      "execution_count": 58,
      "outputs": [
        {
          "output_type": "stream",
          "name": "stdout",
          "text": [
            "Ringkasan Fitur dan Data:\n",
            "Dimensi fitur TF-IDF: (19997, 9907)\n"
          ]
        }
      ]
    },
    {
      "cell_type": "markdown",
      "source": [
        "## **SVM x TF-IDF (80/20)**"
      ],
      "metadata": {
        "id": "wLpL0Ou2wGFr"
      }
    },
    {
      "cell_type": "markdown",
      "source": [
        "Praprocessing Teks untuk Model SVM Menggunakan TF-IDF (80/20)"
      ],
      "metadata": {
        "id": "ZpVkcl_fwHyz"
      }
    },
    {
      "cell_type": "code",
      "source": [
        "# Membagi Data menjadi Set Pelatihan dan Pengujian\n",
        "fitur_train_svm, fitur_test_svm, label_train_svm, label_test_svm = train_test_split(fitur_tfidf, label, test_size=0.2, random_state=42)\n",
        "\n",
        "print(\"Total Sampel:\")\n",
        "print(f\"Set pelatihan: {fitur_train_svm.shape[0]} sampel\")\n",
        "print(f\"Set pengujian: {fitur_test_svm.shape[0]} sampel\")"
      ],
      "metadata": {
        "id": "T9BdqSA4wKP7",
        "colab": {
          "base_uri": "https://localhost:8080/"
        },
        "outputId": "9db109b1-b3c1-49a0-cb8d-f1dd3f0274c8"
      },
      "execution_count": 59,
      "outputs": [
        {
          "output_type": "stream",
          "name": "stdout",
          "text": [
            "Total Sampel:\n",
            "Set pelatihan: 15997 sampel\n",
            "Set pengujian: 4000 sampel\n"
          ]
        }
      ]
    },
    {
      "cell_type": "markdown",
      "source": [
        "Pelatihan dan Prediksi Model SVM\n"
      ],
      "metadata": {
        "id": "18uPrMzEwNPT"
      }
    },
    {
      "cell_type": "code",
      "source": [
        "# Inisialisasi Model SVM dengan Kernel Linear\n",
        "svm_model = SVC(kernel='linear', C=1)\n",
        "svm_model.fit(fitur_train_svm, label_train_svm)\n",
        "label_pred_svm = svm_model.predict(fitur_test_svm)\n",
        "\n",
        "accuracy_svm = accuracy_score(label_test_svm, label_pred_svm)\n",
        "print(f\"Akurasi SVM: {accuracy_svm}\")\n",
        "print(classification_report(label_test_svm, label_pred_svm))"
      ],
      "metadata": {
        "id": "Mukq6fQ_wNlM",
        "colab": {
          "base_uri": "https://localhost:8080/"
        },
        "outputId": "101c18ba-7898-4f4c-e8a7-0eb7e9cf17b5"
      },
      "execution_count": 60,
      "outputs": [
        {
          "output_type": "stream",
          "name": "stdout",
          "text": [
            "Akurasi SVM: 0.937\n",
            "              precision    recall  f1-score   support\n",
            "\n",
            "           0       0.92      0.73      0.82       335\n",
            "           1       0.87      0.94      0.90      1232\n",
            "           2       0.98      0.96      0.97      2433\n",
            "\n",
            "    accuracy                           0.94      4000\n",
            "   macro avg       0.92      0.88      0.90      4000\n",
            "weighted avg       0.94      0.94      0.94      4000\n",
            "\n"
          ]
        }
      ]
    },
    {
      "cell_type": "markdown",
      "source": [
        "Evaluasi Model SVM Berbasis TF-IDF"
      ],
      "metadata": {
        "id": "mdrylk4YwPPM"
      }
    },
    {
      "cell_type": "code",
      "source": [
        "svm_model = SVC(kernel='linear', C=1)\n",
        "svm_model.fit(fitur_train_svm, label_train_svm)\n",
        "label_pred_svm = svm_model.predict(fitur_test_svm)\n",
        "\n",
        "# Evaluasi pada data training\n",
        "label_pred_train_svm = svm_model.predict(fitur_train_svm)\n",
        "accuracy_train_svm = accuracy_score(label_train_svm, label_pred_train_svm)\n",
        "print(f\"Akurasi Training SVM: {accuracy_train_svm}\")\n",
        "\n",
        "# Evaluasi pada data testing\n",
        "accuracy_svm = accuracy_score(label_test_svm, label_pred_svm)\n",
        "print(f\"Akurasi Testing SVM: {accuracy_svm}\")\n",
        "print(\"Classification Report SVM:\")\n",
        "print(classification_report(label_test_svm, label_pred_svm))\n",
        "\n",
        "# Confusion Matrix\n",
        "cm_svm = confusion_matrix(label_test_svm, label_pred_svm)\n",
        "plt.figure(figsize=(10, 8))\n",
        "sns.heatmap(cm_svm, annot=True, fmt='d', cmap='Blues')\n",
        "plt.title('Confusion Matrix SVM')\n",
        "plt.xlabel('Predicted Label')\n",
        "plt.ylabel('True Label')\n",
        "plt.show()"
      ],
      "metadata": {
        "id": "9wu7iLKmwQvr",
        "colab": {
          "base_uri": "https://localhost:8080/",
          "height": 944
        },
        "outputId": "f5041e5b-406f-4111-f6a2-a35ce83edc76"
      },
      "execution_count": 61,
      "outputs": [
        {
          "output_type": "stream",
          "name": "stdout",
          "text": [
            "Akurasi Training SVM: 0.9821841595299119\n",
            "Akurasi Testing SVM: 0.937\n",
            "Classification Report SVM:\n",
            "              precision    recall  f1-score   support\n",
            "\n",
            "           0       0.92      0.73      0.82       335\n",
            "           1       0.87      0.94      0.90      1232\n",
            "           2       0.98      0.96      0.97      2433\n",
            "\n",
            "    accuracy                           0.94      4000\n",
            "   macro avg       0.92      0.88      0.90      4000\n",
            "weighted avg       0.94      0.94      0.94      4000\n",
            "\n"
          ]
        },
        {
          "output_type": "display_data",
          "data": {
            "text/plain": [
              "<Figure size 1000x800 with 2 Axes>"
            ],
            "image/png": "[encoded data removed]"
          },
          "metadata": {}
        }
      ]
    },
    {
      "cell_type": "markdown",
      "source": [
        "## **SVM x TF-IDF (60/40)**"
      ],
      "metadata": {
        "id": "kPUTHGMPwT6z"
      }
    },
    {
      "cell_type": "markdown",
      "source": [
        "Praprocessing Teks untuk Model SVM Menggunakan TF-IDF (60/40)"
      ],
      "metadata": {
        "id": "R1bc4lQPwVij"
      }
    },
    {
      "cell_type": "code",
      "source": [
        "# Membagi Data menjadi Set Pelatihan dan Pengujian\n",
        "fitur_train_svm2, fitur_test_svm2, label_train_svm2, label_test_svm2 = train_test_split(fitur_tfidf, label, test_size=0.4, random_state=42)\n",
        "\n",
        "print(\"Total Sampel:\")\n",
        "print(f\"Set pelatihan: {fitur_train_svm2.shape[0]} sampel\")\n",
        "print(f\"Set pengujian: {fitur_test_svm2.shape[0]} sampel\")"
      ],
      "metadata": {
        "id": "hlSNf-ArwVzU",
        "colab": {
          "base_uri": "https://localhost:8080/"
        },
        "outputId": "bebb51aa-fb62-4904-ebbe-6daa0aafcc5f"
      },
      "execution_count": 62,
      "outputs": [
        {
          "output_type": "stream",
          "name": "stdout",
          "text": [
            "Total Sampel:\n",
            "Set pelatihan: 11998 sampel\n",
            "Set pengujian: 7999 sampel\n"
          ]
        }
      ]
    },
    {
      "cell_type": "markdown",
      "source": [
        "Pelatihan dan Prediksi Model SVM"
      ],
      "metadata": {
        "id": "YEy-0dkNwZBj"
      }
    },
    {
      "cell_type": "code",
      "source": [
        "# Inisialisasi Model SVM dengan Kernel Linear\n",
        "svm_model2 = SVC(kernel='linear', C=1)\n",
        "svm_model2.fit(fitur_train_svm2, label_train_svm2)\n",
        "label_pred_svm2 = svm_model2.predict(fitur_test_svm2)\n",
        "\n",
        "accuracy_svm2 = accuracy_score(label_test_svm2, label_pred_svm2)\n",
        "print(f\"Akurasi SVM: {accuracy_svm2}\")\n",
        "print(classification_report(label_test_svm2, label_pred_svm2))"
      ],
      "metadata": {
        "id": "dnqwoU_qwXj0",
        "colab": {
          "base_uri": "https://localhost:8080/"
        },
        "outputId": "fe9173fc-2ede-4f07-838d-32fa25904bc1"
      },
      "execution_count": 63,
      "outputs": [
        {
          "output_type": "stream",
          "name": "stdout",
          "text": [
            "Akurasi SVM: 0.9257407175896987\n",
            "              precision    recall  f1-score   support\n",
            "\n",
            "           0       0.88      0.69      0.77       651\n",
            "           1       0.84      0.93      0.88      2391\n",
            "           2       0.97      0.96      0.96      4957\n",
            "\n",
            "    accuracy                           0.93      7999\n",
            "   macro avg       0.90      0.86      0.87      7999\n",
            "weighted avg       0.93      0.93      0.93      7999\n",
            "\n"
          ]
        }
      ]
    },
    {
      "cell_type": "markdown",
      "source": [
        "Evaluasi Model SVM Berbasis TF-IDF"
      ],
      "metadata": {
        "id": "rzU03OcrwdB7"
      }
    },
    {
      "cell_type": "code",
      "source": [
        "svm_model2 = SVC(kernel='linear', C=1)\n",
        "svm_model2.fit(fitur_train_svm2, label_train_svm2)\n",
        "label_pred_svm2 = svm_model.predict(fitur_test_svm2)\n",
        "\n",
        "# Evaluasi pada data training\n",
        "label_pred_train_svm2 = svm_model2.predict(fitur_train_svm2)\n",
        "accuracy_train_svm2 = accuracy_score(label_train_svm2, label_pred_train_svm2)\n",
        "print(f\"Akurasi Training SVM: {accuracy_train_svm2}\")\n",
        "\n",
        "# Evaluasi pada data testing\n",
        "accuracy_svm2 = accuracy_score(label_test_svm2, label_pred_svm2)\n",
        "print(f\"Akurasi Testing SVM: {accuracy_svm2}\")\n",
        "print(\"Classification Report SVM:\")\n",
        "print(classification_report(label_test_svm2, label_pred_svm2))\n",
        "\n",
        "# Confusion Matrix\n",
        "cm_svm2 = confusion_matrix(label_test_svm2, label_pred_svm2)\n",
        "plt.figure(figsize=(10, 8))\n",
        "sns.heatmap(cm_svm2, annot=True, fmt='d', cmap='Blues')\n",
        "plt.title('Confusion Matrix SVM')\n",
        "plt.xlabel('Predicted Label')\n",
        "plt.ylabel('True Label')\n",
        "plt.show()"
      ],
      "metadata": {
        "id": "RMaTeywawdgT",
        "colab": {
          "base_uri": "https://localhost:8080/",
          "height": 944
        },
        "outputId": "705830e5-6a73-4de7-8edb-3cf0863c95de"
      },
      "execution_count": 64,
      "outputs": [
        {
          "output_type": "stream",
          "name": "stdout",
          "text": [
            "Akurasi Training SVM: 0.9794965827637939\n",
            "Akurasi Testing SVM: 0.9606200775096887\n",
            "Classification Report SVM:\n",
            "              precision    recall  f1-score   support\n",
            "\n",
            "           0       0.95      0.83      0.88       651\n",
            "           1       0.91      0.96      0.94      2391\n",
            "           2       0.99      0.98      0.98      4957\n",
            "\n",
            "    accuracy                           0.96      7999\n",
            "   macro avg       0.95      0.92      0.93      7999\n",
            "weighted avg       0.96      0.96      0.96      7999\n",
            "\n"
          ]
        },
        {
          "output_type": "display_data",
          "data": {
            "text/plain": [
              "<Figure size 1000x800 with 2 Axes>"
            ],
            "image/png": "[encoded data removed]"
          },
          "metadata": {}
        }
      ]
    },
    {
      "cell_type": "markdown",
      "source": [
        "## **RF x TF-IDF (70/30)**"
      ],
      "metadata": {
        "id": "-mA79EQdwfbT"
      }
    },
    {
      "cell_type": "markdown",
      "source": [
        "Praprocessing Teks untuk Model RF Menggunakan TF-IDF (70/30)"
      ],
      "metadata": {
        "id": "UhlcSS4WwjjD"
      }
    },
    {
      "cell_type": "code",
      "source": [
        "# Membagi Data menjadi Set Pelatihan dan Pengujian\n",
        "fitur_train_rf, fitur_test_rf, label_train_rf, label_test_rf = train_test_split(fitur_tfidf, label, test_size=0.3, random_state=42)\n",
        "\n",
        "print(\"Total Sampel:\")\n",
        "print(f\"Set pelatihan: {fitur_train_rf.shape[0]} sampel\")\n",
        "print(f\"Set pengujian: {fitur_test_rf.shape[0]} sampel\")"
      ],
      "metadata": {
        "id": "lF20x2Ydwj2F",
        "colab": {
          "base_uri": "https://localhost:8080/"
        },
        "outputId": "7ffbd330-8323-4634-9eb9-b81e2f112435"
      },
      "execution_count": 65,
      "outputs": [
        {
          "output_type": "stream",
          "name": "stdout",
          "text": [
            "Total Sampel:\n",
            "Set pelatihan: 13997 sampel\n",
            "Set pengujian: 6000 sampel\n"
          ]
        }
      ]
    },
    {
      "cell_type": "markdown",
      "source": [
        "Pelatihan dan Prediksi Model RF"
      ],
      "metadata": {
        "id": "TPDrphq2wn_0"
      }
    },
    {
      "cell_type": "code",
      "source": [
        "#Inisialisasi dan latih model Random Forest\n",
        "rf_model = RandomForestClassifier(n_estimators=300, max_depth=None, min_samples_split=5, min_samples_leaf=2, random_state=42)\n",
        "rf_model.fit(fitur_train_rf, label_train_rf)\n",
        "\n",
        "# 7. Prediksi label pada data testing\n",
        "label_pred_rf = rf_model.predict(fitur_test_rf)"
      ],
      "metadata": {
        "id": "6loe_QVkwmRT"
      },
      "execution_count": 66,
      "outputs": []
    },
    {
      "cell_type": "markdown",
      "source": [
        "Evaluasi Model Random Forest dengan TF-IDF"
      ],
      "metadata": {
        "id": "qGlmz11Qwr5s"
      }
    },
    {
      "cell_type": "code",
      "source": [
        "label_pred_rf = rf_model.predict(fitur_test_rf)\n",
        "label_pred_train_rf = rf_model.predict(fitur_train_rf)\n",
        "\n",
        "# Evaluasi pada data training\n",
        "accuracy_train_rf = accuracy_score(label_train_rf, label_pred_train_rf)\n",
        "print(f\"Akurasi Training Random Forest: {accuracy_train_rf}\")\n",
        "print(\"Classification Report Training Random Forest:\")\n",
        "print(classification_report(label_train_rf, label_pred_train_rf))\n",
        "\n",
        "# Evaluasi pada data testing\n",
        "accuracy_rf = accuracy_score(label_test_rf, label_pred_rf)\n",
        "print(f\"Akurasi Testing Random Forest: {accuracy_rf}\")\n",
        "print(\"Classification Report Testing Random Forest:\")\n",
        "print(classification_report(label_test_rf, label_pred_rf))\n",
        "\n",
        "# Membuat Confusion Matrix\n",
        "cm_rf = confusion_matrix(label_test_rf, label_pred_rf)\n",
        "plt.figure(figsize=(10, 8))\n",
        "sns.heatmap(cm_rf, annot=True, fmt='d', cmap='Blues')\n",
        "plt.title('Confusion Matrix Random Forest')\n",
        "plt.xlabel('Predicted Label')\n",
        "plt.ylabel('True Label')\n",
        "plt.show()"
      ],
      "metadata": {
        "id": "W92slj7vwsQr",
        "colab": {
          "base_uri": "https://localhost:8080/",
          "height": 1000
        },
        "outputId": "60bfecf5-86e6-4513-fb5b-ce29ed619b9c"
      },
      "execution_count": 67,
      "outputs": [
        {
          "output_type": "stream",
          "name": "stdout",
          "text": [
            "Akurasi Training Random Forest: 0.8844752446952918\n",
            "Classification Report Training Random Forest:\n",
            "              precision    recall  f1-score   support\n",
            "\n",
            "           0       0.93      0.49      0.64      1186\n",
            "           1       0.87      0.81      0.84      4260\n",
            "           2       0.89      0.98      0.93      8551\n",
            "\n",
            "    accuracy                           0.88     13997\n",
            "   macro avg       0.90      0.76      0.80     13997\n",
            "weighted avg       0.89      0.88      0.88     13997\n",
            "\n",
            "Akurasi Testing Random Forest: 0.8635\n",
            "Classification Report Testing Random Forest:\n",
            "              precision    recall  f1-score   support\n",
            "\n",
            "           0       0.92      0.42      0.57       501\n",
            "           1       0.83      0.78      0.81      1821\n",
            "           2       0.87      0.96      0.92      3678\n",
            "\n",
            "    accuracy                           0.86      6000\n",
            "   macro avg       0.88      0.72      0.77      6000\n",
            "weighted avg       0.86      0.86      0.85      6000\n",
            "\n"
          ]
        },
        {
          "output_type": "display_data",
          "data": {
            "text/plain": [
              "<Figure size 1000x800 with 2 Axes>"
            ],
            "image/png": "[encoded data removed]"
          },
          "metadata": {}
        }
      ]
    },
    {
      "cell_type": "markdown",
      "source": [
        "## **RF x TF-IDF (80/20)**"
      ],
      "metadata": {
        "id": "8I712ecXwv60"
      }
    },
    {
      "cell_type": "markdown",
      "source": [
        "Praprocessing Teks untuk Model RF Menggunakan TF-IDF (80/20)"
      ],
      "metadata": {
        "id": "JZdZ5bp9wxZz"
      }
    },
    {
      "cell_type": "code",
      "source": [
        "# Membagi Data menjadi Set Pelatihan dan Pengujian\n",
        "fitur_train_rf2, fitur_test_rf2, label_train_rf2, label_test_rf2 = train_test_split(fitur_tfidf, label, test_size=0.2, random_state=42)\n",
        "\n",
        "print(\"Total Sampel:\")\n",
        "print(f\"Set pelatihan: {fitur_train_rf2.shape[0]} sampel\")\n",
        "print(f\"Set pengujian: {fitur_test_rf2.shape[0]} sampel\")"
      ],
      "metadata": {
        "id": "lbMZE8EnwzVb",
        "colab": {
          "base_uri": "https://localhost:8080/"
        },
        "outputId": "8626a2f4-8340-4e5c-e8ec-6967d6c01657"
      },
      "execution_count": 68,
      "outputs": [
        {
          "output_type": "stream",
          "name": "stdout",
          "text": [
            "Total Sampel:\n",
            "Set pelatihan: 15997 sampel\n",
            "Set pengujian: 4000 sampel\n"
          ]
        }
      ]
    },
    {
      "cell_type": "markdown",
      "source": [
        "Pelatihan dan Prediksi Model RF"
      ],
      "metadata": {
        "id": "iT5Tb-Oiw00T"
      }
    },
    {
      "cell_type": "code",
      "source": [
        "#Inisialisasi dan latih model Random Forest\n",
        "rf_model2 = RandomForestClassifier(n_estimators=300, max_depth=None, min_samples_split=5, min_samples_leaf=2, random_state=42)\n",
        "rf_model2.fit(fitur_train_rf2, label_train_rf2)"
      ],
      "metadata": {
        "id": "dtbe3uxEw1f7",
        "colab": {
          "base_uri": "https://localhost:8080/",
          "height": 98
        },
        "outputId": "7661a1a9-b716-42a6-de42-56b416a0d69d"
      },
      "execution_count": 69,
      "outputs": [
        {
          "output_type": "execute_result",
          "data": {
            "text/plain": [
              "RandomForestClassifier(min_samples_leaf=2, min_samples_split=5,\n",
              "                       n_estimators=300, random_state=42)"
            ],
            "text/html": [
              "<style>#sk-container-id-1 {\n",
              "  /* Definition of color scheme common for light and dark mode */\n",
              "  --sklearn-color-text: #000;\n",
              "  --sklearn-color-text-muted: #666;\n",
              "  --sklearn-color-line: gray;\n",
              "  /* Definition of color scheme for unfitted estimators */\n",
              "  --sklearn-color-unfitted-level-0: #fff5e6;\n",
              "  --sklearn-color-unfitted-level-1: #f6e4d2;\n",
              "  --sklearn-color-unfitted-level-2: #ffe0b3;\n",
              "  --sklearn-color-unfitted-level-3: chocolate;\n",
              "  /* Definition of color scheme for fitted estimators */\n",
              "  --sklearn-color-fitted-level-0: #f0f8ff;\n",
              "  --sklearn-color-fitted-level-1: #d4ebff;\n",
              "  --sklearn-color-fitted-level-2: #b3dbfd;\n",
              "  --sklearn-color-fitted-level-3: cornflowerblue;\n",
              "\n",
              "  /* Specific color for light theme */\n",
              "  --sklearn-color-text-on-default-background: var(--sg-text-color, var(--theme-code-foreground, var(--jp-content-font-color1, black)));\n",
              "  --sklearn-color-background: var(--sg-background-color, var(--theme-background, var(--jp-layout-color0, white)));\n",
              "  --sklearn-color-border-box: var(--sg-text-color, var(--theme-code-foreground, var(--jp-content-font-color1, black)));\n",
              "  --sklearn-color-icon: #696969;\n",
              "\n",
              "  @media (prefers-color-scheme: dark) {\n",
              "    /* Redefinition of color scheme for dark theme */\n",
              "    --sklearn-color-text-on-default-background: var(--sg-text-color, var(--theme-code-foreground, var(--jp-content-font-color1, white)));\n",
              "    --sklearn-color-background: var(--sg-background-color, var(--theme-background, var(--jp-layout-color0, #111)));\n",
              "    --sklearn-color-border-box: var(--sg-text-color, var(--theme-code-foreground, var(--jp-content-font-color1, white)));\n",
              "    --sklearn-color-icon: #878787;\n",
              "  }\n",
              "}\n",
              "\n",
              "#sk-container-id-1 {\n",
              "  color: var(--sklearn-color-text);\n",
              "}\n",
              "\n",
              "#sk-container-id-1 pre {\n",
              "  padding: 0;\n",
              "}\n",
              "\n",
              "#sk-container-id-1 input.sk-hidden--visually {\n",
              "  border: 0;\n",
              "  clip: rect(1px 1px 1px 1px);\n",
              "  clip: rect(1px, 1px, 1px, 1px);\n",
              "  height: 1px;\n",
              "  margin: -1px;\n",
              "  overflow: hidden;\n",
              "  padding: 0;\n",
              "  position: absolute;\n",
              "  width: 1px;\n",
              "}\n",
              "\n",
              "#sk-container-id-1 div.sk-dashed-wrapped {\n",
              "  border: 1px dashed var(--sklearn-color-line);\n",
              "  margin: 0 0.4em 0.5em 0.4em;\n",
              "  box-sizing: border-box;\n",
              "  padding-bottom: 0.4em;\n",
              "  background-color: var(--sklearn-color-background);\n",
              "}\n",
              "\n",
              "#sk-container-id-1 div.sk-container {\n",
              "  /* jupyter's `normalize.less` sets `[hidden] { display: none; }`\n",
              "     but bootstrap.min.css set `[hidden] { display: none !important; }`\n",
              "     so we also need the `!important` here to be able to override the\n",
              "     default hidden behavior on the sphinx rendered scikit-learn.org.\n",
              "     See: https://github.com/scikit-learn/scikit-learn/issues/21755 */\n",
              "  display: inline-block !important;\n",
              "  position: relative;\n",
              "}\n",
              "\n",
              "#sk-container-id-1 div.sk-text-repr-fallback {\n",
              "  display: none;\n",
              "}\n",
              "\n",
              "div.sk-parallel-item,\n",
              "div.sk-serial,\n",
              "div.sk-item {\n",
              "  /* draw centered vertical line to link estimators */\n",
              "  background-image: linear-gradient(var(--sklearn-color-text-on-default-background), var(--sklearn-color-text-on-default-background));\n",
              "  background-size: 2px 100%;\n",
              "  background-repeat: no-repeat;\n",
              "  background-position: center center;\n",
              "}\n",
              "\n",
              "/* Parallel-specific style estimator block */\n",
              "\n",
              "#sk-container-id-1 div.sk-parallel-item::after {\n",
              "  content: \"\";\n",
              "  width: 100%;\n",
              "  border-bottom: 2px solid var(--sklearn-color-text-on-default-background);\n",
              "  flex-grow: 1;\n",
              "}\n",
              "\n",
              "#sk-container-id-1 div.sk-parallel {\n",
              "  display: flex;\n",
              "  align-items: stretch;\n",
              "  justify-content: center;\n",
              "  background-color: var(--sklearn-color-background);\n",
              "  position: relative;\n",
              "}\n",
              "\n",
              "#sk-container-id-1 div.sk-parallel-item {\n",
              "  display: flex;\n",
              "  flex-direction: column;\n",
              "}\n",
              "\n",
              "#sk-container-id-1 div.sk-parallel-item:first-child::after {\n",
              "  align-self: flex-end;\n",
              "  width: 50%;\n",
              "}\n",
              "\n",
              "#sk-container-id-1 div.sk-parallel-item:last-child::after {\n",
              "  align-self: flex-start;\n",
              "  width: 50%;\n",
              "}\n",
              "\n",
              "#sk-container-id-1 div.sk-parallel-item:only-child::after {\n",
              "  width: 0;\n",
              "}\n",
              "\n",
              "/* Serial-specific style estimator block */\n",
              "\n",
              "#sk-container-id-1 div.sk-serial {\n",
              "  display: flex;\n",
              "  flex-direction: column;\n",
              "  align-items: center;\n",
              "  background-color: var(--sklearn-color-background);\n",
              "  padding-right: 1em;\n",
              "  padding-left: 1em;\n",
              "}\n",
              "\n",
              "\n",
              "/* Toggleable style: style used for estimator/Pipeline/ColumnTransformer box that is\n",
              "clickable and can be expanded/collapsed.\n",
              "- Pipeline and ColumnTransformer use this feature and define the default style\n",
              "- Estimators will overwrite some part of the style using the `sk-estimator` class\n",
              "*/\n",
              "\n",
              "/* Pipeline and ColumnTransformer style (default) */\n",
              "\n",
              "#sk-container-id-1 div.sk-toggleable {\n",
              "  /* Default theme specific background. It is overwritten whether we have a\n",
              "  specific estimator or a Pipeline/ColumnTransformer */\n",
              "  background-color: var(--sklearn-color-background);\n",
              "}\n",
              "\n",
              "/* Toggleable label */\n",
              "#sk-container-id-1 label.sk-toggleable__label {\n",
              "  cursor: pointer;\n",
              "  display: flex;\n",
              "  width: 100%;\n",
              "  margin-bottom: 0;\n",
              "  padding: 0.5em;\n",
              "  box-sizing: border-box;\n",
              "  text-align: center;\n",
              "  align-items: start;\n",
              "  justify-content: space-between;\n",
              "  gap: 0.5em;\n",
              "}\n",
              "\n",
              "#sk-container-id-1 label.sk-toggleable__label .caption {\n",
              "  font-size: 0.6rem;\n",
              "  font-weight: lighter;\n",
              "  color: var(--sklearn-color-text-muted);\n",
              "}\n",
              "\n",
              "#sk-container-id-1 label.sk-toggleable__label-arrow:before {\n",
              "  /* Arrow on the left of the label */\n",
              "  content: \"▸\";\n",
              "  float: left;\n",
              "  margin-right: 0.25em;\n",
              "  color: var(--sklearn-color-icon);\n",
              "}\n",
              "\n",
              "#sk-container-id-1 label.sk-toggleable__label-arrow:hover:before {\n",
              "  color: var(--sklearn-color-text);\n",
              "}\n",
              "\n",
              "/* Toggleable content - dropdown */\n",
              "\n",
              "#sk-container-id-1 div.sk-toggleable__content {\n",
              "  max-height: 0;\n",
              "  max-width: 0;\n",
              "  overflow: hidden;\n",
              "  text-align: left;\n",
              "  /* unfitted */\n",
              "  background-color: var(--sklearn-color-unfitted-level-0);\n",
              "}\n",
              "\n",
              "#sk-container-id-1 div.sk-toggleable__content.fitted {\n",
              "  /* fitted */\n",
              "  background-color: var(--sklearn-color-fitted-level-0);\n",
              "}\n",
              "\n",
              "#sk-container-id-1 div.sk-toggleable__content pre {\n",
              "  margin: 0.2em;\n",
              "  border-radius: 0.25em;\n",
              "  color: var(--sklearn-color-text);\n",
              "  /* unfitted */\n",
              "  background-color: var(--sklearn-color-unfitted-level-0);\n",
              "}\n",
              "\n",
              "#sk-container-id-1 div.sk-toggleable__content.fitted pre {\n",
              "  /* unfitted */\n",
              "  background-color: var(--sklearn-color-fitted-level-0);\n",
              "}\n",
              "\n",
              "#sk-container-id-1 input.sk-toggleable__control:checked~div.sk-toggleable__content {\n",
              "  /* Expand drop-down */\n",
              "  max-height: 200px;\n",
              "  max-width: 100%;\n",
              "  overflow: auto;\n",
              "}\n",
              "\n",
              "#sk-container-id-1 input.sk-toggleable__control:checked~label.sk-toggleable__label-arrow:before {\n",
              "  content: \"▾\";\n",
              "}\n",
              "\n",
              "/* Pipeline/ColumnTransformer-specific style */\n",
              "\n",
              "#sk-container-id-1 div.sk-label input.sk-toggleable__control:checked~label.sk-toggleable__label {\n",
              "  color: var(--sklearn-color-text);\n",
              "  background-color: var(--sklearn-color-unfitted-level-2);\n",
              "}\n",
              "\n",
              "#sk-container-id-1 div.sk-label.fitted input.sk-toggleable__control:checked~label.sk-toggleable__label {\n",
              "  background-color: var(--sklearn-color-fitted-level-2);\n",
              "}\n",
              "\n",
              "/* Estimator-specific style */\n",
              "\n",
              "/* Colorize estimator box */\n",
              "#sk-container-id-1 div.sk-estimator input.sk-toggleable__control:checked~label.sk-toggleable__label {\n",
              "  /* unfitted */\n",
              "  background-color: var(--sklearn-color-unfitted-level-2);\n",
              "}\n",
              "\n",
              "#sk-container-id-1 div.sk-estimator.fitted input.sk-toggleable__control:checked~label.sk-toggleable__label {\n",
              "  /* fitted */\n",
              "  background-color: var(--sklearn-color-fitted-level-2);\n",
              "}\n",
              "\n",
              "#sk-container-id-1 div.sk-label label.sk-toggleable__label,\n",
              "#sk-container-id-1 div.sk-label label {\n",
              "  /* The background is the default theme color */\n",
              "  color: var(--sklearn-color-text-on-default-background);\n",
              "}\n",
              "\n",
              "/* On hover, darken the color of the background */\n",
              "#sk-container-id-1 div.sk-label:hover label.sk-toggleable__label {\n",
              "  color: var(--sklearn-color-text);\n",
              "  background-color: var(--sklearn-color-unfitted-level-2);\n",
              "}\n",
              "\n",
              "/* Label box, darken color on hover, fitted */\n",
              "#sk-container-id-1 div.sk-label.fitted:hover label.sk-toggleable__label.fitted {\n",
              "  color: var(--sklearn-color-text);\n",
              "  background-color: var(--sklearn-color-fitted-level-2);\n",
              "}\n",
              "\n",
              "/* Estimator label */\n",
              "\n",
              "#sk-container-id-1 div.sk-label label {\n",
              "  font-family: monospace;\n",
              "  font-weight: bold;\n",
              "  display: inline-block;\n",
              "  line-height: 1.2em;\n",
              "}\n",
              "\n",
              "#sk-container-id-1 div.sk-label-container {\n",
              "  text-align: center;\n",
              "}\n",
              "\n",
              "/* Estimator-specific */\n",
              "#sk-container-id-1 div.sk-estimator {\n",
              "  font-family: monospace;\n",
              "  border: 1px dotted var(--sklearn-color-border-box);\n",
              "  border-radius: 0.25em;\n",
              "  box-sizing: border-box;\n",
              "  margin-bottom: 0.5em;\n",
              "  /* unfitted */\n",
              "  background-color: var(--sklearn-color-unfitted-level-0);\n",
              "}\n",
              "\n",
              "#sk-container-id-1 div.sk-estimator.fitted {\n",
              "  /* fitted */\n",
              "  background-color: var(--sklearn-color-fitted-level-0);\n",
              "}\n",
              "\n",
              "/* on hover */\n",
              "#sk-container-id-1 div.sk-estimator:hover {\n",
              "  /* unfitted */\n",
              "  background-color: var(--sklearn-color-unfitted-level-2);\n",
              "}\n",
              "\n",
              "#sk-container-id-1 div.sk-estimator.fitted:hover {\n",
              "  /* fitted */\n",
              "  background-color: var(--sklearn-color-fitted-level-2);\n",
              "}\n",
              "\n",
              "/* Specification for estimator info (e.g. \"i\" and \"?\") */\n",
              "\n",
              "/* Common style for \"i\" and \"?\" */\n",
              "\n",
              ".sk-estimator-doc-link,\n",
              "a:link.sk-estimator-doc-link,\n",
              "a:visited.sk-estimator-doc-link {\n",
              "  float: right;\n",
              "  font-size: smaller;\n",
              "  line-height: 1em;\n",
              "  font-family: monospace;\n",
              "  background-color: var(--sklearn-color-background);\n",
              "  border-radius: 1em;\n",
              "  height: 1em;\n",
              "  width: 1em;\n",
              "  text-decoration: none !important;\n",
              "  margin-left: 0.5em;\n",
              "  text-align: center;\n",
              "  /* unfitted */\n",
              "  border: var(--sklearn-color-unfitted-level-1) 1pt solid;\n",
              "  color: var(--sklearn-color-unfitted-level-1);\n",
              "}\n",
              "\n",
              ".sk-estimator-doc-link.fitted,\n",
              "a:link.sk-estimator-doc-link.fitted,\n",
              "a:visited.sk-estimator-doc-link.fitted {\n",
              "  /* fitted */\n",
              "  border: var(--sklearn-color-fitted-level-1) 1pt solid;\n",
              "  color: var(--sklearn-color-fitted-level-1);\n",
              "}\n",
              "\n",
              "/* On hover */\n",
              "div.sk-estimator:hover .sk-estimator-doc-link:hover,\n",
              ".sk-estimator-doc-link:hover,\n",
              "div.sk-label-container:hover .sk-estimator-doc-link:hover,\n",
              ".sk-estimator-doc-link:hover {\n",
              "  /* unfitted */\n",
              "  background-color: var(--sklearn-color-unfitted-level-3);\n",
              "  color: var(--sklearn-color-background);\n",
              "  text-decoration: none;\n",
              "}\n",
              "\n",
              "div.sk-estimator.fitted:hover .sk-estimator-doc-link.fitted:hover,\n",
              ".sk-estimator-doc-link.fitted:hover,\n",
              "div.sk-label-container:hover .sk-estimator-doc-link.fitted:hover,\n",
              ".sk-estimator-doc-link.fitted:hover {\n",
              "  /* fitted */\n",
              "  background-color: var(--sklearn-color-fitted-level-3);\n",
              "  color: var(--sklearn-color-background);\n",
              "  text-decoration: none;\n",
              "}\n",
              "\n",
              "/* Span, style for the box shown on hovering the info icon */\n",
              ".sk-estimator-doc-link span {\n",
              "  display: none;\n",
              "  z-index: 9999;\n",
              "  position: relative;\n",
              "  font-weight: normal;\n",
              "  right: .2ex;\n",
              "  padding: .5ex;\n",
              "  margin: .5ex;\n",
              "  width: min-content;\n",
              "  min-width: 20ex;\n",
              "  max-width: 50ex;\n",
              "  color: var(--sklearn-color-text);\n",
              "  box-shadow: 2pt 2pt 4pt #999;\n",
              "  /* unfitted */\n",
              "  background: var(--sklearn-color-unfitted-level-0);\n",
              "  border: .5pt solid var(--sklearn-color-unfitted-level-3);\n",
              "}\n",
              "\n",
              ".sk-estimator-doc-link.fitted span {\n",
              "  /* fitted */\n",
              "  background: var(--sklearn-color-fitted-level-0);\n",
              "  border: var(--sklearn-color-fitted-level-3);\n",
              "}\n",
              "\n",
              ".sk-estimator-doc-link:hover span {\n",
              "  display: block;\n",
              "}\n",
              "\n",
              "/* \"?\"-specific style due to the `<a>` HTML tag */\n",
              "\n",
              "#sk-container-id-1 a.estimator_doc_link {\n",
              "  float: right;\n",
              "  font-size: 1rem;\n",
              "  line-height: 1em;\n",
              "  font-family: monospace;\n",
              "  background-color: var(--sklearn-color-background);\n",
              "  border-radius: 1rem;\n",
              "  height: 1rem;\n",
              "  width: 1rem;\n",
              "  text-decoration: none;\n",
              "  /* unfitted */\n",
              "  color: var(--sklearn-color-unfitted-level-1);\n",
              "  border: var(--sklearn-color-unfitted-level-1) 1pt solid;\n",
              "}\n",
              "\n",
              "#sk-container-id-1 a.estimator_doc_link.fitted {\n",
              "  /* fitted */\n",
              "  border: var(--sklearn-color-fitted-level-1) 1pt solid;\n",
              "  color: var(--sklearn-color-fitted-level-1);\n",
              "}\n",
              "\n",
              "/* On hover */\n",
              "#sk-container-id-1 a.estimator_doc_link:hover {\n",
              "  /* unfitted */\n",
              "  background-color: var(--sklearn-color-unfitted-level-3);\n",
              "  color: var(--sklearn-color-background);\n",
              "  text-decoration: none;\n",
              "}\n",
              "\n",
              "#sk-container-id-1 a.estimator_doc_link.fitted:hover {\n",
              "  /* fitted */\n",
              "  background-color: var(--sklearn-color-fitted-level-3);\n",
              "}\n",
              "</style><div id=\"sk-container-id-1\" class=\"sk-top-container\"><div class=\"sk-text-repr-fallback\"><pre>RandomForestClassifier(min_samples_leaf=2, min_samples_split=5,\n",
              "                       n_estimators=300, random_state=42)</pre><b>In a Jupyter environment, please rerun this cell to show the HTML representation or trust the notebook. <br />On GitHub, the HTML representation is unable to render, please try loading this page with nbviewer.org.</b></div><div class=\"sk-container\" hidden><div class=\"sk-item\"><div class=\"sk-estimator fitted sk-toggleable\"><input class=\"sk-toggleable__control sk-hidden--visually\" id=\"sk-estimator-id-1\" type=\"checkbox\" checked><label for=\"sk-estimator-id-1\" class=\"sk-toggleable__label fitted sk-toggleable__label-arrow\"><div><div>RandomForestClassifier</div></div><div><a class=\"sk-estimator-doc-link fitted\" rel=\"noreferrer\" target=\"_blank\" href=\"https://scikit-learn.org/1.6/modules/generated/sklearn.ensemble.RandomForestClassifier.html\">?<span>Documentation for RandomForestClassifier</span></a><span class=\"sk-estimator-doc-link fitted\">i<span>Fitted</span></span></div></label><div class=\"sk-toggleable__content fitted\"><pre>RandomForestClassifier(min_samples_leaf=2, min_samples_split=5,\n",
              "                       n_estimators=300, random_state=42)</pre></div> </div></div></div></div>"
            ]
          },
          "metadata": {},
          "execution_count": 69
        }
      ]
    },
    {
      "cell_type": "markdown",
      "source": [
        "Evaluasi Model Random Forest dengan TF-IDF"
      ],
      "metadata": {
        "id": "IK3nzsjlw4jL"
      }
    },
    {
      "cell_type": "code",
      "source": [
        "label_pred_rf2 = rf_model2.predict(fitur_test_rf2)\n",
        "label_pred_train_rf2 = rf_model2.predict(fitur_train_rf2)\n",
        "\n",
        "# Evaluasi pada data training\n",
        "accuracy_train_rf2 = accuracy_score(label_train_rf2, label_pred_train_rf2)\n",
        "print(f\"Akurasi Training Random Forest: {accuracy_train_rf2}\")\n",
        "print(\"Classification Report Training Random Forest:\")\n",
        "print(classification_report(label_train_rf2, label_pred_train_rf2))\n",
        "\n",
        "# Evaluasi pada data testing\n",
        "accuracy_rf2 = accuracy_score(label_test_rf2, label_pred_rf2)\n",
        "print(f\"Akurasi Testing Random Forest: {accuracy_rf2}\")\n",
        "print(\"Classification Report Testing Random Forest:\")\n",
        "print(classification_report(label_test_rf2, label_pred_rf2))\n",
        "\n",
        "# Membuat Confusion Matrix\n",
        "cm_rf2 = confusion_matrix(label_test_rf2, label_pred_rf2)\n",
        "plt.figure(figsize=(10, 8))\n",
        "sns.heatmap(cm_rf2, annot=True, fmt='d', cmap='Blues')\n",
        "plt.title('Confusion Matrix Random Forest')\n",
        "plt.xlabel('Predicted Label')\n",
        "plt.ylabel('True Label')\n",
        "plt.show()"
      ],
      "metadata": {
        "id": "TNbKDYS7w6Oz",
        "colab": {
          "base_uri": "https://localhost:8080/",
          "height": 1000
        },
        "outputId": "9295e88d-0867-4372-d9f4-bff8662a758e"
      },
      "execution_count": 70,
      "outputs": [
        {
          "output_type": "stream",
          "name": "stdout",
          "text": [
            "Akurasi Training Random Forest: 0.8881040195036569\n",
            "Classification Report Training Random Forest:\n",
            "              precision    recall  f1-score   support\n",
            "\n",
            "           0       0.93      0.51      0.66      1352\n",
            "           1       0.88      0.81      0.84      4849\n",
            "           2       0.89      0.98      0.93      9796\n",
            "\n",
            "    accuracy                           0.89     15997\n",
            "   macro avg       0.90      0.77      0.81     15997\n",
            "weighted avg       0.89      0.89      0.88     15997\n",
            "\n",
            "Akurasi Testing Random Forest: 0.8695\n",
            "Classification Report Testing Random Forest:\n",
            "              precision    recall  f1-score   support\n",
            "\n",
            "           0       0.94      0.44      0.60       335\n",
            "           1       0.85      0.79      0.82      1232\n",
            "           2       0.87      0.97      0.92      2433\n",
            "\n",
            "    accuracy                           0.87      4000\n",
            "   macro avg       0.89      0.73      0.78      4000\n",
            "weighted avg       0.87      0.87      0.86      4000\n",
            "\n"
          ]
        },
        {
          "output_type": "display_data",
          "data": {
            "text/plain": [
              "<Figure size 1000x800 with 2 Axes>"
            ],
            "image/png": "[encoded data removed]"
          },
          "metadata": {}
        }
      ]
    },
    {
      "cell_type": "markdown",
      "source": [
        "## **LSTM x TF-IDF (70/20/10)**"
      ],
      "metadata": {
        "id": "udYJMUvow8vd"
      }
    },
    {
      "cell_type": "markdown",
      "source": [
        "Praprocessing Teks untuk Model LSTM Menggunakan TF-IDF (70/20/10)"
      ],
      "metadata": {
        "id": "NLlqHEqHw-Ps"
      }
    },
    {
      "cell_type": "code",
      "source": [
        "# Menginisialisasi tokenizer dan membatasi jumlah kata unik sebanyak 10.000\n",
        "tokenizer = Tokenizer(num_words=10000)\n",
        "\n",
        "# Menyesuaikan tokenizer dengan teks yang telah dibersihkan\n",
        "tokenizer.fit_on_texts(fitur)\n",
        "\n",
        "# Mengubah teks menjadi urutan angka berdasarkan kamus tokenizer\n",
        "fitur_sekuensial = tokenizer.texts_to_sequences(fitur)\n",
        "\n",
        "# Menyamakan panjang urutan dengan padding (maksimal 100 kata)\n",
        "fitur_padat = pad_sequences(fitur_sekuensial, maxlen=100)"
      ],
      "metadata": {
        "id": "zriK162fw-mb"
      },
      "execution_count": 71,
      "outputs": []
    },
    {
      "cell_type": "code",
      "source": [
        "jumlah_kelas = len(np.unique(label))\n",
        "print(f\"Jumlah kelas: {jumlah_kelas}\")\n",
        "\n",
        "# Menampilkan dimensi dari fitur hasil padding\n",
        "print(f\"Dimensi urutan fitur: {fitur_padat.shape}\")\n",
        "\n",
        "# Menampilkan ukuran kosa kata dari tokenizer\n",
        "kosa_kata_index = tokenizer.word_index\n",
        "print(f\"\\nUkuran kosa kata: {len(kosa_kata_index)} kata\")"
      ],
      "metadata": {
        "id": "1VF4grvAxADL",
        "colab": {
          "base_uri": "https://localhost:8080/"
        },
        "outputId": "0cb8d710-6097-494e-84bb-60631fd512f2"
      },
      "execution_count": 72,
      "outputs": [
        {
          "output_type": "stream",
          "name": "stdout",
          "text": [
            "Jumlah kelas: 3\n",
            "Dimensi urutan fitur: (19997, 100)\n",
            "\n",
            "Ukuran kosa kata: 9937 kata\n"
          ]
        }
      ]
    },
    {
      "cell_type": "markdown",
      "source": [
        "Pelatihan dan Prediksi Model LSTM"
      ],
      "metadata": {
        "id": "52LuUoLhxCrU"
      }
    },
    {
      "cell_type": "code",
      "source": [
        "fitur_latih_lstm, fitur_uji_lstm, label_latih_lstm, label_uji_lstm = train_test_split(\n",
        "    fitur_padat, label, test_size=0.2, random_state=42\n",
        ")\n",
        "\n",
        "# Mengambil 10% dari 80% data latih sebagai data validasi (0.1 / 0.8 = 0.125)\n",
        "fitur_latih_lstm, fitur_validasi_lstm, label_latih_lstm, label_validasi_lstm = train_test_split(\n",
        "    fitur_latih_lstm, label_latih_lstm, test_size=0.125, random_state=42\n",
        ")\n",
        "\n",
        "# Menampilkan jumlah sampel di setiap subset\n",
        "print(\"Total Sampel:\")\n",
        "print(f\"Set pelatihan: {fitur_latih_lstm.shape[0]} sampel\")\n",
        "print(f\"Set validasi : {fitur_validasi_lstm.shape[0]} sampel\")\n",
        "print(f\"Set pengujian: {fitur_uji_lstm.shape[0]} sampel\")"
      ],
      "metadata": {
        "id": "DZiD2BR_xEIr",
        "colab": {
          "base_uri": "https://localhost:8080/"
        },
        "outputId": "aa163a73-8f00-4c23-8d1b-ad46f61db4c9"
      },
      "execution_count": 73,
      "outputs": [
        {
          "output_type": "stream",
          "name": "stdout",
          "text": [
            "Total Sampel:\n",
            "Set pelatihan: 13997 sampel\n",
            "Set validasi : 2000 sampel\n",
            "Set pengujian: 4000 sampel\n"
          ]
        }
      ]
    },
    {
      "cell_type": "code",
      "source": [
        "# Membuat model LSTM untuk klasifikasi sentimen\n",
        "model_lstm = Sequential([\n",
        "    Embedding(input_dim=10000, output_dim=128, input_length=100),       # Representasi kata dalam vektor\n",
        "    SpatialDropout1D(0.4),                                               # Dropout untuk regularisasi\n",
        "    LSTM(128, dropout=0.3, recurrent_dropout=0.3),                       # LSTM untuk memahami urutan kata\n",
        "    Dense(3, activation='softmax')                                       # Output 3 kelas sentimen\n",
        "])\n",
        "\n",
        "# Menyusun model dengan loss dan optimizer\n",
        "model_lstm.compile(\n",
        "    loss='sparse_categorical_crossentropy',\n",
        "    optimizer=Adam(),\n",
        "    metrics=['accuracy']\n",
        ")\n",
        "\n",
        "# Callback untuk kontrol pelatihan\n",
        "callback_early_stopping = EarlyStopping(\n",
        "    monitor='val_loss',\n",
        "    patience=2,\n",
        "    restore_best_weights=True\n",
        ")\n",
        "callback_lr_reduction = ReduceLROnPlateau(\n",
        "    monitor='val_loss',\n",
        "    factor=0.5,\n",
        "    patience=2\n",
        ")\n",
        "\n",
        "# Daftar callback\n",
        "callbacks = [callback_early_stopping, callback_lr_reduction]\n",
        "\n",
        "# Menjalankan pelatihan model\n",
        "riwayat_latihan = model_lstm.fit(\n",
        "    fitur_latih_lstm, label_latih_lstm,\n",
        "    validation_data=(fitur_validasi_lstm, label_validasi_lstm),\n",
        "    epochs=10,\n",
        "    batch_size=64,\n",
        "    verbose=1,\n",
        "    callbacks=callbacks\n",
        ")"
      ],
      "metadata": {
        "id": "PxkcSa70xGzz",
        "colab": {
          "base_uri": "https://localhost:8080/"
        },
        "outputId": "7caa28cc-85c7-435f-f51e-b95ad8543ccc"
      },
      "execution_count": 74,
      "outputs": [
        {
          "output_type": "stream",
          "name": "stderr",
          "text": [
            "/usr/local/lib/python3.11/dist-packages/keras/src/layers/core/embedding.py:90: UserWarning: Argument `input_length` is deprecated. Just remove it.\n",
            "  warnings.warn(\n"
          ]
        },
        {
          "output_type": "stream",
          "name": "stdout",
          "text": [
            "Epoch 1/10\n",
            "\u001b[1m219/219\u001b[0m \u001b[32m━━━━━━━━━━━━━━━━━━━━\u001b[0m\u001b[37m\u001b[0m \u001b[1m76s\u001b[0m 311ms/step - accuracy: 0.6778 - loss: 0.7457 - val_accuracy: 0.8980 - val_loss: 0.2708 - learning_rate: 0.0010\n",
            "Epoch 2/10\n",
            "\u001b[1m219/219\u001b[0m \u001b[32m━━━━━━━━━━━━━━━━━━━━\u001b[0m\u001b[37m\u001b[0m \u001b[1m78s\u001b[0m 309ms/step - accuracy: 0.9196 - loss: 0.2181 - val_accuracy: 0.9450 - val_loss: 0.1683 - learning_rate: 0.0010\n",
            "Epoch 3/10\n",
            "\u001b[1m219/219\u001b[0m \u001b[32m━━━━━━━━━━━━━━━━━━━━\u001b[0m\u001b[37m\u001b[0m \u001b[1m83s\u001b[0m 313ms/step - accuracy: 0.9683 - loss: 0.0987 - val_accuracy: 0.9525 - val_loss: 0.1532 - learning_rate: 0.0010\n",
            "Epoch 4/10\n",
            "\u001b[1m219/219\u001b[0m \u001b[32m━━━━━━━━━━━━━━━━━━━━\u001b[0m\u001b[37m\u001b[0m \u001b[1m81s\u001b[0m 308ms/step - accuracy: 0.9808 - loss: 0.0556 - val_accuracy: 0.9550 - val_loss: 0.1623 - learning_rate: 0.0010\n",
            "Epoch 5/10\n",
            "\u001b[1m219/219\u001b[0m \u001b[32m━━━━━━━━━━━━━━━━━━━━\u001b[0m\u001b[37m\u001b[0m \u001b[1m83s\u001b[0m 312ms/step - accuracy: 0.9892 - loss: 0.0321 - val_accuracy: 0.9550 - val_loss: 0.1744 - learning_rate: 0.0010\n"
          ]
        }
      ]
    },
    {
      "cell_type": "markdown",
      "source": [
        "Evaluasi Model LSTM dengan TF-IDF\n"
      ],
      "metadata": {
        "id": "y6rPnkEsxKG0"
      }
    },
    {
      "cell_type": "code",
      "source": [
        "# Prediksi Label untuk Data Uji\n",
        "prediksi_latih_lstm = model_lstm.predict(fitur_latih_lstm)\n",
        "prediksi_latih_lstm = np.argmax(prediksi_latih_lstm, axis=1) # Mengambil indeks kelas dengan probabilitas tertinggi\n",
        "\n",
        "prediksi_validasi_lstm = model_lstm.predict(fitur_validasi_lstm)\n",
        "prediksi_validasi_lstm = np.argmax(prediksi_validasi_lstm, axis=1) # Mengambil indeks kelas dengan probabilitas tertinggi\n",
        "\n",
        "# Laporan Klasifikasi\n",
        "print(\"Laporan Klasifikasi (Data Latih):\")\n",
        "print(classification_report(label_latih_lstm, prediksi_latih_lstm))\n",
        "\n",
        "print(\"Laporan Klasifikasi (Data Validasi):\")\n",
        "print(classification_report(label_validasi_lstm, prediksi_validasi_lstm))\n",
        "\n",
        "# Confusion Matrix\n",
        "cm_latih_lstm = confusion_matrix(label_latih_lstm, prediksi_latih_lstm)\n",
        "cm_validasi_lstm = confusion_matrix(label_validasi_lstm, prediksi_validasi_lstm)\n",
        "\n",
        "# Visualisasi Confusion Matrix\n",
        "plt.figure(figsize=(12, 5))\n",
        "plt.subplot(1, 2, 1)\n",
        "sns.heatmap(cm_latih_lstm, annot=True, fmt=\"d\", cmap=\"Blues\")\n",
        "plt.title(\"Confusion Matrix (Data Latih)\")\n",
        "plt.xlabel(\"Predicted Label\")\n",
        "plt.ylabel(\"True Label\")\n",
        "\n",
        "plt.subplot(1, 2, 2)\n",
        "sns.heatmap(cm_validasi_lstm, annot=True, fmt=\"d\", cmap=\"Blues\")\n",
        "plt.title(\"Confusion Matrix (Data Validasi)\")\n",
        "plt.xlabel(\"Predicted Label\")\n",
        "plt.ylabel(\"True Label\")\n",
        "\n",
        "plt.tight_layout()\n",
        "plt.show()"
      ],
      "metadata": {
        "id": "wM8SMygmxMgD",
        "colab": {
          "base_uri": "https://localhost:8080/",
          "height": 924
        },
        "outputId": "e6138c40-d6d9-49f0-e89d-a41159030a43"
      },
      "execution_count": 75,
      "outputs": [
        {
          "output_type": "stream",
          "name": "stdout",
          "text": [
            "\u001b[1m438/438\u001b[0m \u001b[32m━━━━━━━━━━━━━━━━━━━━\u001b[0m\u001b[37m\u001b[0m \u001b[1m25s\u001b[0m 57ms/step\n",
            "\u001b[1m63/63\u001b[0m \u001b[32m━━━━━━━━━━━━━━━━━━━━\u001b[0m\u001b[37m\u001b[0m \u001b[1m3s\u001b[0m 53ms/step\n",
            "Laporan Klasifikasi (Data Latih):\n",
            "              precision    recall  f1-score   support\n",
            "\n",
            "           0       0.97      0.96      0.96      1186\n",
            "           1       0.98      0.98      0.98      4220\n",
            "           2       1.00      1.00      1.00      8591\n",
            "\n",
            "    accuracy                           0.99     13997\n",
            "   macro avg       0.98      0.98      0.98     13997\n",
            "weighted avg       0.99      0.99      0.99     13997\n",
            "\n",
            "Laporan Klasifikasi (Data Validasi):\n",
            "              precision    recall  f1-score   support\n",
            "\n",
            "           0       0.95      0.87      0.91       166\n",
            "           1       0.92      0.94      0.93       629\n",
            "           2       0.97      0.97      0.97      1205\n",
            "\n",
            "    accuracy                           0.95      2000\n",
            "   macro avg       0.95      0.93      0.94      2000\n",
            "weighted avg       0.95      0.95      0.95      2000\n",
            "\n"
          ]
        },
        {
          "output_type": "display_data",
          "data": {
            "text/plain": [
              "<Figure size 1200x500 with 4 Axes>"
            ],
            "image/png": "[encoded data removed]"
          },
          "metadata": {}
        }
      ]
    },
    {
      "cell_type": "markdown",
      "source": [
        "## **Bag of Words Module**"
      ],
      "metadata": {
        "id": "UGN1bIBWxOgk"
      }
    },
    {
      "cell_type": "code",
      "source": [
        "# Load Data\n",
        "ulasan_bow = pd.read_csv('data_bersih_berlabel.csv')"
      ],
      "metadata": {
        "id": "SZ4O5VUmxQdk"
      },
      "execution_count": 76,
      "outputs": []
    },
    {
      "cell_type": "code",
      "source": [
        "ulasan_bow.head()"
      ],
      "metadata": {
        "id": "BkvwL4XSxTW0",
        "colab": {
          "base_uri": "https://localhost:8080/",
          "height": 397
        },
        "outputId": "419d5412-1024-4fca-a4c3-1e6f5c932bb0"
      },
      "execution_count": 77,
      "outputs": [
        {
          "output_type": "execute_result",
          "data": {
            "text/plain": [
              "                                             content  score  word_count  \\\n",
              "0                                           Mantap 🔥      5           2   \n",
              "1  Gatau kenapa, dari kemarin tuh aku gabisa buat...      1          30   \n",
              "2          Dukun aku buat menjangkau bintang direels      5           6   \n",
              "3  ada apakah selalu for close pas mau membuka ap...      1          11   \n",
              "4                                               Good      5           1   \n",
              "\n",
              "                                       clean_content  \\\n",
              "0                                           Mantap 🔥   \n",
              "1  Gatau kenapa dari kemarin tuh aku gabisa buat ...   \n",
              "2          Dukun aku buat menjangkau bintang direels   \n",
              "3  ada apakah selalu for close pas mau membuka ap...   \n",
              "4                                               Good   \n",
              "\n",
              "                                    casefold_content  \\\n",
              "0                                           mantap 🔥   \n",
              "1  gatau kenapa dari kemarin tuh aku gabisa buat ...   \n",
              "2          dukun aku buat menjangkau bintang direels   \n",
              "3  ada apakah selalu for close pas mau membuka ap...   \n",
              "4                                               good   \n",
              "\n",
              "                                              tokens  \\\n",
              "0                                    ['mantap', '🔥']   \n",
              "1  ['gatau', 'kenapa', 'dari', 'kemarin', 'tuh', ...   \n",
              "2  ['dukun', 'aku', 'buat', 'menjangkau', 'bintan...   \n",
              "3  ['ada', 'apakah', 'selalu', 'for', 'close', 'p...   \n",
              "4                                           ['good']   \n",
              "\n",
              "                                      stemmed_tokens  \\\n",
              "0                                     ['mantap', '']   \n",
              "1  ['gatau', 'kenapa', 'dari', 'kemarin', 'tuh', ...   \n",
              "2  ['dukun', 'aku', 'buat', 'jangkau', 'bintang',...   \n",
              "3  ['ada', 'apakah', 'selalu', 'for', 'close', 'p...   \n",
              "4                                           ['good']   \n",
              "\n",
              "                                     tokens_negation  \\\n",
              "0                                     ['mantap', '']   \n",
              "1  ['gatau', 'kenapa', 'dari', 'kemarin', 'tuh', ...   \n",
              "2  ['dukun', 'aku', 'buat', 'jangkau', 'bintang',...   \n",
              "3  ['ada', 'apakah', 'selalu', 'for', 'close', 'p...   \n",
              "4                                           ['good']   \n",
              "\n",
              "                                        tokens_slang  \\\n",
              "0                                     ['mantap', '']   \n",
              "1  ['gatau', 'kenapa', 'dari', 'kemarin', 'tuh', ...   \n",
              "2  ['dukun', 'aku', 'buat', 'jangkau', 'bintang',...   \n",
              "3  ['ada', 'apakah', 'selalu', 'for', 'tutup', 'p...   \n",
              "4                                          ['bagus']   \n",
              "\n",
              "                                    stopword_removal sentiment_label  \\\n",
              "0                                     ['mantap', '']         positif   \n",
              "1  ['gatau', 'kemarin', 'tuh', 'tidak bisa', 'pos...         positif   \n",
              "2         ['dukun', 'jangkau', 'bintang', 'direels']         negatif   \n",
              "3  ['tutup', 'pas', 'buka', 'aplikasi', 'instagram']          netral   \n",
              "4                                          ['bagus']         positif   \n",
              "\n",
              "   sentiment_score  \n",
              "0                1  \n",
              "1                1  \n",
              "2               -1  \n",
              "3                0  \n",
              "4                1  "
            ],
            "text/html": [
              "\n",
              "  <div id=\"df-2632aeef-dfa7-4af8-b7c2-0e0ab0448c03\" class=\"colab-df-container\">\n",
              "    <div>\n",
              "<style scoped>\n",
              "    .dataframe tbody tr th:only-of-type {\n",
              "        vertical-align: middle;\n",
              "    }\n",
              "\n",
              "    .dataframe tbody tr th {\n",
              "        vertical-align: top;\n",
              "    }\n",
              "\n",
              "    .dataframe thead th {\n",
              "        text-align: right;\n",
              "    }\n",
              "</style>\n",
              "<table border=\"1\" class=\"dataframe\">\n",
              "  <thead>\n",
              "    <tr style=\"text-align: right;\">\n",
              "      <th></th>\n",
              "      <th>content</th>\n",
              "      <th>score</th>\n",
              "      <th>word_count</th>\n",
              "      <th>clean_content</th>\n",
              "      <th>casefold_content</th>\n",
              "      <th>tokens</th>\n",
              "      <th>stemmed_tokens</th>\n",
              "      <th>tokens_negation</th>\n",
              "      <th>tokens_slang</th>\n",
              "      <th>stopword_removal</th>\n",
              "      <th>sentiment_label</th>\n",
              "      <th>sentiment_score</th>\n",
              "    </tr>\n",
              "  </thead>\n",
              "  <tbody>\n",
              "    <tr>\n",
              "      <th>0</th>\n",
              "      <td>Mantap 🔥</td>\n",
              "      <td>5</td>\n",
              "      <td>2</td>\n",
              "      <td>Mantap 🔥</td>\n",
              "      <td>mantap 🔥</td>\n",
              "      <td>['mantap', '🔥']</td>\n",
              "      <td>['mantap', '']</td>\n",
              "      <td>['mantap', '']</td>\n",
              "      <td>['mantap', '']</td>\n",
              "      <td>['mantap', '']</td>\n",
              "      <td>positif</td>\n",
              "      <td>1</td>\n",
              "    </tr>\n",
              "    <tr>\n",
              "      <th>1</th>\n",
              "      <td>Gatau kenapa, dari kemarin tuh aku gabisa buat...</td>\n",
              "      <td>1</td>\n",
              "      <td>30</td>\n",
              "      <td>Gatau kenapa dari kemarin tuh aku gabisa buat ...</td>\n",
              "      <td>gatau kenapa dari kemarin tuh aku gabisa buat ...</td>\n",
              "      <td>['gatau', 'kenapa', 'dari', 'kemarin', 'tuh', ...</td>\n",
              "      <td>['gatau', 'kenapa', 'dari', 'kemarin', 'tuh', ...</td>\n",
              "      <td>['gatau', 'kenapa', 'dari', 'kemarin', 'tuh', ...</td>\n",
              "      <td>['gatau', 'kenapa', 'dari', 'kemarin', 'tuh', ...</td>\n",
              "      <td>['gatau', 'kemarin', 'tuh', 'tidak bisa', 'pos...</td>\n",
              "      <td>positif</td>\n",
              "      <td>1</td>\n",
              "    </tr>\n",
              "    <tr>\n",
              "      <th>2</th>\n",
              "      <td>Dukun aku buat menjangkau bintang direels</td>\n",
              "      <td>5</td>\n",
              "      <td>6</td>\n",
              "      <td>Dukun aku buat menjangkau bintang direels</td>\n",
              "      <td>dukun aku buat menjangkau bintang direels</td>\n",
              "      <td>['dukun', 'aku', 'buat', 'menjangkau', 'bintan...</td>\n",
              "      <td>['dukun', 'aku', 'buat', 'jangkau', 'bintang',...</td>\n",
              "      <td>['dukun', 'aku', 'buat', 'jangkau', 'bintang',...</td>\n",
              "      <td>['dukun', 'aku', 'buat', 'jangkau', 'bintang',...</td>\n",
              "      <td>['dukun', 'jangkau', 'bintang', 'direels']</td>\n",
              "      <td>negatif</td>\n",
              "      <td>-1</td>\n",
              "    </tr>\n",
              "    <tr>\n",
              "      <th>3</th>\n",
              "      <td>ada apakah selalu for close pas mau membuka ap...</td>\n",
              "      <td>1</td>\n",
              "      <td>11</td>\n",
              "      <td>ada apakah selalu for close pas mau membuka ap...</td>\n",
              "      <td>ada apakah selalu for close pas mau membuka ap...</td>\n",
              "      <td>['ada', 'apakah', 'selalu', 'for', 'close', 'p...</td>\n",
              "      <td>['ada', 'apakah', 'selalu', 'for', 'close', 'p...</td>\n",
              "      <td>['ada', 'apakah', 'selalu', 'for', 'close', 'p...</td>\n",
              "      <td>['ada', 'apakah', 'selalu', 'for', 'tutup', 'p...</td>\n",
              "      <td>['tutup', 'pas', 'buka', 'aplikasi', 'instagram']</td>\n",
              "      <td>netral</td>\n",
              "      <td>0</td>\n",
              "    </tr>\n",
              "    <tr>\n",
              "      <th>4</th>\n",
              "      <td>Good</td>\n",
              "      <td>5</td>\n",
              "      <td>1</td>\n",
              "      <td>Good</td>\n",
              "      <td>good</td>\n",
              "      <td>['good']</td>\n",
              "      <td>['good']</td>\n",
              "      <td>['good']</td>\n",
              "      <td>['bagus']</td>\n",
              "      <td>['bagus']</td>\n",
              "      <td>positif</td>\n",
              "      <td>1</td>\n",
              "    </tr>\n",
              "  </tbody>\n",
              "</table>\n",
              "</div>\n",
              "    <div class=\"colab-df-buttons\">\n",
              "\n",
              "  <div class=\"colab-df-container\">\n",
              "    <button class=\"colab-df-convert\" onclick=\"convertToInteractive('df-2632aeef-dfa7-4af8-b7c2-0e0ab0448c03')\"\n",
              "            title=\"Convert this dataframe to an interactive table.\"\n",
              "            style=\"display:none;\">\n",
              "\n",
              "  <svg xmlns=\"http://www.w3.org/2000/svg\" height=\"24px\" viewBox=\"0 -960 960 960\">\n",
              "    <path d=\"M120-120v-720h720v720H120Zm60-500h600v-160H180v160Zm220 220h160v-160H400v160Zm0 220h160v-160H400v160ZM180-400h160v-160H180v160Zm440 0h160v-160H620v160ZM180-180h160v-160H180v160Zm440 0h160v-160H620v160Z\"/>\n",
              "  </svg>\n",
              "    </button>\n",
              "\n",
              "  <style>\n",
              "    .colab-df-container {\n",
              "      display:flex;\n",
              "      gap: 12px;\n",
              "    }\n",
              "\n",
              "    .colab-df-convert {\n",
              "      background-color: #E8F0FE;\n",
              "      border: none;\n",
              "      border-radius: 50%;\n",
              "      cursor: pointer;\n",
              "      display: none;\n",
              "      fill: #1967D2;\n",
              "      height: 32px;\n",
              "      padding: 0 0 0 0;\n",
              "      width: 32px;\n",
              "    }\n",
              "\n",
              "    .colab-df-convert:hover {\n",
              "      background-color: #E2EBFA;\n",
              "      box-shadow: 0px 1px 2px rgba(60, 64, 67, 0.3), 0px 1px 3px 1px rgba(60, 64, 67, 0.15);\n",
              "      fill: #174EA6;\n",
              "    }\n",
              "\n",
              "    .colab-df-buttons div {\n",
              "      margin-bottom: 4px;\n",
              "    }\n",
              "\n",
              "    [theme=dark] .colab-df-convert {\n",
              "      background-color: #3B4455;\n",
              "      fill: #D2E3FC;\n",
              "    }\n",
              "\n",
              "    [theme=dark] .colab-df-convert:hover {\n",
              "      background-color: #434B5C;\n",
              "      box-shadow: 0px 1px 3px 1px rgba(0, 0, 0, 0.15);\n",
              "      filter: drop-shadow(0px 1px 2px rgba(0, 0, 0, 0.3));\n",
              "      fill: #FFFFFF;\n",
              "    }\n",
              "  </style>\n",
              "\n",
              "    <script>\n",
              "      const buttonEl =\n",
              "        document.querySelector('#df-2632aeef-dfa7-4af8-b7c2-0e0ab0448c03 button.colab-df-convert');\n",
              "      buttonEl.style.display =\n",
              "        google.colab.kernel.accessAllowed ? 'block' : 'none';\n",
              "\n",
              "      async function convertToInteractive(key) {\n",
              "        const element = document.querySelector('#df-2632aeef-dfa7-4af8-b7c2-0e0ab0448c03');\n",
              "        const dataTable =\n",
              "          await google.colab.kernel.invokeFunction('convertToInteractive',\n",
              "                                                    [key], {});\n",
              "        if (!dataTable) return;\n",
              "\n",
              "        const docLinkHtml = 'Like what you see? Visit the ' +\n",
              "          '<a target=\"_blank\" href=https://colab.research.google.com/notebooks/data_table.ipynb>data table notebook</a>'\n",
              "          + ' to learn more about interactive tables.';\n",
              "        element.innerHTML = '';\n",
              "        dataTable['output_type'] = 'display_data';\n",
              "        await google.colab.output.renderOutput(dataTable, element);\n",
              "        const docLink = document.createElement('div');\n",
              "        docLink.innerHTML = docLinkHtml;\n",
              "        element.appendChild(docLink);\n",
              "      }\n",
              "    </script>\n",
              "  </div>\n",
              "\n",
              "\n",
              "    <div id=\"df-d3605a19-fb99-4cec-bacb-135bdcdf307a\">\n",
              "      <button class=\"colab-df-quickchart\" onclick=\"quickchart('df-d3605a19-fb99-4cec-bacb-135bdcdf307a')\"\n",
              "                title=\"Suggest charts\"\n",
              "                style=\"display:none;\">\n",
              "\n",
              "<svg xmlns=\"http://www.w3.org/2000/svg\" height=\"24px\"viewBox=\"0 0 24 24\"\n",
              "     width=\"24px\">\n",
              "    <g>\n",
              "        <path d=\"M19 3H5c-1.1 0-2 .9-2 2v14c0 1.1.9 2 2 2h14c1.1 0 2-.9 2-2V5c0-1.1-.9-2-2-2zM9 17H7v-7h2v7zm4 0h-2V7h2v10zm4 0h-2v-4h2v4z\"/>\n",
              "    </g>\n",
              "</svg>\n",
              "      </button>\n",
              "\n",
              "<style>\n",
              "  .colab-df-quickchart {\n",
              "      --bg-color: #E8F0FE;\n",
              "      --fill-color: #1967D2;\n",
              "      --hover-bg-color: #E2EBFA;\n",
              "      --hover-fill-color: #174EA6;\n",
              "      --disabled-fill-color: #AAA;\n",
              "      --disabled-bg-color: #DDD;\n",
              "  }\n",
              "\n",
              "  [theme=dark] .colab-df-quickchart {\n",
              "      --bg-color: #3B4455;\n",
              "      --fill-color: #D2E3FC;\n",
              "      --hover-bg-color: #434B5C;\n",
              "      --hover-fill-color: #FFFFFF;\n",
              "      --disabled-bg-color: #3B4455;\n",
              "      --disabled-fill-color: #666;\n",
              "  }\n",
              "\n",
              "  .colab-df-quickchart {\n",
              "    background-color: var(--bg-color);\n",
              "    border: none;\n",
              "    border-radius: 50%;\n",
              "    cursor: pointer;\n",
              "    display: none;\n",
              "    fill: var(--fill-color);\n",
              "    height: 32px;\n",
              "    padding: 0;\n",
              "    width: 32px;\n",
              "  }\n",
              "\n",
              "  .colab-df-quickchart:hover {\n",
              "    background-color: var(--hover-bg-color);\n",
              "    box-shadow: 0 1px 2px rgba(60, 64, 67, 0.3), 0 1px 3px 1px rgba(60, 64, 67, 0.15);\n",
              "    fill: var(--button-hover-fill-color);\n",
              "  }\n",
              "\n",
              "  .colab-df-quickchart-complete:disabled,\n",
              "  .colab-df-quickchart-complete:disabled:hover {\n",
              "    background-color: var(--disabled-bg-color);\n",
              "    fill: var(--disabled-fill-color);\n",
              "    box-shadow: none;\n",
              "  }\n",
              "\n",
              "  .colab-df-spinner {\n",
              "    border: 2px solid var(--fill-color);\n",
              "    border-color: transparent;\n",
              "    border-bottom-color: var(--fill-color);\n",
              "    animation:\n",
              "      spin 1s steps(1) infinite;\n",
              "  }\n",
              "\n",
              "  @keyframes spin {\n",
              "    0% {\n",
              "      border-color: transparent;\n",
              "      border-bottom-color: var(--fill-color);\n",
              "      border-left-color: var(--fill-color);\n",
              "    }\n",
              "    20% {\n",
              "      border-color: transparent;\n",
              "      border-left-color: var(--fill-color);\n",
              "      border-top-color: var(--fill-color);\n",
              "    }\n",
              "    30% {\n",
              "      border-color: transparent;\n",
              "      border-left-color: var(--fill-color);\n",
              "      border-top-color: var(--fill-color);\n",
              "      border-right-color: var(--fill-color);\n",
              "    }\n",
              "    40% {\n",
              "      border-color: transparent;\n",
              "      border-right-color: var(--fill-color);\n",
              "      border-top-color: var(--fill-color);\n",
              "    }\n",
              "    60% {\n",
              "      border-color: transparent;\n",
              "      border-right-color: var(--fill-color);\n",
              "    }\n",
              "    80% {\n",
              "      border-color: transparent;\n",
              "      border-right-color: var(--fill-color);\n",
              "      border-bottom-color: var(--fill-color);\n",
              "    }\n",
              "    90% {\n",
              "      border-color: transparent;\n",
              "      border-bottom-color: var(--fill-color);\n",
              "    }\n",
              "  }\n",
              "</style>\n",
              "\n",
              "      <script>\n",
              "        async function quickchart(key) {\n",
              "          const quickchartButtonEl =\n",
              "            document.querySelector('#' + key + ' button');\n",
              "          quickchartButtonEl.disabled = true;  // To prevent multiple clicks.\n",
              "          quickchartButtonEl.classList.add('colab-df-spinner');\n",
              "          try {\n",
              "            const charts = await google.colab.kernel.invokeFunction(\n",
              "                'suggestCharts', [key], {});\n",
              "          } catch (error) {\n",
              "            console.error('Error during call to suggestCharts:', error);\n",
              "          }\n",
              "          quickchartButtonEl.classList.remove('colab-df-spinner');\n",
              "          quickchartButtonEl.classList.add('colab-df-quickchart-complete');\n",
              "        }\n",
              "        (() => {\n",
              "          let quickchartButtonEl =\n",
              "            document.querySelector('#df-d3605a19-fb99-4cec-bacb-135bdcdf307a button');\n",
              "          quickchartButtonEl.style.display =\n",
              "            google.colab.kernel.accessAllowed ? 'block' : 'none';\n",
              "        })();\n",
              "      </script>\n",
              "    </div>\n",
              "\n",
              "    </div>\n",
              "  </div>\n"
            ],
            "application/vnd.google.colaboratory.intrinsic+json": {
              "type": "dataframe",
              "variable_name": "ulasan_bow",
              "summary": "{\n  \"name\": \"ulasan_bow\",\n  \"rows\": 19997,\n  \"fields\": [\n    {\n      \"column\": \"content\",\n      \"properties\": {\n        \"dtype\": \"string\",\n        \"num_unique_values\": 14076,\n        \"samples\": [\n          \"Medsos nomer satu\",\n          \"Demi Allah ya, Instagram makin kesini makin ga jelas. Mau login aja susah bgt, sinyal wifi lancar bahkan pakai data yang sama lancarnya tetep ga bisa. update itu bertujuan untuk apa si menurut Instagram? Menjadikan aplikasi semakin lag? Semakin sulit digunakan? Jangankan login, lagi scroll aja sering lag, haduh pusing bgt untuk aplikasi internasional ternama seperti Instagram ini memalukan sih.\",\n          \"Satu\"\n        ],\n        \"semantic_type\": \"\",\n        \"description\": \"\"\n      }\n    },\n    {\n      \"column\": \"score\",\n      \"properties\": {\n        \"dtype\": \"number\",\n        \"std\": 1,\n        \"min\": 1,\n        \"max\": 5,\n        \"num_unique_values\": 5,\n        \"samples\": [\n          1,\n          2,\n          4\n        ],\n        \"semantic_type\": \"\",\n        \"description\": \"\"\n      }\n    },\n    {\n      \"column\": \"word_count\",\n      \"properties\": {\n        \"dtype\": \"number\",\n        \"std\": 9,\n        \"min\": 1,\n        \"max\": 110,\n        \"num_unique_values\": 93,\n        \"samples\": [\n          34,\n          37,\n          55\n        ],\n        \"semantic_type\": \"\",\n        \"description\": \"\"\n      }\n    },\n    {\n      \"column\": \"clean_content\",\n      \"properties\": {\n        \"dtype\": \"string\",\n        \"num_unique_values\": 13910,\n        \"samples\": [\n          \"Ig kenapa sih segiap mau ganti atau cari nama pengguna malah gagal muluu perbaiki nih aplikasinya\",\n          \"dlu ya karna kan aku tu wktu itu memo nya onuh trd ak hapus ig nah trus aku download lg pas uda masukin no tlpn buat login kr akun lg sllu aja ada pesan maaf ada maslaah uda berkali aku cb hasilnya sllu gituu\",\n          \"Aplikasi nya bagua tapi menurut aku kalaw lagu dan efek nya ada yang baru dan gampang di cari pasti lebih bagus dan menarik\"\n        ],\n        \"semantic_type\": \"\",\n        \"description\": \"\"\n      }\n    },\n    {\n      \"column\": \"casefold_content\",\n      \"properties\": {\n        \"dtype\": \"string\",\n        \"num_unique_values\": 13478,\n        \"samples\": [\n          \"ig menjadikan satu semangat dan inspirasi dalam hidup ini\",\n          \"bagian kolase tidak sempurna bahkan tidak\",\n          \"terimakasih apk bagus\"\n        ],\n        \"semantic_type\": \"\",\n        \"description\": \"\"\n      }\n    },\n    {\n      \"column\": \"tokens\",\n      \"properties\": {\n        \"dtype\": \"string\",\n        \"num_unique_values\": 13478,\n        \"samples\": [\n          \"['ig', 'menjadikan', 'satu', 'semangat', 'dan', 'inspirasi', 'dalam', 'hidup', 'ini']\",\n          \"['bagian', 'kolase', 'tidak', 'sempurna', 'bahkan', 'tidak']\",\n          \"['terimakasih', 'apk', 'bagus']\"\n        ],\n        \"semantic_type\": \"\",\n        \"description\": \"\"\n      }\n    },\n    {\n      \"column\": \"stemmed_tokens\",\n      \"properties\": {\n        \"dtype\": \"string\",\n        \"num_unique_values\": 12960,\n        \"samples\": [\n          \"['tolong', 'dong', 'diperbaikin', 'instagram', 'akhir', 'ini', 'ga', 'ada', 'bagus', 'di', 'baharu', 'jg', 'kaya', 'ga', 'guna', 'sama', 'sekali', 'tolong', 'di', 'baik', 'yaa']\",\n          \"['makin', 'maju']\",\n          \"['banyak', 'info', 'ide', 'komen', 'yang', 'bijak', 'ikut', 'yang', 'layak', 'terus', 'lah', 'karya']\"\n        ],\n        \"semantic_type\": \"\",\n        \"description\": \"\"\n      }\n    },\n    {\n      \"column\": \"tokens_negation\",\n      \"properties\": {\n        \"dtype\": \"string\",\n        \"num_unique_values\": 12960,\n        \"samples\": [\n          \"['tolong', 'dong', 'diperbaikin', 'instagram', 'akhir', 'ini', 'ga', 'ada', 'bagus', 'di', 'baharu', 'jg', 'kaya', 'ga', 'guna', 'sama', 'sekali', 'tolong', 'di', 'baik', 'yaa']\",\n          \"['makin', 'maju']\",\n          \"['banyak', 'info', 'ide', 'komen', 'yang', 'bijak', 'ikut', 'yang', 'layak', 'terus', 'lah', 'karya']\"\n        ],\n        \"semantic_type\": \"\",\n        \"description\": \"\"\n      }\n    },\n    {\n      \"column\": \"tokens_slang\",\n      \"properties\": {\n        \"dtype\": \"string\",\n        \"num_unique_values\": 12716,\n        \"samples\": [\n          \"['publikasi', 'cukup', 'baik', 'dan', 'cepat']\",\n          \"['bagus', 'banget', 'filter', 'nya', 'banyak', 'bisa', 'wa', 'sama', 'teman']\",\n          \"['baru', 'di', 'upgred', 'tapigk', 'jelas', 'situ', 'tulis', 'tambah', 'musik', 'di', 'profiltapi', 'tetap', 'hilang', 'gk', 'bisa', 'di', 'tambahknterus', 'avatarnya', 'juga', 'gk', 'bisa', 'lihat', 'pas', 'saya', 'coba', 'pakai', 'akun', 'lainsatu', 'lagi', 'instagram', 'kada', 'emoji', 'nya', 'keluar', 'bendera', 'lgbtq']\"\n        ],\n        \"semantic_type\": \"\",\n        \"description\": \"\"\n      }\n    },\n    {\n      \"column\": \"stopword_removal\",\n      \"properties\": {\n        \"dtype\": \"string\",\n        \"num_unique_values\": 11433,\n        \"samples\": [\n          \"['plss', 'ig', 'kasih', 'hilang', 'pesan', 'angsur', 'hilang', 'uh', 'uh', 'uh']\",\n          \"['jaringan', 'bagus', 'ig', 'buruk', 'upload', 'story', 'tunggu', 'koneksi', 'gitu', 'terosss', 'orang', 'tolol', 'dasar']\",\n          \"['cocok', 'informasi']\"\n        ],\n        \"semantic_type\": \"\",\n        \"description\": \"\"\n      }\n    },\n    {\n      \"column\": \"sentiment_label\",\n      \"properties\": {\n        \"dtype\": \"category\",\n        \"num_unique_values\": 3,\n        \"samples\": [\n          \"positif\",\n          \"negatif\",\n          \"netral\"\n        ],\n        \"semantic_type\": \"\",\n        \"description\": \"\"\n      }\n    },\n    {\n      \"column\": \"sentiment_score\",\n      \"properties\": {\n        \"dtype\": \"number\",\n        \"std\": 1,\n        \"min\": -9,\n        \"max\": 21,\n        \"num_unique_values\": 25,\n        \"samples\": [\n          5,\n          -5,\n          1\n        ],\n        \"semantic_type\": \"\",\n        \"description\": \"\"\n      }\n    }\n  ]\n}"
            }
          },
          "metadata": {},
          "execution_count": 77
        }
      ]
    },
    {
      "cell_type": "code",
      "source": [
        "# Ekstrak Data untuk Klasifikasi\n",
        "texts = ulasan_bow['stopword_removal'].tolist()\n",
        "labels = ulasan_bow['sentiment_label'].tolist()"
      ],
      "metadata": {
        "id": "sYvg4uXVxVLs"
      },
      "execution_count": 78,
      "outputs": []
    },
    {
      "cell_type": "code",
      "source": [
        "class BOWVectorizer:\n",
        "    def __init__(self, max_features=5000):\n",
        "        self.vectorizer = CountVectorizer(\n",
        "            max_features=max_features\n",
        "        )\n",
        "\n",
        "    def fit_transform(self, texts):\n",
        "        # Transformasi BoW\n",
        "        bow_matrix = self.vectorizer.fit_transform(texts)\n",
        "\n",
        "        return bow_matrix.toarray(), self.vectorizer.get_feature_names_out()\n",
        "\n",
        "    def transform(self, texts):\n",
        "        # Transformasi BoW\n",
        "        bow_matrix = self.vectorizer.transform(texts)\n",
        "\n",
        "        return bow_matrix.toarray()\n"
      ],
      "metadata": {
        "id": "o3l1GHjcxXeL"
      },
      "execution_count": 79,
      "outputs": []
    },
    {
      "cell_type": "markdown",
      "source": [
        "## **N-Gram Module**"
      ],
      "metadata": {
        "id": "f4GaNBUCxY0T"
      }
    },
    {
      "cell_type": "code",
      "source": [
        "class NGramVectorizer:\n",
        "    def __init__(self, ngram_range=(1,2), max_features=5000):\n",
        "        self.vectorizer = TfidfVectorizer(\n",
        "            ngram_range=ngram_range,\n",
        "            max_features=max_features\n",
        "        )\n",
        "\n",
        "    def fit_transform(self, texts):\n",
        "        # Transformasi N-Gram\n",
        "        ngram_matrix = self.vectorizer.fit_transform(texts)\n",
        "\n",
        "        return ngram_matrix.toarray(), self.vectorizer.get_feature_names_out()\n",
        "\n",
        "    def transform(self, texts):\n",
        "        # Transformasi N-Gram\n",
        "        ngram_matrix = self.vectorizer.transform(texts)\n",
        "\n",
        "        return ngram_matrix.toarray()"
      ],
      "metadata": {
        "id": "x-mU3i1WxaSM"
      },
      "execution_count": 80,
      "outputs": []
    },
    {
      "cell_type": "markdown",
      "source": [
        "## **SVM x BoW (80/20)**"
      ],
      "metadata": {
        "id": "aS1qc-tixb4M"
      }
    },
    {
      "cell_type": "markdown",
      "source": [
        "Praprocessing Teks untuk Model SVM Menggunakan BoW (80/20)"
      ],
      "metadata": {
        "id": "0mccHgTVxeVL"
      }
    },
    {
      "cell_type": "code",
      "source": [
        "texts_train_bow, texts_test_bow, label_train_bow, label_test_bow = train_test_split(\n",
        "    texts, labels,\n",
        "    test_size=0.2,\n",
        "    random_state=42,\n",
        "    stratify=labels\n",
        ")"
      ],
      "metadata": {
        "id": "gZcJp4Cqxeoc"
      },
      "execution_count": 81,
      "outputs": []
    },
    {
      "cell_type": "code",
      "source": [
        "# Inisialisasi BoW Vectorizer\n",
        "bow_vectorizer = BOWVectorizer(max_features=10000)"
      ],
      "metadata": {
        "id": "yyaOx7Tvxgpb"
      },
      "execution_count": 82,
      "outputs": []
    },
    {
      "cell_type": "code",
      "source": [
        "# Transformasi data training menggunakan BoW\n",
        "texts_bow_train, bow_features = bow_vectorizer.fit_transform(texts_train_bow)\n",
        "\n",
        "# Transformasi data testing menggunakan BoW\n",
        "texts_bow_test = bow_vectorizer.transform(texts_test_bow)"
      ],
      "metadata": {
        "id": "WDl3kL0GxiIs"
      },
      "execution_count": 83,
      "outputs": []
    },
    {
      "cell_type": "markdown",
      "source": [
        "Pelatihan dan Prediksi Model SVM"
      ],
      "metadata": {
        "id": "TIL1HOFyxj77"
      }
    },
    {
      "cell_type": "code",
      "source": [
        "# Inisialisasi Linear SVM\n",
        "linear_svm_bow = SVC(kernel='linear', class_weight='balanced')"
      ],
      "metadata": {
        "id": "SFqBE-98xlcU"
      },
      "execution_count": 84,
      "outputs": []
    },
    {
      "cell_type": "code",
      "source": [
        "# Latih model\n",
        "linear_svm_bow.fit(texts_bow_train, label_train_bow)"
      ],
      "metadata": {
        "id": "gkeqBdWxxoBU",
        "colab": {
          "base_uri": "https://localhost:8080/",
          "height": 80
        },
        "outputId": "4dc331c7-2c3d-4586-ed1f-8d8af4c0a1c2"
      },
      "execution_count": 85,
      "outputs": [
        {
          "output_type": "execute_result",
          "data": {
            "text/plain": [
              "SVC(class_weight='balanced', kernel='linear')"
            ],
            "text/html": [
              "<style>#sk-container-id-2 {\n",
              "  /* Definition of color scheme common for light and dark mode */\n",
              "  --sklearn-color-text: #000;\n",
              "  --sklearn-color-text-muted: #666;\n",
              "  --sklearn-color-line: gray;\n",
              "  /* Definition of color scheme for unfitted estimators */\n",
              "  --sklearn-color-unfitted-level-0: #fff5e6;\n",
              "  --sklearn-color-unfitted-level-1: #f6e4d2;\n",
              "  --sklearn-color-unfitted-level-2: #ffe0b3;\n",
              "  --sklearn-color-unfitted-level-3: chocolate;\n",
              "  /* Definition of color scheme for fitted estimators */\n",
              "  --sklearn-color-fitted-level-0: #f0f8ff;\n",
              "  --sklearn-color-fitted-level-1: #d4ebff;\n",
              "  --sklearn-color-fitted-level-2: #b3dbfd;\n",
              "  --sklearn-color-fitted-level-3: cornflowerblue;\n",
              "\n",
              "  /* Specific color for light theme */\n",
              "  --sklearn-color-text-on-default-background: var(--sg-text-color, var(--theme-code-foreground, var(--jp-content-font-color1, black)));\n",
              "  --sklearn-color-background: var(--sg-background-color, var(--theme-background, var(--jp-layout-color0, white)));\n",
              "  --sklearn-color-border-box: var(--sg-text-color, var(--theme-code-foreground, var(--jp-content-font-color1, black)));\n",
              "  --sklearn-color-icon: #696969;\n",
              "\n",
              "  @media (prefers-color-scheme: dark) {\n",
              "    /* Redefinition of color scheme for dark theme */\n",
              "    --sklearn-color-text-on-default-background: var(--sg-text-color, var(--theme-code-foreground, var(--jp-content-font-color1, white)));\n",
              "    --sklearn-color-background: var(--sg-background-color, var(--theme-background, var(--jp-layout-color0, #111)));\n",
              "    --sklearn-color-border-box: var(--sg-text-color, var(--theme-code-foreground, var(--jp-content-font-color1, white)));\n",
              "    --sklearn-color-icon: #878787;\n",
              "  }\n",
              "}\n",
              "\n",
              "#sk-container-id-2 {\n",
              "  color: var(--sklearn-color-text);\n",
              "}\n",
              "\n",
              "#sk-container-id-2 pre {\n",
              "  padding: 0;\n",
              "}\n",
              "\n",
              "#sk-container-id-2 input.sk-hidden--visually {\n",
              "  border: 0;\n",
              "  clip: rect(1px 1px 1px 1px);\n",
              "  clip: rect(1px, 1px, 1px, 1px);\n",
              "  height: 1px;\n",
              "  margin: -1px;\n",
              "  overflow: hidden;\n",
              "  padding: 0;\n",
              "  position: absolute;\n",
              "  width: 1px;\n",
              "}\n",
              "\n",
              "#sk-container-id-2 div.sk-dashed-wrapped {\n",
              "  border: 1px dashed var(--sklearn-color-line);\n",
              "  margin: 0 0.4em 0.5em 0.4em;\n",
              "  box-sizing: border-box;\n",
              "  padding-bottom: 0.4em;\n",
              "  background-color: var(--sklearn-color-background);\n",
              "}\n",
              "\n",
              "#sk-container-id-2 div.sk-container {\n",
              "  /* jupyter's `normalize.less` sets `[hidden] { display: none; }`\n",
              "     but bootstrap.min.css set `[hidden] { display: none !important; }`\n",
              "     so we also need the `!important` here to be able to override the\n",
              "     default hidden behavior on the sphinx rendered scikit-learn.org.\n",
              "     See: https://github.com/scikit-learn/scikit-learn/issues/21755 */\n",
              "  display: inline-block !important;\n",
              "  position: relative;\n",
              "}\n",
              "\n",
              "#sk-container-id-2 div.sk-text-repr-fallback {\n",
              "  display: none;\n",
              "}\n",
              "\n",
              "div.sk-parallel-item,\n",
              "div.sk-serial,\n",
              "div.sk-item {\n",
              "  /* draw centered vertical line to link estimators */\n",
              "  background-image: linear-gradient(var(--sklearn-color-text-on-default-background), var(--sklearn-color-text-on-default-background));\n",
              "  background-size: 2px 100%;\n",
              "  background-repeat: no-repeat;\n",
              "  background-position: center center;\n",
              "}\n",
              "\n",
              "/* Parallel-specific style estimator block */\n",
              "\n",
              "#sk-container-id-2 div.sk-parallel-item::after {\n",
              "  content: \"\";\n",
              "  width: 100%;\n",
              "  border-bottom: 2px solid var(--sklearn-color-text-on-default-background);\n",
              "  flex-grow: 1;\n",
              "}\n",
              "\n",
              "#sk-container-id-2 div.sk-parallel {\n",
              "  display: flex;\n",
              "  align-items: stretch;\n",
              "  justify-content: center;\n",
              "  background-color: var(--sklearn-color-background);\n",
              "  position: relative;\n",
              "}\n",
              "\n",
              "#sk-container-id-2 div.sk-parallel-item {\n",
              "  display: flex;\n",
              "  flex-direction: column;\n",
              "}\n",
              "\n",
              "#sk-container-id-2 div.sk-parallel-item:first-child::after {\n",
              "  align-self: flex-end;\n",
              "  width: 50%;\n",
              "}\n",
              "\n",
              "#sk-container-id-2 div.sk-parallel-item:last-child::after {\n",
              "  align-self: flex-start;\n",
              "  width: 50%;\n",
              "}\n",
              "\n",
              "#sk-container-id-2 div.sk-parallel-item:only-child::after {\n",
              "  width: 0;\n",
              "}\n",
              "\n",
              "/* Serial-specific style estimator block */\n",
              "\n",
              "#sk-container-id-2 div.sk-serial {\n",
              "  display: flex;\n",
              "  flex-direction: column;\n",
              "  align-items: center;\n",
              "  background-color: var(--sklearn-color-background);\n",
              "  padding-right: 1em;\n",
              "  padding-left: 1em;\n",
              "}\n",
              "\n",
              "\n",
              "/* Toggleable style: style used for estimator/Pipeline/ColumnTransformer box that is\n",
              "clickable and can be expanded/collapsed.\n",
              "- Pipeline and ColumnTransformer use this feature and define the default style\n",
              "- Estimators will overwrite some part of the style using the `sk-estimator` class\n",
              "*/\n",
              "\n",
              "/* Pipeline and ColumnTransformer style (default) */\n",
              "\n",
              "#sk-container-id-2 div.sk-toggleable {\n",
              "  /* Default theme specific background. It is overwritten whether we have a\n",
              "  specific estimator or a Pipeline/ColumnTransformer */\n",
              "  background-color: var(--sklearn-color-background);\n",
              "}\n",
              "\n",
              "/* Toggleable label */\n",
              "#sk-container-id-2 label.sk-toggleable__label {\n",
              "  cursor: pointer;\n",
              "  display: flex;\n",
              "  width: 100%;\n",
              "  margin-bottom: 0;\n",
              "  padding: 0.5em;\n",
              "  box-sizing: border-box;\n",
              "  text-align: center;\n",
              "  align-items: start;\n",
              "  justify-content: space-between;\n",
              "  gap: 0.5em;\n",
              "}\n",
              "\n",
              "#sk-container-id-2 label.sk-toggleable__label .caption {\n",
              "  font-size: 0.6rem;\n",
              "  font-weight: lighter;\n",
              "  color: var(--sklearn-color-text-muted);\n",
              "}\n",
              "\n",
              "#sk-container-id-2 label.sk-toggleable__label-arrow:before {\n",
              "  /* Arrow on the left of the label */\n",
              "  content: \"▸\";\n",
              "  float: left;\n",
              "  margin-right: 0.25em;\n",
              "  color: var(--sklearn-color-icon);\n",
              "}\n",
              "\n",
              "#sk-container-id-2 label.sk-toggleable__label-arrow:hover:before {\n",
              "  color: var(--sklearn-color-text);\n",
              "}\n",
              "\n",
              "/* Toggleable content - dropdown */\n",
              "\n",
              "#sk-container-id-2 div.sk-toggleable__content {\n",
              "  max-height: 0;\n",
              "  max-width: 0;\n",
              "  overflow: hidden;\n",
              "  text-align: left;\n",
              "  /* unfitted */\n",
              "  background-color: var(--sklearn-color-unfitted-level-0);\n",
              "}\n",
              "\n",
              "#sk-container-id-2 div.sk-toggleable__content.fitted {\n",
              "  /* fitted */\n",
              "  background-color: var(--sklearn-color-fitted-level-0);\n",
              "}\n",
              "\n",
              "#sk-container-id-2 div.sk-toggleable__content pre {\n",
              "  margin: 0.2em;\n",
              "  border-radius: 0.25em;\n",
              "  color: var(--sklearn-color-text);\n",
              "  /* unfitted */\n",
              "  background-color: var(--sklearn-color-unfitted-level-0);\n",
              "}\n",
              "\n",
              "#sk-container-id-2 div.sk-toggleable__content.fitted pre {\n",
              "  /* unfitted */\n",
              "  background-color: var(--sklearn-color-fitted-level-0);\n",
              "}\n",
              "\n",
              "#sk-container-id-2 input.sk-toggleable__control:checked~div.sk-toggleable__content {\n",
              "  /* Expand drop-down */\n",
              "  max-height: 200px;\n",
              "  max-width: 100%;\n",
              "  overflow: auto;\n",
              "}\n",
              "\n",
              "#sk-container-id-2 input.sk-toggleable__control:checked~label.sk-toggleable__label-arrow:before {\n",
              "  content: \"▾\";\n",
              "}\n",
              "\n",
              "/* Pipeline/ColumnTransformer-specific style */\n",
              "\n",
              "#sk-container-id-2 div.sk-label input.sk-toggleable__control:checked~label.sk-toggleable__label {\n",
              "  color: var(--sklearn-color-text);\n",
              "  background-color: var(--sklearn-color-unfitted-level-2);\n",
              "}\n",
              "\n",
              "#sk-container-id-2 div.sk-label.fitted input.sk-toggleable__control:checked~label.sk-toggleable__label {\n",
              "  background-color: var(--sklearn-color-fitted-level-2);\n",
              "}\n",
              "\n",
              "/* Estimator-specific style */\n",
              "\n",
              "/* Colorize estimator box */\n",
              "#sk-container-id-2 div.sk-estimator input.sk-toggleable__control:checked~label.sk-toggleable__label {\n",
              "  /* unfitted */\n",
              "  background-color: var(--sklearn-color-unfitted-level-2);\n",
              "}\n",
              "\n",
              "#sk-container-id-2 div.sk-estimator.fitted input.sk-toggleable__control:checked~label.sk-toggleable__label {\n",
              "  /* fitted */\n",
              "  background-color: var(--sklearn-color-fitted-level-2);\n",
              "}\n",
              "\n",
              "#sk-container-id-2 div.sk-label label.sk-toggleable__label,\n",
              "#sk-container-id-2 div.sk-label label {\n",
              "  /* The background is the default theme color */\n",
              "  color: var(--sklearn-color-text-on-default-background);\n",
              "}\n",
              "\n",
              "/* On hover, darken the color of the background */\n",
              "#sk-container-id-2 div.sk-label:hover label.sk-toggleable__label {\n",
              "  color: var(--sklearn-color-text);\n",
              "  background-color: var(--sklearn-color-unfitted-level-2);\n",
              "}\n",
              "\n",
              "/* Label box, darken color on hover, fitted */\n",
              "#sk-container-id-2 div.sk-label.fitted:hover label.sk-toggleable__label.fitted {\n",
              "  color: var(--sklearn-color-text);\n",
              "  background-color: var(--sklearn-color-fitted-level-2);\n",
              "}\n",
              "\n",
              "/* Estimator label */\n",
              "\n",
              "#sk-container-id-2 div.sk-label label {\n",
              "  font-family: monospace;\n",
              "  font-weight: bold;\n",
              "  display: inline-block;\n",
              "  line-height: 1.2em;\n",
              "}\n",
              "\n",
              "#sk-container-id-2 div.sk-label-container {\n",
              "  text-align: center;\n",
              "}\n",
              "\n",
              "/* Estimator-specific */\n",
              "#sk-container-id-2 div.sk-estimator {\n",
              "  font-family: monospace;\n",
              "  border: 1px dotted var(--sklearn-color-border-box);\n",
              "  border-radius: 0.25em;\n",
              "  box-sizing: border-box;\n",
              "  margin-bottom: 0.5em;\n",
              "  /* unfitted */\n",
              "  background-color: var(--sklearn-color-unfitted-level-0);\n",
              "}\n",
              "\n",
              "#sk-container-id-2 div.sk-estimator.fitted {\n",
              "  /* fitted */\n",
              "  background-color: var(--sklearn-color-fitted-level-0);\n",
              "}\n",
              "\n",
              "/* on hover */\n",
              "#sk-container-id-2 div.sk-estimator:hover {\n",
              "  /* unfitted */\n",
              "  background-color: var(--sklearn-color-unfitted-level-2);\n",
              "}\n",
              "\n",
              "#sk-container-id-2 div.sk-estimator.fitted:hover {\n",
              "  /* fitted */\n",
              "  background-color: var(--sklearn-color-fitted-level-2);\n",
              "}\n",
              "\n",
              "/* Specification for estimator info (e.g. \"i\" and \"?\") */\n",
              "\n",
              "/* Common style for \"i\" and \"?\" */\n",
              "\n",
              ".sk-estimator-doc-link,\n",
              "a:link.sk-estimator-doc-link,\n",
              "a:visited.sk-estimator-doc-link {\n",
              "  float: right;\n",
              "  font-size: smaller;\n",
              "  line-height: 1em;\n",
              "  font-family: monospace;\n",
              "  background-color: var(--sklearn-color-background);\n",
              "  border-radius: 1em;\n",
              "  height: 1em;\n",
              "  width: 1em;\n",
              "  text-decoration: none !important;\n",
              "  margin-left: 0.5em;\n",
              "  text-align: center;\n",
              "  /* unfitted */\n",
              "  border: var(--sklearn-color-unfitted-level-1) 1pt solid;\n",
              "  color: var(--sklearn-color-unfitted-level-1);\n",
              "}\n",
              "\n",
              ".sk-estimator-doc-link.fitted,\n",
              "a:link.sk-estimator-doc-link.fitted,\n",
              "a:visited.sk-estimator-doc-link.fitted {\n",
              "  /* fitted */\n",
              "  border: var(--sklearn-color-fitted-level-1) 1pt solid;\n",
              "  color: var(--sklearn-color-fitted-level-1);\n",
              "}\n",
              "\n",
              "/* On hover */\n",
              "div.sk-estimator:hover .sk-estimator-doc-link:hover,\n",
              ".sk-estimator-doc-link:hover,\n",
              "div.sk-label-container:hover .sk-estimator-doc-link:hover,\n",
              ".sk-estimator-doc-link:hover {\n",
              "  /* unfitted */\n",
              "  background-color: var(--sklearn-color-unfitted-level-3);\n",
              "  color: var(--sklearn-color-background);\n",
              "  text-decoration: none;\n",
              "}\n",
              "\n",
              "div.sk-estimator.fitted:hover .sk-estimator-doc-link.fitted:hover,\n",
              ".sk-estimator-doc-link.fitted:hover,\n",
              "div.sk-label-container:hover .sk-estimator-doc-link.fitted:hover,\n",
              ".sk-estimator-doc-link.fitted:hover {\n",
              "  /* fitted */\n",
              "  background-color: var(--sklearn-color-fitted-level-3);\n",
              "  color: var(--sklearn-color-background);\n",
              "  text-decoration: none;\n",
              "}\n",
              "\n",
              "/* Span, style for the box shown on hovering the info icon */\n",
              ".sk-estimator-doc-link span {\n",
              "  display: none;\n",
              "  z-index: 9999;\n",
              "  position: relative;\n",
              "  font-weight: normal;\n",
              "  right: .2ex;\n",
              "  padding: .5ex;\n",
              "  margin: .5ex;\n",
              "  width: min-content;\n",
              "  min-width: 20ex;\n",
              "  max-width: 50ex;\n",
              "  color: var(--sklearn-color-text);\n",
              "  box-shadow: 2pt 2pt 4pt #999;\n",
              "  /* unfitted */\n",
              "  background: var(--sklearn-color-unfitted-level-0);\n",
              "  border: .5pt solid var(--sklearn-color-unfitted-level-3);\n",
              "}\n",
              "\n",
              ".sk-estimator-doc-link.fitted span {\n",
              "  /* fitted */\n",
              "  background: var(--sklearn-color-fitted-level-0);\n",
              "  border: var(--sklearn-color-fitted-level-3);\n",
              "}\n",
              "\n",
              ".sk-estimator-doc-link:hover span {\n",
              "  display: block;\n",
              "}\n",
              "\n",
              "/* \"?\"-specific style due to the `<a>` HTML tag */\n",
              "\n",
              "#sk-container-id-2 a.estimator_doc_link {\n",
              "  float: right;\n",
              "  font-size: 1rem;\n",
              "  line-height: 1em;\n",
              "  font-family: monospace;\n",
              "  background-color: var(--sklearn-color-background);\n",
              "  border-radius: 1rem;\n",
              "  height: 1rem;\n",
              "  width: 1rem;\n",
              "  text-decoration: none;\n",
              "  /* unfitted */\n",
              "  color: var(--sklearn-color-unfitted-level-1);\n",
              "  border: var(--sklearn-color-unfitted-level-1) 1pt solid;\n",
              "}\n",
              "\n",
              "#sk-container-id-2 a.estimator_doc_link.fitted {\n",
              "  /* fitted */\n",
              "  border: var(--sklearn-color-fitted-level-1) 1pt solid;\n",
              "  color: var(--sklearn-color-fitted-level-1);\n",
              "}\n",
              "\n",
              "/* On hover */\n",
              "#sk-container-id-2 a.estimator_doc_link:hover {\n",
              "  /* unfitted */\n",
              "  background-color: var(--sklearn-color-unfitted-level-3);\n",
              "  color: var(--sklearn-color-background);\n",
              "  text-decoration: none;\n",
              "}\n",
              "\n",
              "#sk-container-id-2 a.estimator_doc_link.fitted:hover {\n",
              "  /* fitted */\n",
              "  background-color: var(--sklearn-color-fitted-level-3);\n",
              "}\n",
              "</style><div id=\"sk-container-id-2\" class=\"sk-top-container\"><div class=\"sk-text-repr-fallback\"><pre>SVC(class_weight=&#x27;balanced&#x27;, kernel=&#x27;linear&#x27;)</pre><b>In a Jupyter environment, please rerun this cell to show the HTML representation or trust the notebook. <br />On GitHub, the HTML representation is unable to render, please try loading this page with nbviewer.org.</b></div><div class=\"sk-container\" hidden><div class=\"sk-item\"><div class=\"sk-estimator fitted sk-toggleable\"><input class=\"sk-toggleable__control sk-hidden--visually\" id=\"sk-estimator-id-2\" type=\"checkbox\" checked><label for=\"sk-estimator-id-2\" class=\"sk-toggleable__label fitted sk-toggleable__label-arrow\"><div><div>SVC</div></div><div><a class=\"sk-estimator-doc-link fitted\" rel=\"noreferrer\" target=\"_blank\" href=\"https://scikit-learn.org/1.6/modules/generated/sklearn.svm.SVC.html\">?<span>Documentation for SVC</span></a><span class=\"sk-estimator-doc-link fitted\">i<span>Fitted</span></span></div></label><div class=\"sk-toggleable__content fitted\"><pre>SVC(class_weight=&#x27;balanced&#x27;, kernel=&#x27;linear&#x27;)</pre></div> </div></div></div></div>"
            ]
          },
          "metadata": {},
          "execution_count": 85
        }
      ]
    },
    {
      "cell_type": "markdown",
      "source": [
        "Evaluasi Model SVM dengan BoW"
      ],
      "metadata": {
        "id": "HNLKoig4xprc"
      }
    },
    {
      "cell_type": "code",
      "source": [
        "# Prediksi\n",
        "prediksi_latih_bow = linear_svm_bow.predict(texts_bow_train)\n",
        "prediksi_uji_bow = linear_svm_bow.predict(texts_bow_test)\n",
        "\n",
        "# Confusion Matrix\n",
        "cm_latih_bow = confusion_matrix(label_train_bow, prediksi_latih_bow)\n",
        "cm_uji_bow = confusion_matrix(label_test_bow, prediksi_uji_bow)"
      ],
      "metadata": {
        "id": "RCUJYaSdxrK7"
      },
      "execution_count": 86,
      "outputs": []
    },
    {
      "cell_type": "code",
      "source": [
        "# Cetak Laporan Klasifikasi\n",
        "print(\"=== Evaluasi Model SVM Linear dengan BoW ===\")\n",
        "\n",
        "print(\"\\nClassification Report (Data Latih):\")\n",
        "print(classification_report(label_train_bow, prediksi_latih_bow))\n",
        "\n",
        "print(\"\\nClassification Report (Data Uji):\")\n",
        "print(classification_report(label_test_bow, prediksi_uji_bow))\n",
        "\n",
        "# Confusion Matrix Data Latih\n",
        "plt.figure(figsize=(16, 6))\n",
        "plt.subplot(1, 2, 1)\n",
        "sns.heatmap(cm_latih_bow, annot=True, fmt=\"d\", cmap=\"Blues\",\n",
        "            square=True, cbar=False)\n",
        "plt.title(\"Confusion Matrix BoW SVM\\n(Data Latih)\")\n",
        "plt.xlabel(\"Label Prediksi\")\n",
        "plt.ylabel(\"Label Sebenarnya\")\n",
        "\n",
        "# Confusion Matrix Data Uji\n",
        "plt.subplot(1, 2, 2)\n",
        "sns.heatmap(cm_uji_bow, annot=True, fmt=\"d\", cmap=\"Blues\",\n",
        "            square=True, cbar=False)\n",
        "plt.title(\"Confusion Matrix BoW SVM\\n(Data Uji)\")\n",
        "plt.xlabel(\"Label Prediksi\")\n",
        "plt.ylabel(\"Label Sebenarnya\")\n",
        "\n",
        "plt.tight_layout()\n",
        "plt.show()"
      ],
      "metadata": {
        "id": "sIiIyoC0xtWr",
        "colab": {
          "base_uri": "https://localhost:8080/",
          "height": 1000
        },
        "outputId": "084ebdd4-09a7-477d-b263-8971c8ec774b"
      },
      "execution_count": 87,
      "outputs": [
        {
          "output_type": "stream",
          "name": "stdout",
          "text": [
            "=== Evaluasi Model SVM Linear dengan BoW ===\n",
            "\n",
            "Classification Report (Data Latih):\n",
            "              precision    recall  f1-score   support\n",
            "\n",
            "     negatif       0.99      1.00      0.99      1349\n",
            "      netral       0.98      1.00      0.99      4865\n",
            "     positif       1.00      0.99      1.00      9783\n",
            "\n",
            "    accuracy                           0.99     15997\n",
            "   macro avg       0.99      1.00      0.99     15997\n",
            "weighted avg       0.99      0.99      0.99     15997\n",
            "\n",
            "\n",
            "Classification Report (Data Uji):\n",
            "              precision    recall  f1-score   support\n",
            "\n",
            "     negatif       0.87      0.88      0.87       338\n",
            "      netral       0.92      0.95      0.93      1216\n",
            "     positif       0.99      0.97      0.98      2446\n",
            "\n",
            "    accuracy                           0.95      4000\n",
            "   macro avg       0.92      0.93      0.93      4000\n",
            "weighted avg       0.96      0.95      0.96      4000\n",
            "\n"
          ]
        },
        {
          "output_type": "display_data",
          "data": {
            "text/plain": [
              "<Figure size 1600x600 with 2 Axes>"
            ],
            "image/png": "[encoded data removed]"
          },
          "metadata": {}
        }
      ]
    },
    {
      "cell_type": "markdown",
      "source": [
        "## **SVM x N-Gram (80/20)**"
      ],
      "metadata": {
        "id": "zZtW8MoMxvi8"
      }
    },
    {
      "cell_type": "markdown",
      "source": [
        "Praprocessing Teks untuk Model SVM Menggunakan N-Gram (80/20)"
      ],
      "metadata": {
        "id": "qmivOUQFxxPM"
      }
    },
    {
      "cell_type": "code",
      "source": [
        "# Split data training dan testing (80/20)\n",
        "texts_train_ngram, texts_test_ngram, label_train_ngram, label_test_ngram = train_test_split(\n",
        "    texts, labels,\n",
        "    test_size=0.2,\n",
        "    random_state=42,\n",
        "    stratify=labels\n",
        ")"
      ],
      "metadata": {
        "id": "k_aLhOQsxy2N"
      },
      "execution_count": 88,
      "outputs": []
    },
    {
      "cell_type": "code",
      "source": [
        "# Inisialisasi N-Gram Vectorizer (Unigram + Bigram)\n",
        "ngram_vectorizer = NGramVectorizer(\n",
        "    ngram_range=(1,2),\n",
        "    max_features=2000\n",
        ")"
      ],
      "metadata": {
        "id": "H9d8UvJBx0dL"
      },
      "execution_count": 89,
      "outputs": []
    },
    {
      "cell_type": "code",
      "source": [
        "# Transformasi data training menggunakan N-Gram\n",
        "texts_ngram_train, ngram_features = ngram_vectorizer.fit_transform(texts_train_ngram)\n",
        "\n",
        "# Transformasi data testing menggunakan N-Gram\n",
        "texts_ngram_test = ngram_vectorizer.transform(texts_test_ngram)"
      ],
      "metadata": {
        "id": "kN4U2Umqx15O"
      },
      "execution_count": 90,
      "outputs": []
    },
    {
      "cell_type": "markdown",
      "source": [
        "Pelatihan dan Prediksi Model SVM"
      ],
      "metadata": {
        "id": "RBHqU7WFx2Ot"
      }
    },
    {
      "cell_type": "code",
      "source": [
        "# Pelatihan Model SVM Linear untuk N-Gram\n",
        "linear_svm_ngram = SVC(kernel='linear', class_weight='balanced')\n",
        "linear_svm_ngram.fit(texts_ngram_train, label_train_ngram)"
      ],
      "metadata": {
        "id": "qndKALOXx32D",
        "colab": {
          "base_uri": "https://localhost:8080/",
          "height": 80
        },
        "outputId": "cafa12fd-4bc9-400a-812c-c69be4783491"
      },
      "execution_count": 91,
      "outputs": [
        {
          "output_type": "execute_result",
          "data": {
            "text/plain": [
              "SVC(class_weight='balanced', kernel='linear')"
            ],
            "text/html": [
              "<style>#sk-container-id-3 {\n",
              "  /* Definition of color scheme common for light and dark mode */\n",
              "  --sklearn-color-text: #000;\n",
              "  --sklearn-color-text-muted: #666;\n",
              "  --sklearn-color-line: gray;\n",
              "  /* Definition of color scheme for unfitted estimators */\n",
              "  --sklearn-color-unfitted-level-0: #fff5e6;\n",
              "  --sklearn-color-unfitted-level-1: #f6e4d2;\n",
              "  --sklearn-color-unfitted-level-2: #ffe0b3;\n",
              "  --sklearn-color-unfitted-level-3: chocolate;\n",
              "  /* Definition of color scheme for fitted estimators */\n",
              "  --sklearn-color-fitted-level-0: #f0f8ff;\n",
              "  --sklearn-color-fitted-level-1: #d4ebff;\n",
              "  --sklearn-color-fitted-level-2: #b3dbfd;\n",
              "  --sklearn-color-fitted-level-3: cornflowerblue;\n",
              "\n",
              "  /* Specific color for light theme */\n",
              "  --sklearn-color-text-on-default-background: var(--sg-text-color, var(--theme-code-foreground, var(--jp-content-font-color1, black)));\n",
              "  --sklearn-color-background: var(--sg-background-color, var(--theme-background, var(--jp-layout-color0, white)));\n",
              "  --sklearn-color-border-box: var(--sg-text-color, var(--theme-code-foreground, var(--jp-content-font-color1, black)));\n",
              "  --sklearn-color-icon: #696969;\n",
              "\n",
              "  @media (prefers-color-scheme: dark) {\n",
              "    /* Redefinition of color scheme for dark theme */\n",
              "    --sklearn-color-text-on-default-background: var(--sg-text-color, var(--theme-code-foreground, var(--jp-content-font-color1, white)));\n",
              "    --sklearn-color-background: var(--sg-background-color, var(--theme-background, var(--jp-layout-color0, #111)));\n",
              "    --sklearn-color-border-box: var(--sg-text-color, var(--theme-code-foreground, var(--jp-content-font-color1, white)));\n",
              "    --sklearn-color-icon: #878787;\n",
              "  }\n",
              "}\n",
              "\n",
              "#sk-container-id-3 {\n",
              "  color: var(--sklearn-color-text);\n",
              "}\n",
              "\n",
              "#sk-container-id-3 pre {\n",
              "  padding: 0;\n",
              "}\n",
              "\n",
              "#sk-container-id-3 input.sk-hidden--visually {\n",
              "  border: 0;\n",
              "  clip: rect(1px 1px 1px 1px);\n",
              "  clip: rect(1px, 1px, 1px, 1px);\n",
              "  height: 1px;\n",
              "  margin: -1px;\n",
              "  overflow: hidden;\n",
              "  padding: 0;\n",
              "  position: absolute;\n",
              "  width: 1px;\n",
              "}\n",
              "\n",
              "#sk-container-id-3 div.sk-dashed-wrapped {\n",
              "  border: 1px dashed var(--sklearn-color-line);\n",
              "  margin: 0 0.4em 0.5em 0.4em;\n",
              "  box-sizing: border-box;\n",
              "  padding-bottom: 0.4em;\n",
              "  background-color: var(--sklearn-color-background);\n",
              "}\n",
              "\n",
              "#sk-container-id-3 div.sk-container {\n",
              "  /* jupyter's `normalize.less` sets `[hidden] { display: none; }`\n",
              "     but bootstrap.min.css set `[hidden] { display: none !important; }`\n",
              "     so we also need the `!important` here to be able to override the\n",
              "     default hidden behavior on the sphinx rendered scikit-learn.org.\n",
              "     See: https://github.com/scikit-learn/scikit-learn/issues/21755 */\n",
              "  display: inline-block !important;\n",
              "  position: relative;\n",
              "}\n",
              "\n",
              "#sk-container-id-3 div.sk-text-repr-fallback {\n",
              "  display: none;\n",
              "}\n",
              "\n",
              "div.sk-parallel-item,\n",
              "div.sk-serial,\n",
              "div.sk-item {\n",
              "  /* draw centered vertical line to link estimators */\n",
              "  background-image: linear-gradient(var(--sklearn-color-text-on-default-background), var(--sklearn-color-text-on-default-background));\n",
              "  background-size: 2px 100%;\n",
              "  background-repeat: no-repeat;\n",
              "  background-position: center center;\n",
              "}\n",
              "\n",
              "/* Parallel-specific style estimator block */\n",
              "\n",
              "#sk-container-id-3 div.sk-parallel-item::after {\n",
              "  content: \"\";\n",
              "  width: 100%;\n",
              "  border-bottom: 2px solid var(--sklearn-color-text-on-default-background);\n",
              "  flex-grow: 1;\n",
              "}\n",
              "\n",
              "#sk-container-id-3 div.sk-parallel {\n",
              "  display: flex;\n",
              "  align-items: stretch;\n",
              "  justify-content: center;\n",
              "  background-color: var(--sklearn-color-background);\n",
              "  position: relative;\n",
              "}\n",
              "\n",
              "#sk-container-id-3 div.sk-parallel-item {\n",
              "  display: flex;\n",
              "  flex-direction: column;\n",
              "}\n",
              "\n",
              "#sk-container-id-3 div.sk-parallel-item:first-child::after {\n",
              "  align-self: flex-end;\n",
              "  width: 50%;\n",
              "}\n",
              "\n",
              "#sk-container-id-3 div.sk-parallel-item:last-child::after {\n",
              "  align-self: flex-start;\n",
              "  width: 50%;\n",
              "}\n",
              "\n",
              "#sk-container-id-3 div.sk-parallel-item:only-child::after {\n",
              "  width: 0;\n",
              "}\n",
              "\n",
              "/* Serial-specific style estimator block */\n",
              "\n",
              "#sk-container-id-3 div.sk-serial {\n",
              "  display: flex;\n",
              "  flex-direction: column;\n",
              "  align-items: center;\n",
              "  background-color: var(--sklearn-color-background);\n",
              "  padding-right: 1em;\n",
              "  padding-left: 1em;\n",
              "}\n",
              "\n",
              "\n",
              "/* Toggleable style: style used for estimator/Pipeline/ColumnTransformer box that is\n",
              "clickable and can be expanded/collapsed.\n",
              "- Pipeline and ColumnTransformer use this feature and define the default style\n",
              "- Estimators will overwrite some part of the style using the `sk-estimator` class\n",
              "*/\n",
              "\n",
              "/* Pipeline and ColumnTransformer style (default) */\n",
              "\n",
              "#sk-container-id-3 div.sk-toggleable {\n",
              "  /* Default theme specific background. It is overwritten whether we have a\n",
              "  specific estimator or a Pipeline/ColumnTransformer */\n",
              "  background-color: var(--sklearn-color-background);\n",
              "}\n",
              "\n",
              "/* Toggleable label */\n",
              "#sk-container-id-3 label.sk-toggleable__label {\n",
              "  cursor: pointer;\n",
              "  display: flex;\n",
              "  width: 100%;\n",
              "  margin-bottom: 0;\n",
              "  padding: 0.5em;\n",
              "  box-sizing: border-box;\n",
              "  text-align: center;\n",
              "  align-items: start;\n",
              "  justify-content: space-between;\n",
              "  gap: 0.5em;\n",
              "}\n",
              "\n",
              "#sk-container-id-3 label.sk-toggleable__label .caption {\n",
              "  font-size: 0.6rem;\n",
              "  font-weight: lighter;\n",
              "  color: var(--sklearn-color-text-muted);\n",
              "}\n",
              "\n",
              "#sk-container-id-3 label.sk-toggleable__label-arrow:before {\n",
              "  /* Arrow on the left of the label */\n",
              "  content: \"▸\";\n",
              "  float: left;\n",
              "  margin-right: 0.25em;\n",
              "  color: var(--sklearn-color-icon);\n",
              "}\n",
              "\n",
              "#sk-container-id-3 label.sk-toggleable__label-arrow:hover:before {\n",
              "  color: var(--sklearn-color-text);\n",
              "}\n",
              "\n",
              "/* Toggleable content - dropdown */\n",
              "\n",
              "#sk-container-id-3 div.sk-toggleable__content {\n",
              "  max-height: 0;\n",
              "  max-width: 0;\n",
              "  overflow: hidden;\n",
              "  text-align: left;\n",
              "  /* unfitted */\n",
              "  background-color: var(--sklearn-color-unfitted-level-0);\n",
              "}\n",
              "\n",
              "#sk-container-id-3 div.sk-toggleable__content.fitted {\n",
              "  /* fitted */\n",
              "  background-color: var(--sklearn-color-fitted-level-0);\n",
              "}\n",
              "\n",
              "#sk-container-id-3 div.sk-toggleable__content pre {\n",
              "  margin: 0.2em;\n",
              "  border-radius: 0.25em;\n",
              "  color: var(--sklearn-color-text);\n",
              "  /* unfitted */\n",
              "  background-color: var(--sklearn-color-unfitted-level-0);\n",
              "}\n",
              "\n",
              "#sk-container-id-3 div.sk-toggleable__content.fitted pre {\n",
              "  /* unfitted */\n",
              "  background-color: var(--sklearn-color-fitted-level-0);\n",
              "}\n",
              "\n",
              "#sk-container-id-3 input.sk-toggleable__control:checked~div.sk-toggleable__content {\n",
              "  /* Expand drop-down */\n",
              "  max-height: 200px;\n",
              "  max-width: 100%;\n",
              "  overflow: auto;\n",
              "}\n",
              "\n",
              "#sk-container-id-3 input.sk-toggleable__control:checked~label.sk-toggleable__label-arrow:before {\n",
              "  content: \"▾\";\n",
              "}\n",
              "\n",
              "/* Pipeline/ColumnTransformer-specific style */\n",
              "\n",
              "#sk-container-id-3 div.sk-label input.sk-toggleable__control:checked~label.sk-toggleable__label {\n",
              "  color: var(--sklearn-color-text);\n",
              "  background-color: var(--sklearn-color-unfitted-level-2);\n",
              "}\n",
              "\n",
              "#sk-container-id-3 div.sk-label.fitted input.sk-toggleable__control:checked~label.sk-toggleable__label {\n",
              "  background-color: var(--sklearn-color-fitted-level-2);\n",
              "}\n",
              "\n",
              "/* Estimator-specific style */\n",
              "\n",
              "/* Colorize estimator box */\n",
              "#sk-container-id-3 div.sk-estimator input.sk-toggleable__control:checked~label.sk-toggleable__label {\n",
              "  /* unfitted */\n",
              "  background-color: var(--sklearn-color-unfitted-level-2);\n",
              "}\n",
              "\n",
              "#sk-container-id-3 div.sk-estimator.fitted input.sk-toggleable__control:checked~label.sk-toggleable__label {\n",
              "  /* fitted */\n",
              "  background-color: var(--sklearn-color-fitted-level-2);\n",
              "}\n",
              "\n",
              "#sk-container-id-3 div.sk-label label.sk-toggleable__label,\n",
              "#sk-container-id-3 div.sk-label label {\n",
              "  /* The background is the default theme color */\n",
              "  color: var(--sklearn-color-text-on-default-background);\n",
              "}\n",
              "\n",
              "/* On hover, darken the color of the background */\n",
              "#sk-container-id-3 div.sk-label:hover label.sk-toggleable__label {\n",
              "  color: var(--sklearn-color-text);\n",
              "  background-color: var(--sklearn-color-unfitted-level-2);\n",
              "}\n",
              "\n",
              "/* Label box, darken color on hover, fitted */\n",
              "#sk-container-id-3 div.sk-label.fitted:hover label.sk-toggleable__label.fitted {\n",
              "  color: var(--sklearn-color-text);\n",
              "  background-color: var(--sklearn-color-fitted-level-2);\n",
              "}\n",
              "\n",
              "/* Estimator label */\n",
              "\n",
              "#sk-container-id-3 div.sk-label label {\n",
              "  font-family: monospace;\n",
              "  font-weight: bold;\n",
              "  display: inline-block;\n",
              "  line-height: 1.2em;\n",
              "}\n",
              "\n",
              "#sk-container-id-3 div.sk-label-container {\n",
              "  text-align: center;\n",
              "}\n",
              "\n",
              "/* Estimator-specific */\n",
              "#sk-container-id-3 div.sk-estimator {\n",
              "  font-family: monospace;\n",
              "  border: 1px dotted var(--sklearn-color-border-box);\n",
              "  border-radius: 0.25em;\n",
              "  box-sizing: border-box;\n",
              "  margin-bottom: 0.5em;\n",
              "  /* unfitted */\n",
              "  background-color: var(--sklearn-color-unfitted-level-0);\n",
              "}\n",
              "\n",
              "#sk-container-id-3 div.sk-estimator.fitted {\n",
              "  /* fitted */\n",
              "  background-color: var(--sklearn-color-fitted-level-0);\n",
              "}\n",
              "\n",
              "/* on hover */\n",
              "#sk-container-id-3 div.sk-estimator:hover {\n",
              "  /* unfitted */\n",
              "  background-color: var(--sklearn-color-unfitted-level-2);\n",
              "}\n",
              "\n",
              "#sk-container-id-3 div.sk-estimator.fitted:hover {\n",
              "  /* fitted */\n",
              "  background-color: var(--sklearn-color-fitted-level-2);\n",
              "}\n",
              "\n",
              "/* Specification for estimator info (e.g. \"i\" and \"?\") */\n",
              "\n",
              "/* Common style for \"i\" and \"?\" */\n",
              "\n",
              ".sk-estimator-doc-link,\n",
              "a:link.sk-estimator-doc-link,\n",
              "a:visited.sk-estimator-doc-link {\n",
              "  float: right;\n",
              "  font-size: smaller;\n",
              "  line-height: 1em;\n",
              "  font-family: monospace;\n",
              "  background-color: var(--sklearn-color-background);\n",
              "  border-radius: 1em;\n",
              "  height: 1em;\n",
              "  width: 1em;\n",
              "  text-decoration: none !important;\n",
              "  margin-left: 0.5em;\n",
              "  text-align: center;\n",
              "  /* unfitted */\n",
              "  border: var(--sklearn-color-unfitted-level-1) 1pt solid;\n",
              "  color: var(--sklearn-color-unfitted-level-1);\n",
              "}\n",
              "\n",
              ".sk-estimator-doc-link.fitted,\n",
              "a:link.sk-estimator-doc-link.fitted,\n",
              "a:visited.sk-estimator-doc-link.fitted {\n",
              "  /* fitted */\n",
              "  border: var(--sklearn-color-fitted-level-1) 1pt solid;\n",
              "  color: var(--sklearn-color-fitted-level-1);\n",
              "}\n",
              "\n",
              "/* On hover */\n",
              "div.sk-estimator:hover .sk-estimator-doc-link:hover,\n",
              ".sk-estimator-doc-link:hover,\n",
              "div.sk-label-container:hover .sk-estimator-doc-link:hover,\n",
              ".sk-estimator-doc-link:hover {\n",
              "  /* unfitted */\n",
              "  background-color: var(--sklearn-color-unfitted-level-3);\n",
              "  color: var(--sklearn-color-background);\n",
              "  text-decoration: none;\n",
              "}\n",
              "\n",
              "div.sk-estimator.fitted:hover .sk-estimator-doc-link.fitted:hover,\n",
              ".sk-estimator-doc-link.fitted:hover,\n",
              "div.sk-label-container:hover .sk-estimator-doc-link.fitted:hover,\n",
              ".sk-estimator-doc-link.fitted:hover {\n",
              "  /* fitted */\n",
              "  background-color: var(--sklearn-color-fitted-level-3);\n",
              "  color: var(--sklearn-color-background);\n",
              "  text-decoration: none;\n",
              "}\n",
              "\n",
              "/* Span, style for the box shown on hovering the info icon */\n",
              ".sk-estimator-doc-link span {\n",
              "  display: none;\n",
              "  z-index: 9999;\n",
              "  position: relative;\n",
              "  font-weight: normal;\n",
              "  right: .2ex;\n",
              "  padding: .5ex;\n",
              "  margin: .5ex;\n",
              "  width: min-content;\n",
              "  min-width: 20ex;\n",
              "  max-width: 50ex;\n",
              "  color: var(--sklearn-color-text);\n",
              "  box-shadow: 2pt 2pt 4pt #999;\n",
              "  /* unfitted */\n",
              "  background: var(--sklearn-color-unfitted-level-0);\n",
              "  border: .5pt solid var(--sklearn-color-unfitted-level-3);\n",
              "}\n",
              "\n",
              ".sk-estimator-doc-link.fitted span {\n",
              "  /* fitted */\n",
              "  background: var(--sklearn-color-fitted-level-0);\n",
              "  border: var(--sklearn-color-fitted-level-3);\n",
              "}\n",
              "\n",
              ".sk-estimator-doc-link:hover span {\n",
              "  display: block;\n",
              "}\n",
              "\n",
              "/* \"?\"-specific style due to the `<a>` HTML tag */\n",
              "\n",
              "#sk-container-id-3 a.estimator_doc_link {\n",
              "  float: right;\n",
              "  font-size: 1rem;\n",
              "  line-height: 1em;\n",
              "  font-family: monospace;\n",
              "  background-color: var(--sklearn-color-background);\n",
              "  border-radius: 1rem;\n",
              "  height: 1rem;\n",
              "  width: 1rem;\n",
              "  text-decoration: none;\n",
              "  /* unfitted */\n",
              "  color: var(--sklearn-color-unfitted-level-1);\n",
              "  border: var(--sklearn-color-unfitted-level-1) 1pt solid;\n",
              "}\n",
              "\n",
              "#sk-container-id-3 a.estimator_doc_link.fitted {\n",
              "  /* fitted */\n",
              "  border: var(--sklearn-color-fitted-level-1) 1pt solid;\n",
              "  color: var(--sklearn-color-fitted-level-1);\n",
              "}\n",
              "\n",
              "/* On hover */\n",
              "#sk-container-id-3 a.estimator_doc_link:hover {\n",
              "  /* unfitted */\n",
              "  background-color: var(--sklearn-color-unfitted-level-3);\n",
              "  color: var(--sklearn-color-background);\n",
              "  text-decoration: none;\n",
              "}\n",
              "\n",
              "#sk-container-id-3 a.estimator_doc_link.fitted:hover {\n",
              "  /* fitted */\n",
              "  background-color: var(--sklearn-color-fitted-level-3);\n",
              "}\n",
              "</style><div id=\"sk-container-id-3\" class=\"sk-top-container\"><div class=\"sk-text-repr-fallback\"><pre>SVC(class_weight=&#x27;balanced&#x27;, kernel=&#x27;linear&#x27;)</pre><b>In a Jupyter environment, please rerun this cell to show the HTML representation or trust the notebook. <br />On GitHub, the HTML representation is unable to render, please try loading this page with nbviewer.org.</b></div><div class=\"sk-container\" hidden><div class=\"sk-item\"><div class=\"sk-estimator fitted sk-toggleable\"><input class=\"sk-toggleable__control sk-hidden--visually\" id=\"sk-estimator-id-3\" type=\"checkbox\" checked><label for=\"sk-estimator-id-3\" class=\"sk-toggleable__label fitted sk-toggleable__label-arrow\"><div><div>SVC</div></div><div><a class=\"sk-estimator-doc-link fitted\" rel=\"noreferrer\" target=\"_blank\" href=\"https://scikit-learn.org/1.6/modules/generated/sklearn.svm.SVC.html\">?<span>Documentation for SVC</span></a><span class=\"sk-estimator-doc-link fitted\">i<span>Fitted</span></span></div></label><div class=\"sk-toggleable__content fitted\"><pre>SVC(class_weight=&#x27;balanced&#x27;, kernel=&#x27;linear&#x27;)</pre></div> </div></div></div></div>"
            ]
          },
          "metadata": {},
          "execution_count": 91
        }
      ]
    },
    {
      "cell_type": "code",
      "source": [
        "# Prediksi\n",
        "prediksi_latih_ngram = linear_svm_ngram.predict(texts_ngram_train)\n",
        "prediksi_uji_ngram = linear_svm_ngram.predict(texts_ngram_test)"
      ],
      "metadata": {
        "id": "InpmHwdfx7Hb"
      },
      "execution_count": 92,
      "outputs": []
    },
    {
      "cell_type": "markdown",
      "source": [
        "Evaluasi Model SVM dengan N-Gram"
      ],
      "metadata": {
        "id": "06CkYyA9x810"
      }
    },
    {
      "cell_type": "code",
      "source": [
        "# Confusion Matrix\n",
        "cm_latih_ngram = confusion_matrix(label_train_ngram, prediksi_latih_ngram)\n",
        "cm_uji_ngram = confusion_matrix(label_test_ngram, prediksi_uji_ngram)\n",
        "\n",
        "# Cetak Laporan Klasifikasi\n",
        "print(\"=== Evaluasi Model SVM Linear dengan N-Gram ===\")\n",
        "\n",
        "print(\"\\nClassification Report (Data Latih):\")\n",
        "print(classification_report(label_train_ngram, prediksi_latih_ngram))\n",
        "\n",
        "print(\"\\nClassification Report (Data Uji):\")\n",
        "print(classification_report(label_test_ngram, prediksi_uji_ngram))\n",
        "\n",
        "# Visualisasi Confusion Matrix\n",
        "plt.figure(figsize=(16, 6))\n",
        "\n",
        "# Confusion Matrix Data Latih\n",
        "plt.subplot(1, 2, 1)\n",
        "sns.heatmap(cm_latih_ngram, annot=True, fmt=\"d\", cmap=\"Blues\",\n",
        "            square=True, cbar=False)\n",
        "plt.title(\"Confusion Matrix N-Gram SVM\\n(Data Latih)\")\n",
        "plt.xlabel(\"Label Prediksi\")\n",
        "plt.ylabel(\"Label Sebenarnya\")\n",
        "\n",
        "# Confusion Matrix Data Uji\n",
        "plt.subplot(1, 2, 2)\n",
        "sns.heatmap(cm_uji_ngram, annot=True, fmt=\"d\", cmap=\"Blues\",\n",
        "            square=True, cbar=False)\n",
        "plt.title(\"Confusion Matrix N-Gram SVM\\n(Data Uji)\")\n",
        "plt.xlabel(\"Label Prediksi\")\n",
        "plt.ylabel(\"Label Sebenarnya\")\n",
        "\n",
        "plt.tight_layout()\n",
        "plt.show()"
      ],
      "metadata": {
        "id": "WqGmtYLPx-ct",
        "colab": {
          "base_uri": "https://localhost:8080/",
          "height": 1000
        },
        "outputId": "f82986a2-052f-4412-9c2d-621dc903d04a"
      },
      "execution_count": 93,
      "outputs": [
        {
          "output_type": "stream",
          "name": "stdout",
          "text": [
            "=== Evaluasi Model SVM Linear dengan N-Gram ===\n",
            "\n",
            "Classification Report (Data Latih):\n",
            "              precision    recall  f1-score   support\n",
            "\n",
            "     negatif       0.82      0.96      0.88      1349\n",
            "      netral       0.93      0.94      0.94      4865\n",
            "     positif       0.99      0.96      0.98      9783\n",
            "\n",
            "    accuracy                           0.96     15997\n",
            "   macro avg       0.91      0.95      0.93     15997\n",
            "weighted avg       0.96      0.96      0.96     15997\n",
            "\n",
            "\n",
            "Classification Report (Data Uji):\n",
            "              precision    recall  f1-score   support\n",
            "\n",
            "     negatif       0.70      0.83      0.76       338\n",
            "      netral       0.86      0.90      0.88      1216\n",
            "     positif       0.98      0.94      0.96      2446\n",
            "\n",
            "    accuracy                           0.92      4000\n",
            "   macro avg       0.85      0.89      0.86      4000\n",
            "weighted avg       0.92      0.92      0.92      4000\n",
            "\n"
          ]
        },
        {
          "output_type": "display_data",
          "data": {
            "text/plain": [
              "<Figure size 1600x600 with 2 Axes>"
            ],
            "image/png": "[encoded data removed]"
          },
          "metadata": {}
        }
      ]
    },
    {
      "cell_type": "markdown",
      "source": [
        "Menyimpan Model"
      ],
      "metadata": {
        "id": "edDZbG67yAAr"
      }
    },
    {
      "cell_type": "code",
      "source": [
        "# Simpan Model TF-IDF\n",
        "with open('tfidf_vectorizer.pkl', 'wb') as f:\n",
        "    pickle.dump(tfidf, f)\n",
        "\n",
        "# Simpan Model SVM x TF-IDF (80/20)\n",
        "with open('svm_tfidf_8020_model.pkl', 'wb') as f:\n",
        "    pickle.dump(svm_model, f)\n",
        "\n",
        "# Simpan Model SVM x TF-IDF (60/40)\n",
        "with open(\"svm_tfidf_6040_model.pkl\", \"wb\") as f:\n",
        "    pickle.dump(svm_model2, f)\n",
        "\n",
        "# Simpan Model RF x TF-IDF (70/30)\n",
        "with open(\"rf_tfidf_7030_model.pkl\", \"wb\") as f:\n",
        "    pickle.dump(rf_model, f)\n",
        "\n",
        "# Simpan Model RF x TF-IDF (80/20)\n",
        "with open(\"rf_tfidf_8020_model.pkl\", \"wb\") as f:\n",
        "    pickle.dump(rf_model2, f)\n",
        "\n",
        "# Simpan Model LSTM x TF-IDF (80/20)\n",
        "model_lstm.save(\"lstm_tfidf_702010_model.h5\")\n",
        "\n",
        "# Simpan Model Bag of Words\n",
        "with open('bow_vectorizer.pkl', 'wb') as f:\n",
        "    pickle.dump(BOWVectorizer, f)\n",
        "\n",
        "# Simpan Model N-Gram\n",
        "with open(\"ngram_model.pkl\", \"wb\") as f:\n",
        "    pickle.dump(NGramVectorizer, f)\n",
        "\n",
        "# Simpan Model SVM x BoW (80/20)\n",
        "with open(\"svm_bow_8020_model.pkl\", \"wb\") as f:\n",
        "    pickle.dump(linear_svm_bow, f)\n",
        "\n",
        "# Simpan Model SVM x N-Gram (80/20)\n",
        "with open(\"svm_ngram_8020_model.pkl\", \"wb\") as f:\n",
        "    pickle.dump(linear_svm_ngram, f)"
      ],
      "metadata": {
        "id": "RVb74F2GyAjz",
        "colab": {
          "base_uri": "https://localhost:8080/"
        },
        "outputId": "f95cb4d2-2704-464a-e5a2-c5f4e2908a70"
      },
      "execution_count": 94,
      "outputs": [
        {
          "output_type": "stream",
          "name": "stderr",
          "text": [
            "WARNING:absl:You are saving your model as an HDF5 file via `model.save()` or `keras.saving.save_model(model)`. This file format is considered legacy. We recommend using instead the native Keras format, e.g. `model.save('my_model.keras')` or `keras.saving.save_model(model, 'my_model.keras')`. \n"
          ]
        }
      ]
    },
    {
      "cell_type": "code",
      "source": [
        "pip freeze > requirements.txt"
      ],
      "metadata": {
        "id": "IdRufgEZyFOD"
      },
      "execution_count": 95,
      "outputs": []
    },
    {
      "cell_type": "markdown",
      "metadata": {
        "id": "6de13529"
      },
      "source": [
        "\n",
        "Notebook ini melakukan analisis sentimen pada dataset ulasan aplikasi Instagram. Proses dimulai dari:\n",
        "\n",
        "1.  **Pengumpulan Data**: Mengunduh data ulasan dan kamus kata dari Google Drive.\n",
        "2.  **Data Wrangling & Cleaning**: Membersihkan data dari missing value dan melakukan berbagai tahapan text preprocessing (pembersihan karakter, case folding, tokenisasi, stemming, negation handling, normalisasi kata, dan penghapusan stopwords) untuk menyiapkan teks ulasan.\n",
        "3.  **Eksplorasi Data (EDA)**: Menganalisis distribusi rating dan panjang ulasan untuk memahami karakteristik dataset.\n",
        "4.  **Pelabelan Sentimen**: Menggunakan pendekatan berbasis lexikon (kamus kata positif dan negatif) untuk memberikan label sentimen (positif, netral, negatif) dan skor pada setiap ulasan.\n",
        "5.  **Persiapan Data & Rekayasa Fitur**: Menyiapkan data tekstual untuk model machine learning dengan mengubahnya menjadi representasi numerik menggunakan TF-IDF, Bag of Words (BoW), dan N-Gram.\n",
        "6.  **Pemodelan & Evaluasi**: Melatih dan mengevaluasi beberapa model klasifikasi sentimen, termasuk SVM dan Random Forest dengan fitur TF-IDF (dengan berbagai pembagian data seperti 80/20, 60/40, 70/30) serta model LSTM dengan fitur TF-IDF. Performa model dievaluasi menggunakan metrik seperti akurasi, precision, recall, f1-score, dan divisualisasikan melalui confusion matrix.\n",
        "7.  **Penyimpanan Model**: Menyimpan model-model yang telah dilatih dan vectorizer yang digunakan untuk penggunaan di masa mendatang.\n"
      ]
    }
  ]
}