{
  "nbformat": 4,
  "nbformat_minor": 0,
  "metadata": {
    "colab": {
      "provenance": [],
      "gpuType": "T4"
    },
    "kernelspec": {
      "name": "python3",
      "display_name": "Python 3"
    },
    "language_info": {
      "name": "python"
    },
    "accelerator": "GPU"
  },
  "cells": [
    {
      "cell_type": "markdown",
      "source": [
        "# **Data Scraping Proyek Fundamental Deep Learning**"
      ],
      "metadata": {
        "id": "rC7ijSPqeesd"
      }
    },
    {
      "cell_type": "code",
      "source": [
        "!apt-get update"
      ],
      "metadata": {
        "colab": {
          "base_uri": "https://localhost:8080/"
        },
        "id": "qxctlxhPkQ_q",
        "outputId": "1d5ca935-4d24-4da1-c9c7-92567607b7d7"
      },
      "execution_count": 1,
      "outputs": [
        {
          "output_type": "stream",
          "name": "stdout",
          "text": [
            "\r0% [Working]\r            \rHit:1 https://developer.download.nvidia.com/compute/cuda/repos/ubuntu2204/x86_64  InRelease\n",
            "Hit:2 https://cloud.r-project.org/bin/linux/ubuntu jammy-cran40/ InRelease\n",
            "Hit:3 http://security.ubuntu.com/ubuntu jammy-security InRelease\n",
            "Hit:4 https://r2u.stat.illinois.edu/ubuntu jammy InRelease\n",
            "Hit:5 https://ppa.launchpadcontent.net/deadsnakes/ppa/ubuntu jammy InRelease\n",
            "Hit:6 https://ppa.launchpadcontent.net/graphics-drivers/ppa/ubuntu jammy InRelease\n",
            "Hit:7 https://ppa.launchpadcontent.net/ubuntugis/ppa/ubuntu jammy InRelease\n",
            "Hit:8 http://archive.ubuntu.com/ubuntu jammy InRelease\n",
            "Hit:9 http://archive.ubuntu.com/ubuntu jammy-updates InRelease\n",
            "Hit:10 http://archive.ubuntu.com/ubuntu jammy-backports InRelease\n",
            "Reading package lists... Done\n",
            "W: Skipping acquire of configured file 'main/source/Sources' as repository 'https://r2u.stat.illinois.edu/ubuntu jammy InRelease' does not seem to provide it (sources.list entry misspelt?)\n"
          ]
        }
      ]
    },
    {
      "cell_type": "markdown",
      "source": [
        "Melakukan scraping ulasan aplikasi Instagram dari Google Play Store menggunakan library google-play-scraper."
      ],
      "metadata": {
        "id": "DUG4xp8RfE_s"
      }
    },
    {
      "cell_type": "code",
      "execution_count": 2,
      "metadata": {
        "colab": {
          "base_uri": "https://localhost:8080/"
        },
        "id": "S6bJD7DojnHo",
        "outputId": "900e92ac-2d95-415a-e2ac-2789702521db"
      },
      "outputs": [
        {
          "output_type": "stream",
          "name": "stdout",
          "text": [
            "Requirement already satisfied: google-play-scraper in /usr/local/lib/python3.11/dist-packages (1.2.7)\n",
            "Requirement already satisfied: pandas in /usr/local/lib/python3.11/dist-packages (2.2.2)\n",
            "Requirement already satisfied: numpy>=1.23.2 in /usr/local/lib/python3.11/dist-packages (from pandas) (2.0.2)\n",
            "Requirement already satisfied: python-dateutil>=2.8.2 in /usr/local/lib/python3.11/dist-packages (from pandas) (2.9.0.post0)\n",
            "Requirement already satisfied: pytz>=2020.1 in /usr/local/lib/python3.11/dist-packages (from pandas) (2025.2)\n",
            "Requirement already satisfied: tzdata>=2022.7 in /usr/local/lib/python3.11/dist-packages (from pandas) (2025.2)\n",
            "Requirement already satisfied: six>=1.5 in /usr/local/lib/python3.11/dist-packages (from python-dateutil>=2.8.2->pandas) (1.17.0)\n"
          ]
        }
      ],
      "source": [
        "!pip install google-play-scraper pandas"
      ]
    },
    {
      "cell_type": "code",
      "source": [
        "from google_play_scraper import app\n",
        "\n",
        "import pandas as pd\n",
        "\n",
        "import numpy as np"
      ],
      "metadata": {
        "id": "jY5n1Qp4j1jS"
      },
      "execution_count": 3,
      "outputs": []
    },
    {
      "cell_type": "code",
      "source": [
        "from google_play_scraper import app, reviews_all, Sort\n",
        "\n",
        "# Fungsi scraping ulasan aplikasi Instagram\n",
        "def scraping():\n",
        "    # Mengambil semua ulasan terbaru\n",
        "    result = reviews_all(\n",
        "        app_id='com.instagram.android',  # ID aplikasi Instagram\n",
        "        lang='id',              # Bahasa Indonesia\n",
        "        country='id',           # Lokasi Indonesia\n",
        "        count=10000,            # Jumlah maksimal ulasan yang diambil\n",
        "        sort=Sort.NEWEST        # Urutan ulasan berdasarkan yang terbaru\n",
        "    )\n",
        "\n",
        "    # Konversi ke DataFrame\n",
        "    df = pd.DataFrame(result)\n",
        "\n",
        "    # Ambil kolom isi ulasan dan rating\n",
        "    df = df[['content', 'score']]\n",
        "\n",
        "    # Simpan hasil scraping ke file CSV\n",
        "    df.to_csv(\"Instagram_review.csv\", index=False)\n",
        "    print(\"Data successfully saved to Instagram_review.csv\")"
      ],
      "metadata": {
        "id": "nkhJH0EXkbqi"
      },
      "execution_count": 4,
      "outputs": []
    },
    {
      "cell_type": "code",
      "metadata": {
        "colab": {
          "base_uri": "https://localhost:8080/"
        },
        "id": "4838c574",
        "outputId": "59c31c7a-164f-4fd9-a75d-912252455845"
      },
      "source": [
        "scraping()"
      ],
      "execution_count": 5,
      "outputs": [
        {
          "output_type": "stream",
          "name": "stdout",
          "text": [
            "Data successfully saved to Instagram_review.csv\n"
          ]
        }
      ]
    },
    {
      "cell_type": "markdown",
      "source": [
        "Mengambil 10000 ulasan terbaru dari aplikasi Instagram di Google Play Store untuk pengguna di Indonesia, kemudian menyimpan isi ulasan dan ratingnya ke dalam file CSV."
      ],
      "metadata": {
        "id": "EYBJzGuZfOY8"
      }
    }
  ]
}